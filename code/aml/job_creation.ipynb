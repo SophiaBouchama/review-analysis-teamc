{
 "cells": [
  {
   "cell_type": "markdown",
   "id": "80b2c6ff-9bff-4bba-afb1-9cfcf2922784",
   "metadata": {},
   "source": [
    "# Job creation"
   ]
  },
  {
   "cell_type": "code",
   "execution_count": 1,
   "id": "3bfedf6e-5898-4983-986d-f1366e062edd",
   "metadata": {},
   "outputs": [],
   "source": [
    "from azure.ai.ml import command, Input, MLClient, Output\n",
    "from azure.identity import DefaultAzureCredential\n",
    "from azure.ai.ml.entities import AmlCompute, Environment, Data, AzureBlobDatastore\n",
    "from dotenv import load_dotenv\n",
    "from azure.ai.ml.constants import AssetTypes, InputOutputModes\n",
    "\n",
    "import os\n",
    "from datetime import datetime"
   ]
  },
  {
   "cell_type": "code",
   "execution_count": 2,
   "id": "d121d509-5578-407b-b62c-ae14e12f8ca7",
   "metadata": {},
   "outputs": [],
   "source": [
    "load_dotenv()\n",
    "\n",
    "SUBSCRIPTION_ID = os.environ.get(\"SUBSCRIPTION_ID\")\n",
    "RESOURCE_GROUP = os.environ.get(\"RESOURCE_GROUP\")\n",
    "WORKSPACE_NAME = os.environ.get(\"WORKSPACE_NAME\")\n",
    "DATASTORE_NAME = os.environ.get(\"DATASTORE_NAME\")\n",
    "ACCOUNT_NAME = os.environ.get(\"ACCOUNT_NAME\")\n",
    "CONTAINER_NAME = os.environ.get(\"CONTAINER_NAME\")\n",
    "COMPUTE_CLUSTER_NAME = os.environ.get(\"COMPUTE_NAME\")\n",
    "LOCATION = os.environ.get(\"LOCATION\")\n",
    "CONNECTION_KEY = os.environ.get(\"CONNECTION_KEY\")\n",
    "DATASET_NAME= os.environ.get(\"DATASET_NAME\")"
   ]
  },
  {
   "cell_type": "code",
   "execution_count": 4,
   "id": "822caf4f-9bb4-4e4d-af5a-94fa352f764d",
   "metadata": {},
   "outputs": [],
   "source": [
    "# connect to AML\n",
    "ml_client = MLClient(\n",
    "    DefaultAzureCredential(),\n",
    "    SUBSCRIPTION_ID,\n",
    "    RESOURCE_GROUP,\n",
    "    WORKSPACE_NAME\n",
    ")"
   ]
  },
  {
   "cell_type": "code",
   "execution_count": 5,
   "id": "1c079e7d-e15f-4ead-9a91-a6169b5735be",
   "metadata": {},
   "outputs": [
    {
     "data": {
      "text/plain": [
       "'azureml://subscriptions/8af766d1-2a08-48cd-8f6e-71c0ecdf262f/resourcegroups/prof-cs-rg/workspaces/worksp-proj-cs/datastores/dstoreprojcs/paths/UI/2024-04-03_132507_UTC/processed_reviews.csv'"
      ]
     },
     "execution_count": 5,
     "metadata": {},
     "output_type": "execute_result"
    }
   ],
   "source": [
    "# get prepared dataset (should be saved as data asset inside the workspace )\n",
    "data_asset = ml_client.data.get(name=\"review-prepped\", version=\"1\")\n",
    "data_asset.path"
   ]
  },
  {
   "cell_type": "code",
   "execution_count": 7,
   "id": "835446ad-cd92-4745-b47e-54ee9f25c306",
   "metadata": {},
   "outputs": [
    {
     "name": "stdout",
     "output_type": "stream",
     "text": [
      "Monitor the job here :  https://ml.azure.com/runs/quiet_coat_fk0dcqvwjd?wsid=/subscriptions/8af766d1-2a08-48cd-8f6e-71c0ecdf262f/resourcegroups/prof-cs-rg/workspaces/worksp-proj-cs&tid=cf36141c-ddd7-45a7-b073-111f66d0b30c\n"
     ]
    }
   ],
   "source": [
    "# example to train a job in AML - it works\n",
    "job = command(\n",
    "    inputs=dict(\n",
    "        prep_data=data_asset.path,\n",
    "        registered_model_name=\"naive_bayes_baseline\"\n",
    "    ),\n",
    "    code=\"src/train\",\n",
    "    command=\"python train.py --prep_data ${{inputs.prep_data}} --registered_model_name ${{inputs.registered_model_name}}\",\n",
    "    environment=\"keras-env@latest\",\n",
    "    experiment_name=\"reviews_analysis__train\",\n",
    "    display_name=\"amazon_reviews__train\",\n",
    "    compute=COMPUTE_CLUSTER_NAME\n",
    ")\n",
    "\n",
    "returned_job = ml_client.create_or_update(job)\n",
    "aml_url = returned_job.studio_url\n",
    "print(\"Monitor the job here : \", aml_url)"
   ]
  },
  {
   "cell_type": "code",
   "execution_count": null,
   "id": "3673846a",
   "metadata": {},
   "outputs": [],
   "source": []
  }
 ],
 "metadata": {
  "kernelspec": {
   "display_name": "Python 3",
   "language": "python",
   "name": "python3"
  },
  "language_info": {
   "codemirror_mode": {
    "name": "ipython",
    "version": 3
   },
   "file_extension": ".py",
   "mimetype": "text/x-python",
   "name": "python",
   "nbconvert_exporter": "python",
   "pygments_lexer": "ipython3",
   "version": "3.10.11"
  }
 },
 "nbformat": 4,
 "nbformat_minor": 5
}
