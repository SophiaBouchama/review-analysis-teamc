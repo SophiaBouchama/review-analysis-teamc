{
 "cells": [
  {
   "cell_type": "markdown",
   "id": "80b2c6ff-9bff-4bba-afb1-9cfcf2922784",
   "metadata": {},
   "source": [
    "# Job creation"
   ]
  },
  {
   "cell_type": "code",
   "execution_count": 1,
   "id": "3bfedf6e-5898-4983-986d-f1366e062edd",
   "metadata": {},
   "outputs": [],
   "source": [
    "from azure.ai.ml import command, Input, MLClient, Output\n",
    "from azure.identity import DefaultAzureCredential\n",
    "from azure.ai.ml.entities import AmlCompute, Environment, Data, AzureBlobDatastore\n",
    "from dotenv import load_dotenv\n",
    "from azure.ai.ml.constants import AssetTypes, InputOutputModes\n",
    "\n",
    "import os"
   ]
  },
  {
   "cell_type": "code",
   "execution_count": 2,
   "id": "d121d509-5578-407b-b62c-ae14e12f8ca7",
   "metadata": {},
   "outputs": [],
   "source": [
    "load_dotenv()\n",
    "\n",
    "SUBSCRIPTION_ID = os.environ.get(\"SUBSCRIPTION_ID\")\n",
    "RESOURCE_GROUP = os.environ.get(\"RESOURCE_GROUP\")\n",
    "WORKSPACE_NAME = os.environ.get(\"WORKSPACE_NAME\")\n",
    "DATASTORE_NAME = os.environ.get(\"DATASTORE_NAME\")\n",
    "ACCOUNT_NAME = os.environ.get(\"ACCOUNT_NAME\")\n",
    "CONTAINER_NAME = os.environ.get(\"CONTAINER_NAME\")\n",
    "COMPUTE_CLUSTER_NAME = os.environ.get(\"COMPUTE_NAME\")\n",
    "LOCATION = os.environ.get(\"LOCATION\")\n",
    "CONNECTION_KEY = os.environ.get(\"CONNECTION_KEY\")\n",
    "DATASET_NAME= os.environ.get(\"DATASET_NAME\")"
   ]
  },
  {
   "cell_type": "code",
   "execution_count": 3,
   "id": "0e0c5c70-e1f1-4c21-82cc-5fc99849702e",
   "metadata": {},
   "outputs": [
    {
     "data": {
      "text/plain": [
       "'aml-review-analysis-teamc1'"
      ]
     },
     "execution_count": 3,
     "metadata": {},
     "output_type": "execute_result"
    }
   ],
   "source": [
    "WORKSPACE_NAME"
   ]
  },
  {
   "cell_type": "code",
   "execution_count": 4,
   "id": "822caf4f-9bb4-4e4d-af5a-94fa352f764d",
   "metadata": {},
   "outputs": [],
   "source": [
    "# connect to AML\n",
    "ml_client = MLClient(\n",
    "    DefaultAzureCredential(),\n",
    "    SUBSCRIPTION_ID,\n",
    "    RESOURCE_GROUP,\n",
    "    WORKSPACE_NAME\n",
    ")"
   ]
  },
  {
   "cell_type": "code",
   "execution_count": 5,
   "id": "5074e98c-2976-452e-9f2d-7e9339487993",
   "metadata": {},
   "outputs": [],
   "source": [
    "# get path where data is stored in AML\n",
    "datastore_uri = ml_client.data.get(name=\"amazon_reviews_folder\", version=\"1\")"
   ]
  },
  {
   "cell_type": "code",
   "execution_count": 6,
   "id": "22e77def-6eee-45d1-ab2d-863f67f437e1",
   "metadata": {},
   "outputs": [
    {
     "name": "stdout",
     "output_type": "stream",
     "text": [
      "(UserError) Data version reviews:raw (dataContainerName:version) not found.\n",
      "Code: UserError\n",
      "Message: Data version reviews:raw (dataContainerName:version) not found.\n"
     ]
    },
    {
     "name": "stderr",
     "output_type": "stream",
     "text": [
      "\u001b[32mUploading reviews.csv\u001b[32m (< 1 MB): 226MB [00:11, 19.1MB/s]                                                                \u001b[0m\n",
      "\u001b[39m\n",
      "\n"
     ]
    },
    {
     "name": "stdout",
     "output_type": "stream",
     "text": [
      "Data asset created. Name: reviews, version: raw\n"
     ]
    }
   ],
   "source": [
    "reviews_path = \"../../data/reviews.csv\"\n",
    "\n",
    "reviews = Data(\n",
    "    path=reviews_path,\n",
    "    type=AssetTypes.URI_FILE,\n",
    "    description=\"amazon reviews file\",\n",
    "    name=\"reviews\",\n",
    "    version=\"raw\"\n",
    ")\n",
    "\n",
    "try:\n",
    "    data_asset = ml_client.data.get(name=\"reviews\", version=\"raw\")\n",
    "    print(\n",
    "        f\"Data asset already exists. Name: {reviews.name}, version: {reviews.version}\"\n",
    "    )\n",
    "except Exception as e:\n",
    "    print(e)\n",
    "    ml_client.data.create_or_update(reviews)\n",
    "    print(f\"Data asset created. Name: {reviews.name}, version: {reviews.version}\")"
   ]
  },
  {
   "cell_type": "code",
   "execution_count": 7,
   "id": "27264fed-3eba-4d69-9332-2f0929024223",
   "metadata": {},
   "outputs": [],
   "source": [
    "data_asset = ml_client.data.get(name=\"reviews\", version=\"raw\")"
   ]
  },
  {
   "cell_type": "code",
   "execution_count": 8,
   "id": "b5f8b21f-29b0-49f8-9e57-ab933dae2eaa",
   "metadata": {},
   "outputs": [],
   "source": [
    "# save data \n",
    "data_type = AssetTypes.URI_FOLDER\n",
    "output_path = f\"{datastore_uri.path}\"\n",
    "output_mode = InputOutputModes.RW_MOUNT\n",
    "outputs = {\n",
    "    \"output_data\": Output(type=data_type, \n",
    "                          path=output_path, \n",
    "                          mode=output_mode,\n",
    "                  )\n",
    "}"
   ]
  },
  {
   "cell_type": "code",
   "execution_count": 9,
   "id": "32b73135-6742-4fcd-8e1d-a4be1b019761",
   "metadata": {},
   "outputs": [
    {
     "name": "stderr",
     "output_type": "stream",
     "text": [
      "Class AutoDeleteSettingSchema: This is an experimental class, and may change at any time. Please see https://aka.ms/azuremlexperimental for more information.\n",
      "Class AutoDeleteConditionSchema: This is an experimental class, and may change at any time. Please see https://aka.ms/azuremlexperimental for more information.\n",
      "Class BaseAutoDeleteSettingSchema: This is an experimental class, and may change at any time. Please see https://aka.ms/azuremlexperimental for more information.\n",
      "Class IntellectualPropertySchema: This is an experimental class, and may change at any time. Please see https://aka.ms/azuremlexperimental for more information.\n",
      "Class ProtectionLevelSchema: This is an experimental class, and may change at any time. Please see https://aka.ms/azuremlexperimental for more information.\n",
      "Class BaseIntellectualPropertySchema: This is an experimental class, and may change at any time. Please see https://aka.ms/azuremlexperimental for more information.\n",
      "\u001b[32mUploading prep (0.02 MBs): 100%|##############################################| 16836/16836 [00:00<00:00, 18574.46it/s]\u001b[0m\n",
      "\u001b[39m\n",
      "\n"
     ]
    },
    {
     "name": "stdout",
     "output_type": "stream",
     "text": [
      "Monitor the job here :  https://ml.azure.com/runs/placid_rail_0zn4l4tt6x?wsid=/subscriptions/ce96fbca-fc23-466f-87e4-9b8cb5316116/resourcegroups/rg-review-analysis-teamc/workspaces/aml-review-analysis-teamc1&tid=65810625-201f-44a9-ba8a-3af31d76a870\n"
     ]
    }
   ],
   "source": [
    "# example to prep data in AML\n",
    "job = command(\n",
    "    inputs=dict(\n",
    "        raw_data=data_asset.path,\n",
    "        prep_data=\"reviews-prepped.csv\"\n",
    "    ),\n",
    "    outputs=outputs,\n",
    "    code=\"src/prep\",\n",
    "    command=\"python prep.py --raw_data ${{inputs.raw_data}} --prep_data ${{inputs.prep_data}}\",\n",
    "    environment=\"keras-env@latest\",\n",
    "    experiment_name=\"reviews_analysis__prep\",\n",
    "    display_name=\"amazon_reviews__prep\",\n",
    "    compute=\"cpu-cluster\"\n",
    ")\n",
    "\n",
    "returned_job = ml_client.create_or_update(job)\n",
    "aml_url = returned_job.studio_url\n",
    "print(\"Monitor the job here : \", aml_url)"
   ]
  },
  {
   "cell_type": "code",
   "execution_count": 57,
   "id": "1c079e7d-e15f-4ead-9a91-a6169b5735be",
   "metadata": {},
   "outputs": [
    {
     "data": {
      "text/plain": [
       "'azureml://subscriptions/ce96fbca-fc23-466f-87e4-9b8cb5316116/resourcegroups/rg-review-analysis-teamc/workspaces/aml-review-analysis-teamc/datastores/workspaceblobstore/paths/UI/2024-04-02_183355_UTC/reviews_preprocessed.csv'"
      ]
     },
     "execution_count": 57,
     "metadata": {},
     "output_type": "execute_result"
    }
   ],
   "source": [
    "# get prepared dataset\n",
    "data_asset = ml_client.data.get(name=\"review-prepped\", version=\"1\")\n",
    "data_asset.path"
   ]
  },
  {
   "cell_type": "code",
   "execution_count": 59,
   "id": "835446ad-cd92-4745-b47e-54ee9f25c306",
   "metadata": {},
   "outputs": [
    {
     "name": "stderr",
     "output_type": "stream",
     "text": [
      "\u001b[32mUploading train (0.0 MBs): 100%|################################################| 1549/1549 [00:00<00:00, 32544.11it/s]\u001b[0m\n",
      "\u001b[39m\n",
      "\n"
     ]
    },
    {
     "name": "stdout",
     "output_type": "stream",
     "text": [
      "Monitor the job here :  https://ml.azure.com/runs/sincere_avocado_6dgsk1vp2d?wsid=/subscriptions/ce96fbca-fc23-466f-87e4-9b8cb5316116/resourcegroups/rg-review-analysis-teamc/workspaces/aml-review-analysis-teamc&tid=cf36141c-ddd7-45a7-b073-111f66d0b30c\n"
     ]
    }
   ],
   "source": [
    "# example to train a job in AML - it works\n",
    "job = command(\n",
    "    inputs=dict(\n",
    "        prep_data=data_asset.path,\n",
    "        registered_model_name=\"naive_bayes_baseline\"\n",
    "    ),\n",
    "    code=\"src/train\",\n",
    "    command=\"python train.py --prep_data ${{inputs.prep_data}} --registered_model_name ${{inputs.registered_model_name}}\",\n",
    "    environment=\"keras-env@latest\",\n",
    "    experiment_name=\"reviews_analysis__train\",\n",
    "    display_name=\"amazon_reviews__train\",\n",
    "    compute=\"cpu-cluster\"\n",
    ")\n",
    "\n",
    "returned_job = ml_client.create_or_update(job)\n",
    "aml_url = returned_job.studio_url\n",
    "print(\"Monitor the job here : \", aml_url)"
   ]
  }
 ],
 "metadata": {
  "kernelspec": {
   "display_name": "capstone1",
   "language": "python",
   "name": "capstone1"
  },
  "language_info": {
   "codemirror_mode": {
    "name": "ipython",
    "version": 3
   },
   "file_extension": ".py",
   "mimetype": "text/x-python",
   "name": "python",
   "nbconvert_exporter": "python",
   "pygments_lexer": "ipython3",
   "version": "3.11.8"
  }
 },
 "nbformat": 4,
 "nbformat_minor": 5
}
