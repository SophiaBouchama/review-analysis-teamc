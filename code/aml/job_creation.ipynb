{
 "cells": [
  {
   "cell_type": "markdown",
   "id": "80b2c6ff-9bff-4bba-afb1-9cfcf2922784",
   "metadata": {},
   "source": [
    "# Job creation"
   ]
  },
  {
   "cell_type": "code",
   "execution_count": 4,
   "id": "3bfedf6e-5898-4983-986d-f1366e062edd",
   "metadata": {},
   "outputs": [],
   "source": [
    "from azure.ai.ml import command, Input, MLClient\n",
    "from azure.identity import DefaultAzureCredential\n",
    "from azure.ai.ml.entities import AmlCompute, Environment, Data, AzureBlobDatastore\n",
    "from dotenv import load_dotenv\n",
    "\n",
    "import os"
   ]
  },
  {
   "cell_type": "code",
   "execution_count": 5,
   "id": "d121d509-5578-407b-b62c-ae14e12f8ca7",
   "metadata": {},
   "outputs": [],
   "source": [
    "load_dotenv()\n",
    "\n",
    "SUBSCRIPTION_ID = os.environ.get(\"SUBSCRIPTION_ID\")\n",
    "RESOURCE_GROUP = os.environ.get(\"RESOURCE_GROUP\")\n",
    "WORKSPACE_NAME = os.environ.get(\"WORKSPACE_NAME\")\n",
    "DATASTORE_NAME = os.environ.get(\"DATASTORE_NAME\")\n",
    "ACCOUNT_NAME = os.environ.get(\"ACCOUNT_NAME\")\n",
    "CONTAINER_NAME = os.environ.get(\"CONTAINER_NAME\")\n",
    "COMPUTE_CLUSTER_NAME = os.environ.get(\"COMPUTE_NAME\")\n",
    "LOCATION = os.environ.get(\"LOCATION\")\n",
    "CONNECTION_KEY = os.environ.get(\"CONNECTION_KEY\")\n",
    "DATASET_NAME= os.environ.get(\"DATASET_NAME\")"
   ]
  },
  {
   "cell_type": "code",
   "execution_count": 6,
   "id": "822caf4f-9bb4-4e4d-af5a-94fa352f764d",
   "metadata": {},
   "outputs": [],
   "source": [
    "# connect to AML\n",
    "ml_client = MLClient(\n",
    "    DefaultAzureCredential(),\n",
    "    susbscription_id,\n",
    "    resource_group,\n",
    "    workspace_name\n",
    ")"
   ]
  },
  {
   "cell_type": "code",
   "execution_count": 14,
   "id": "5074e98c-2976-452e-9f2d-7e9339487993",
   "metadata": {},
   "outputs": [],
   "source": [
    "# get path where data is stored in AML\n",
    "datastore_uri = ml_client.data.get(name=\"amazon_reviews_folder\", version=\"1\")"
   ]
  },
  {
   "cell_type": "code",
   "execution_count": 17,
   "id": "32b73135-6742-4fcd-8e1d-a4be1b019761",
   "metadata": {},
   "outputs": [
    {
     "name": "stderr",
     "output_type": "stream",
     "text": [
      "\u001b[32mUploading prep (0.01 MBs): 100%|#################################################| 6770/6770 [00:01<00:00, 6410.00it/s]\u001b[0m\n",
      "\u001b[39m\n",
      "\n"
     ]
    },
    {
     "name": "stdout",
     "output_type": "stream",
     "text": [
      "Monitor the job here :  https://ml.azure.com/runs/sharp_pummelo_tfzws7456x?wsid=/subscriptions/ce96fbca-fc23-466f-87e4-9b8cb5316116/resourcegroups/rg-review-analysis-teamc/workspaces/aml-review-analysis-teamc&tid=cf36141c-ddd7-45a7-b073-111f66d0b30c\n"
     ]
    }
   ],
   "source": [
    "# example to prep data in AML\n",
    "job = command(\n",
    "    inputs=dict(\n",
    "        raw_data=f\"{datastore_uri.path}/reviews.csv\",\n",
    "        prep_data=f\"{datastore_uri.path}/reviews-prepped.csv\"\n",
    "    ),\n",
    "    code=\"src/prep\",\n",
    "    command=\"python prep.py --raw_data ${{inputs.raw_data}} --prep_data ${{inputs.prep_data}}\",\n",
    "    environment=\"keras-env@latest\",\n",
    "    experiment_name=\"reviews_analysis__prep\",\n",
    "    display_name=\"amazon_reviews__prep\",\n",
    "    compute=\"cpu-cluster\"\n",
    ")\n",
    "\n",
    "returned_job = ml_client.create_or_update(job)\n",
    "aml_url = returned_job.studio_url\n",
    "print(\"Monitor the job here : \", aml_url)"
   ]
  },
  {
   "cell_type": "code",
   "execution_count": null,
   "id": "835446ad-cd92-4745-b47e-54ee9f25c306",
   "metadata": {},
   "outputs": [],
   "source": [
    "# example to train a job in AML\n",
    "job = command(\n",
    "    inputs=dict(\n",
    "        raw_data=f\"{datastore_uri.path}/reviews-prepped.csv\",\n",
    "        prep_data=f\"{datastore_uri.path}/reviews-prepped.csv\",\n",
    "        registered_model_name=\"naive_bayes_baseline\"\n",
    "    ),\n",
    "    code=\"src/train\",\n",
    "    command=\"python train.py --raw_data ${{inputs.raw_data}} --registered_model_name ${{inputs.registered_model_name}}\",\n",
    "    environment=\"keras-env@latest\",\n",
    "    display_name=\"amazon_reviews__train\",\n",
    "    compute=\"cpu-cluster\"\n",
    ")\n",
    "\n",
    "returned_job = ml_client.create_or_update(job)\n",
    "aml_url = returned_job.studio_url\n",
    "print(\"Monitor the job here : \", aml_url)"
   ]
  }
 ],
 "metadata": {
  "kernelspec": {
   "display_name": "capstone1",
   "language": "python",
   "name": "capstone1"
  },
  "language_info": {
   "codemirror_mode": {
    "name": "ipython",
    "version": 3
   },
   "file_extension": ".py",
   "mimetype": "text/x-python",
   "name": "python",
   "nbconvert_exporter": "python",
   "pygments_lexer": "ipython3",
   "version": "3.11.8"
  }
 },
 "nbformat": 4,
 "nbformat_minor": 5
}
