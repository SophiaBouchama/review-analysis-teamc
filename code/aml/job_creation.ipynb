{
 "cells": [
  {
   "cell_type": "markdown",
   "id": "80b2c6ff-9bff-4bba-afb1-9cfcf2922784",
   "metadata": {},
   "source": [
    "# Job creation"
   ]
  },
  {
   "cell_type": "code",
   "execution_count": 1,
   "id": "3bfedf6e-5898-4983-986d-f1366e062edd",
   "metadata": {},
   "outputs": [],
   "source": [
    "from azure.ai.ml import command, Input, MLClient, Output\n",
    "from azure.identity import DefaultAzureCredential\n",
    "from azure.ai.ml.entities import AmlCompute, Environment, Data, AzureBlobDatastore\n",
    "from dotenv import load_dotenv\n",
    "from azure.ai.ml.constants import AssetTypes, InputOutputModes\n",
    "\n",
    "import os\n",
    "from datetime import datetime"
   ]
  },
  {
   "cell_type": "code",
   "execution_count": 2,
   "id": "d121d509-5578-407b-b62c-ae14e12f8ca7",
   "metadata": {},
   "outputs": [],
   "source": [
    "load_dotenv()\n",
    "\n",
    "SUBSCRIPTION_ID = os.environ.get(\"SUBSCRIPTION_ID\")\n",
    "RESOURCE_GROUP = os.environ.get(\"RESOURCE_GROUP\")\n",
    "WORKSPACE_NAME = os.environ.get(\"WORKSPACE_NAME\")"
   ]
  },
  {
   "cell_type": "code",
   "execution_count": 3,
   "id": "822caf4f-9bb4-4e4d-af5a-94fa352f764d",
   "metadata": {},
   "outputs": [],
   "source": [
    "# connect to AML\n",
    "ml_client = MLClient(\n",
    "    DefaultAzureCredential(),\n",
    "    SUBSCRIPTION_ID,\n",
    "    RESOURCE_GROUP,\n",
    "    WORKSPACE_NAME\n",
    ")"
   ]
  },
  {
   "cell_type": "code",
   "execution_count": 5,
   "id": "1c079e7d-e15f-4ead-9a91-a6169b5735be",
   "metadata": {},
   "outputs": [
    {
     "data": {
      "text/plain": [
       "'azureml://subscriptions/ce96fbca-fc23-466f-87e4-9b8cb5316116/resourcegroups/rg-review-analysis-teamc/workspaces/aml-review-analysis-teamc1/datastores/amazondatastore/paths/UI/2024-04-03_125245_UTC/reviews-prepped.csv'"
      ]
     },
     "execution_count": 5,
     "metadata": {},
     "output_type": "execute_result"
    }
   ],
   "source": [
    "# get prepared dataset (should be saved as data asset inside the workspace )\n",
    "data_asset = ml_client.data.get(name=\"reviews-preprocessed\", version=\"1\")\n",
    "data_asset.path"
   ]
  },
  {
   "cell_type": "code",
   "execution_count": null,
   "id": "09b67f30-cc24-43d9-b9d2-8ab2d18414ab",
   "metadata": {},
   "outputs": [],
   "source": []
  },
  {
   "cell_type": "code",
   "execution_count": 7,
   "id": "835446ad-cd92-4745-b47e-54ee9f25c306",
   "metadata": {},
   "outputs": [
    {
     "name": "stdout",
     "output_type": "stream",
     "text": [
      "Monitor the job here :  https://ml.azure.com/runs/wheat_tangelo_rjsvysql2k?wsid=/subscriptions/ce96fbca-fc23-466f-87e4-9b8cb5316116/resourcegroups/rg-review-analysis-teamc/workspaces/aml-review-analysis-teamc1&tid=65810625-201f-44a9-ba8a-3af31d76a870\n"
     ]
    }
   ],
   "source": [
    "# example to train a job in AML - it works\n",
    "job = command(\n",
    "    inputs=dict(\n",
    "        training_data=data_asset.path,\n",
    "        registered_model_name=\"naive_bayes_baseline\"\n",
    "    ),\n",
    "    code=\"src/train\",\n",
    "    command=\"python train.py --prep_data ${{inputs.training_data}} --registered_model_name ${{inputs.registered_model_name}}\",\n",
    "    environment=\"keras-env@latest\",\n",
    "    experiment_name=\"reviews_analysis__train\",\n",
    "    display_name=\"amazon_reviews__train\",\n",
    "    compute=\"cpu-cluster\"\n",
    ")\n",
    "\n",
    "returned_job = ml_client.create_or_update(job)\n",
    "aml_url = returned_job.studio_url\n",
    "print(\"Monitor the job here : \", aml_url)"
   ]
  }
 ],
 "metadata": {
  "kernelspec": {
   "display_name": "capstone1",
   "language": "python",
   "name": "capstone1"
  },
  "language_info": {
   "codemirror_mode": {
    "name": "ipython",
    "version": 3
   },
   "file_extension": ".py",
   "mimetype": "text/x-python",
   "name": "python",
   "nbconvert_exporter": "python",
   "pygments_lexer": "ipython3",
   "version": "3.11.8"
  }
 },
 "nbformat": 4,
 "nbformat_minor": 5
}
