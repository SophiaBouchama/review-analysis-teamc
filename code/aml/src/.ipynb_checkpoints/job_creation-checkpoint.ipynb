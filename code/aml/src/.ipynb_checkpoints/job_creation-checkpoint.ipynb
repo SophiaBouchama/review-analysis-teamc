{
 "cells": [
  {
   "cell_type": "code",
   "execution_count": 1,
   "metadata": {},
   "outputs": [],
   "source": [
    "from azure.ai.ml import command, Input, MLClient, Output\n",
    "from azure.identity import DefaultAzureCredential\n",
    "from azure.ai.ml.entities import AmlCompute, Environment, Data, AzureBlobDatastore\n",
    "from dotenv import load_dotenv\n",
    "from azure.ai.ml.constants import AssetTypes, InputOutputModes\n",
    "\n",
    "import os"
   ]
  },
  {
   "cell_type": "code",
   "execution_count": 2,
   "metadata": {},
   "outputs": [],
   "source": [
    "load_dotenv()\n",
    "\n",
    "SUBSCRIPTION_ID = os.environ.get(\"SUBSCRIPTION_ID\")\n",
    "RESOURCE_GROUP = os.environ.get(\"RESOURCE_GROUP\")\n",
    "WORKSPACE_NAME = os.environ.get(\"WORKSPACE_NAME\")"
   ]
  },
  {
   "cell_type": "code",
   "execution_count": 3,
   "metadata": {},
   "outputs": [],
   "source": [
    "# connect to AML\n",
    "ml_client = MLClient(\n",
    "    DefaultAzureCredential(),\n",
    "    SUBSCRIPTION_ID,\n",
    "    RESOURCE_GROUP,\n",
    "    WORKSPACE_NAME\n",
    ")"
   ]
  },
  {
   "cell_type": "code",
   "execution_count": 4,
   "metadata": {},
   "outputs": [
    {
     "ename": "ClientAuthenticationError",
     "evalue": "(InvalidAuthenticationTokenTenant) The access token is from the wrong issuer 'https://sts.windows.net/cf36141c-ddd7-45a7-b073-111f66d0b30c/'. It must match the tenant 'https://sts.windows.net/65810625-201f-44a9-ba8a-3af31d76a870/' associated with this subscription. Please use the authority (URL) 'https://login.windows.net/65810625-201f-44a9-ba8a-3af31d76a870' to get the token. Note, if the subscription is transferred to another tenant there is no impact to the services, but information about new tenant could take time to propagate (up to an hour). If you just transferred your subscription and see this error message, please try back later.\nCode: InvalidAuthenticationTokenTenant\nMessage: The access token is from the wrong issuer 'https://sts.windows.net/cf36141c-ddd7-45a7-b073-111f66d0b30c/'. It must match the tenant 'https://sts.windows.net/65810625-201f-44a9-ba8a-3af31d76a870/' associated with this subscription. Please use the authority (URL) 'https://login.windows.net/65810625-201f-44a9-ba8a-3af31d76a870' to get the token. Note, if the subscription is transferred to another tenant there is no impact to the services, but information about new tenant could take time to propagate (up to an hour). If you just transferred your subscription and see this error message, please try back later.",
     "output_type": "error",
     "traceback": [
      "\u001b[1;31m---------------------------------------------------------------------------\u001b[0m",
      "\u001b[1;31mClientAuthenticationError\u001b[0m                 Traceback (most recent call last)",
      "Cell \u001b[1;32mIn[4], line 2\u001b[0m\n\u001b[0;32m      1\u001b[0m \u001b[38;5;66;03m# get prepared dataset (should be saved as data asset inside the workspace )\u001b[39;00m\n\u001b[1;32m----> 2\u001b[0m data_asset \u001b[38;5;241m=\u001b[39m ml_client\u001b[38;5;241m.\u001b[39mdata\u001b[38;5;241m.\u001b[39mget(name\u001b[38;5;241m=\u001b[39m\u001b[38;5;124m\"\u001b[39m\u001b[38;5;124mrnn-model-preprocessed-sb\u001b[39m\u001b[38;5;124m\"\u001b[39m, version\u001b[38;5;241m=\u001b[39m\u001b[38;5;124m\"\u001b[39m\u001b[38;5;124m1\u001b[39m\u001b[38;5;124m\"\u001b[39m)\n\u001b[0;32m      3\u001b[0m data_asset\u001b[38;5;241m.\u001b[39mpath\n",
      "File \u001b[1;32mc:\\Users\\sophia.bouchama\\AppData\\Local\\anaconda3\\Lib\\site-packages\\azure\\ai\\ml\\_telemetry\\activity.py:285\u001b[0m, in \u001b[0;36mmonitor_with_activity.<locals>.monitor.<locals>.wrapper\u001b[1;34m(*args, **kwargs)\u001b[0m\n\u001b[0;32m    281\u001b[0m     \u001b[38;5;28;01mwith\u001b[39;00m tracer\u001b[38;5;241m.\u001b[39mspan():\n\u001b[0;32m    282\u001b[0m         \u001b[38;5;28;01mwith\u001b[39;00m log_activity(\n\u001b[0;32m    283\u001b[0m             logger\u001b[38;5;241m.\u001b[39mpackage_logger, activity_name \u001b[38;5;129;01mor\u001b[39;00m f\u001b[38;5;241m.\u001b[39m\u001b[38;5;18m__name__\u001b[39m, activity_type, custom_dimensions\n\u001b[0;32m    284\u001b[0m         ):\n\u001b[1;32m--> 285\u001b[0m             \u001b[38;5;28;01mreturn\u001b[39;00m f(\u001b[38;5;241m*\u001b[39margs, \u001b[38;5;241m*\u001b[39m\u001b[38;5;241m*\u001b[39mkwargs)\n\u001b[0;32m    286\u001b[0m \u001b[38;5;28;01melif\u001b[39;00m \u001b[38;5;28mhasattr\u001b[39m(logger, \u001b[38;5;124m\"\u001b[39m\u001b[38;5;124mpackage_logger\u001b[39m\u001b[38;5;124m\"\u001b[39m):\n\u001b[0;32m    287\u001b[0m     \u001b[38;5;28;01mwith\u001b[39;00m log_activity(logger\u001b[38;5;241m.\u001b[39mpackage_logger, activity_name \u001b[38;5;129;01mor\u001b[39;00m f\u001b[38;5;241m.\u001b[39m\u001b[38;5;18m__name__\u001b[39m, activity_type, custom_dimensions):\n",
      "File \u001b[1;32mc:\\Users\\sophia.bouchama\\AppData\\Local\\anaconda3\\Lib\\site-packages\\azure\\ai\\ml\\operations\\_data_operations.py:275\u001b[0m, in \u001b[0;36mDataOperations.get\u001b[1;34m(self, name, version, label)\u001b[0m\n\u001b[0;32m    267\u001b[0m         msg \u001b[38;5;241m=\u001b[39m \u001b[38;5;124m\"\u001b[39m\u001b[38;5;124mMust provide either version or label.\u001b[39m\u001b[38;5;124m\"\u001b[39m\n\u001b[0;32m    268\u001b[0m         \u001b[38;5;28;01mraise\u001b[39;00m ValidationException(\n\u001b[0;32m    269\u001b[0m             message\u001b[38;5;241m=\u001b[39mmsg,\n\u001b[0;32m    270\u001b[0m             target\u001b[38;5;241m=\u001b[39mErrorTarget\u001b[38;5;241m.\u001b[39mDATA,\n\u001b[1;32m   (...)\u001b[0m\n\u001b[0;32m    273\u001b[0m             error_type\u001b[38;5;241m=\u001b[39mValidationErrorType\u001b[38;5;241m.\u001b[39mMISSING_FIELD,\n\u001b[0;32m    274\u001b[0m         )\n\u001b[1;32m--> 275\u001b[0m     data_version_resource \u001b[38;5;241m=\u001b[39m \u001b[38;5;28mself\u001b[39m\u001b[38;5;241m.\u001b[39m_get(name, version)\n\u001b[0;32m    276\u001b[0m     \u001b[38;5;28;01mreturn\u001b[39;00m Data\u001b[38;5;241m.\u001b[39m_from_rest_object(data_version_resource)\n\u001b[0;32m    277\u001b[0m \u001b[38;5;28;01mexcept\u001b[39;00m (ValidationException, SchemaValidationError) \u001b[38;5;28;01mas\u001b[39;00m ex:\n",
      "File \u001b[1;32mc:\\Users\\sophia.bouchama\\AppData\\Local\\anaconda3\\Lib\\site-packages\\azure\\ai\\ml\\operations\\_data_operations.py:204\u001b[0m, in \u001b[0;36mDataOperations._get\u001b[1;34m(self, name, version)\u001b[0m\n\u001b[0;32m    193\u001b[0m \u001b[38;5;28;01mdef\u001b[39;00m \u001b[38;5;21m_get\u001b[39m(\u001b[38;5;28mself\u001b[39m, name: Optional[\u001b[38;5;28mstr\u001b[39m], version: Optional[\u001b[38;5;28mstr\u001b[39m] \u001b[38;5;241m=\u001b[39m \u001b[38;5;28;01mNone\u001b[39;00m) \u001b[38;5;241m-\u001b[39m\u001b[38;5;241m>\u001b[39m Data:\n\u001b[0;32m    194\u001b[0m     \u001b[38;5;28;01mif\u001b[39;00m version:\n\u001b[0;32m    195\u001b[0m         \u001b[38;5;28;01mreturn\u001b[39;00m (\n\u001b[0;32m    196\u001b[0m             \u001b[38;5;28mself\u001b[39m\u001b[38;5;241m.\u001b[39m_operation\u001b[38;5;241m.\u001b[39mget(\n\u001b[0;32m    197\u001b[0m                 name\u001b[38;5;241m=\u001b[39mname,\n\u001b[0;32m    198\u001b[0m                 version\u001b[38;5;241m=\u001b[39mversion,\n\u001b[0;32m    199\u001b[0m                 registry_name\u001b[38;5;241m=\u001b[39m\u001b[38;5;28mself\u001b[39m\u001b[38;5;241m.\u001b[39m_registry_name,\n\u001b[0;32m    200\u001b[0m                 \u001b[38;5;241m*\u001b[39m\u001b[38;5;241m*\u001b[39m\u001b[38;5;28mself\u001b[39m\u001b[38;5;241m.\u001b[39m_scope_kwargs,\n\u001b[0;32m    201\u001b[0m                 \u001b[38;5;241m*\u001b[39m\u001b[38;5;241m*\u001b[39m\u001b[38;5;28mself\u001b[39m\u001b[38;5;241m.\u001b[39m_init_kwargs,\n\u001b[0;32m    202\u001b[0m             )\n\u001b[0;32m    203\u001b[0m             \u001b[38;5;28;01mif\u001b[39;00m \u001b[38;5;28mself\u001b[39m\u001b[38;5;241m.\u001b[39m_registry_name\n\u001b[1;32m--> 204\u001b[0m             \u001b[38;5;28;01melse\u001b[39;00m \u001b[38;5;28mself\u001b[39m\u001b[38;5;241m.\u001b[39m_operation\u001b[38;5;241m.\u001b[39mget(\n\u001b[0;32m    205\u001b[0m                 resource_group_name\u001b[38;5;241m=\u001b[39m\u001b[38;5;28mself\u001b[39m\u001b[38;5;241m.\u001b[39m_resource_group_name,\n\u001b[0;32m    206\u001b[0m                 workspace_name\u001b[38;5;241m=\u001b[39m\u001b[38;5;28mself\u001b[39m\u001b[38;5;241m.\u001b[39m_workspace_name,\n\u001b[0;32m    207\u001b[0m                 name\u001b[38;5;241m=\u001b[39mname,\n\u001b[0;32m    208\u001b[0m                 version\u001b[38;5;241m=\u001b[39mversion,\n\u001b[0;32m    209\u001b[0m                 \u001b[38;5;241m*\u001b[39m\u001b[38;5;241m*\u001b[39m\u001b[38;5;28mself\u001b[39m\u001b[38;5;241m.\u001b[39m_init_kwargs,\n\u001b[0;32m    210\u001b[0m             )\n\u001b[0;32m    211\u001b[0m         )\n\u001b[0;32m    212\u001b[0m     \u001b[38;5;28;01mreturn\u001b[39;00m (\n\u001b[0;32m    213\u001b[0m         \u001b[38;5;28mself\u001b[39m\u001b[38;5;241m.\u001b[39m_container_operation\u001b[38;5;241m.\u001b[39mget(\n\u001b[0;32m    214\u001b[0m             name\u001b[38;5;241m=\u001b[39mname,\n\u001b[1;32m   (...)\u001b[0m\n\u001b[0;32m    225\u001b[0m         )\n\u001b[0;32m    226\u001b[0m     )\n",
      "File \u001b[1;32mc:\\Users\\sophia.bouchama\\AppData\\Local\\anaconda3\\Lib\\site-packages\\azure\\core\\tracing\\decorator.py:78\u001b[0m, in \u001b[0;36mdistributed_trace.<locals>.decorator.<locals>.wrapper_use_tracer\u001b[1;34m(*args, **kwargs)\u001b[0m\n\u001b[0;32m     76\u001b[0m span_impl_type \u001b[38;5;241m=\u001b[39m settings\u001b[38;5;241m.\u001b[39mtracing_implementation()\n\u001b[0;32m     77\u001b[0m \u001b[38;5;28;01mif\u001b[39;00m span_impl_type \u001b[38;5;129;01mis\u001b[39;00m \u001b[38;5;28;01mNone\u001b[39;00m:\n\u001b[1;32m---> 78\u001b[0m     \u001b[38;5;28;01mreturn\u001b[39;00m func(\u001b[38;5;241m*\u001b[39margs, \u001b[38;5;241m*\u001b[39m\u001b[38;5;241m*\u001b[39mkwargs)\n\u001b[0;32m     80\u001b[0m \u001b[38;5;66;03m# Merge span is parameter is set, but only if no explicit parent are passed\u001b[39;00m\n\u001b[0;32m     81\u001b[0m \u001b[38;5;28;01mif\u001b[39;00m merge_span \u001b[38;5;129;01mand\u001b[39;00m \u001b[38;5;129;01mnot\u001b[39;00m passed_in_parent:\n",
      "File \u001b[1;32mc:\\Users\\sophia.bouchama\\AppData\\Local\\anaconda3\\Lib\\site-packages\\azure\\ai\\ml\\_restclient\\v2023_04_01_preview\\operations\\_data_versions_operations.py:487\u001b[0m, in \u001b[0;36mDataVersionsOperations.get\u001b[1;34m(self, resource_group_name, workspace_name, name, version, **kwargs)\u001b[0m\n\u001b[0;32m    484\u001b[0m response \u001b[38;5;241m=\u001b[39m pipeline_response\u001b[38;5;241m.\u001b[39mhttp_response\n\u001b[0;32m    486\u001b[0m \u001b[38;5;28;01mif\u001b[39;00m response\u001b[38;5;241m.\u001b[39mstatus_code \u001b[38;5;129;01mnot\u001b[39;00m \u001b[38;5;129;01min\u001b[39;00m [\u001b[38;5;241m200\u001b[39m]:\n\u001b[1;32m--> 487\u001b[0m     map_error(status_code\u001b[38;5;241m=\u001b[39mresponse\u001b[38;5;241m.\u001b[39mstatus_code, response\u001b[38;5;241m=\u001b[39mresponse, error_map\u001b[38;5;241m=\u001b[39merror_map)\n\u001b[0;32m    488\u001b[0m     error \u001b[38;5;241m=\u001b[39m \u001b[38;5;28mself\u001b[39m\u001b[38;5;241m.\u001b[39m_deserialize\u001b[38;5;241m.\u001b[39mfailsafe_deserialize(_models\u001b[38;5;241m.\u001b[39mErrorResponse, pipeline_response)\n\u001b[0;32m    489\u001b[0m     \u001b[38;5;28;01mraise\u001b[39;00m HttpResponseError(response\u001b[38;5;241m=\u001b[39mresponse, model\u001b[38;5;241m=\u001b[39merror, error_format\u001b[38;5;241m=\u001b[39mARMErrorFormat)\n",
      "File \u001b[1;32mc:\\Users\\sophia.bouchama\\AppData\\Local\\anaconda3\\Lib\\site-packages\\azure\\core\\exceptions.py:164\u001b[0m, in \u001b[0;36mmap_error\u001b[1;34m(status_code, response, error_map)\u001b[0m\n\u001b[0;32m    162\u001b[0m     \u001b[38;5;28;01mreturn\u001b[39;00m\n\u001b[0;32m    163\u001b[0m error \u001b[38;5;241m=\u001b[39m error_type(response\u001b[38;5;241m=\u001b[39mresponse)\n\u001b[1;32m--> 164\u001b[0m \u001b[38;5;28;01mraise\u001b[39;00m error\n",
      "\u001b[1;31mClientAuthenticationError\u001b[0m: (InvalidAuthenticationTokenTenant) The access token is from the wrong issuer 'https://sts.windows.net/cf36141c-ddd7-45a7-b073-111f66d0b30c/'. It must match the tenant 'https://sts.windows.net/65810625-201f-44a9-ba8a-3af31d76a870/' associated with this subscription. Please use the authority (URL) 'https://login.windows.net/65810625-201f-44a9-ba8a-3af31d76a870' to get the token. Note, if the subscription is transferred to another tenant there is no impact to the services, but information about new tenant could take time to propagate (up to an hour). If you just transferred your subscription and see this error message, please try back later.\nCode: InvalidAuthenticationTokenTenant\nMessage: The access token is from the wrong issuer 'https://sts.windows.net/cf36141c-ddd7-45a7-b073-111f66d0b30c/'. It must match the tenant 'https://sts.windows.net/65810625-201f-44a9-ba8a-3af31d76a870/' associated with this subscription. Please use the authority (URL) 'https://login.windows.net/65810625-201f-44a9-ba8a-3af31d76a870' to get the token. Note, if the subscription is transferred to another tenant there is no impact to the services, but information about new tenant could take time to propagate (up to an hour). If you just transferred your subscription and see this error message, please try back later."
     ]
    }
   ],
   "source": [
    "# get prepared dataset (should be saved as data asset inside the workspace )\n",
    "data_asset = ml_client.data.get(name=\"rnn-model-preprocessed-sb\", version=\"1\")\n",
    "data_asset.path"
   ]
  },
  {
   "cell_type": "code",
   "execution_count": null,
   "metadata": {},
   "outputs": [],
   "source": [
    "# example to train a job in AML - it works\n",
    "job = command(\n",
    "    inputs=dict(\n",
    "        training_data=data_asset.path,\n",
    "        registered_model_name=\"naive_bayes_baseline\"\n",
    "    ),\n",
    "    code=\"src/train\",\n",
    "    command=\"python train.py --prep_data ${{inputs.training_data}} --registered_model_name ${{inputs.registered_model_name}}\",\n",
    "    environment=\"keras-env@latest\",\n",
    "    experiment_name=\"reviews_analysis__train\",\n",
    "    display_name=\"amazon_reviews__train\",\n",
    "    compute=\"cpu-cluster\"\n",
    ")\n",
    "\n",
    "returned_job = ml_client.create_or_update(job)\n",
    "aml_url = returned_job.studio_url\n",
    "print(\"Monitor the job here : \", aml_url)"
   ]
  }
 ],
 "metadata": {
  "kernelspec": {
   "display_name": "base",
   "language": "python",
   "name": "python3"
  },
  "language_info": {
   "codemirror_mode": {
    "name": "ipython",
    "version": 3
   },
   "file_extension": ".py",
   "mimetype": "text/x-python",
   "name": "python",
   "nbconvert_exporter": "python",
   "pygments_lexer": "ipython3",
   "version": "3.11.7"
  }
 },
 "nbformat": 4,
 "nbformat_minor": 2
}
