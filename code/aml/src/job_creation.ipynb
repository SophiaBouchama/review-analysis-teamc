{
 "cells": [
  {
   "cell_type": "code",
   "execution_count": 7,
   "metadata": {},
   "outputs": [],
   "source": [
    "from azure.ai.ml import command, Input, MLClient, Output\n",
    "from azure.identity import DefaultAzureCredential\n",
    "from azure.ai.ml.entities import AmlCompute, Environment, Data, AzureBlobDatastore\n",
    "from dotenv import load_dotenv\n",
    "from azure.ai.ml.constants import AssetTypes, InputOutputModes\n",
    "\n",
    "import os"
   ]
  },
  {
   "cell_type": "code",
   "execution_count": 8,
   "metadata": {},
   "outputs": [],
   "source": [
    "load_dotenv()\n",
    "\n",
    "SUBSCRIPTION_ID = os.environ.get(\"SUBSCRIPTION_ID\")\n",
    "RESOURCE_GROUP = os.environ.get(\"RESOURCE_GROUP\")\n",
    "WORKSPACE_NAME = os.environ.get(\"WORKSPACE_NAME\")"
   ]
  },
  {
   "cell_type": "code",
   "execution_count": 9,
   "metadata": {},
   "outputs": [],
   "source": [
    "# connect to AML\n",
    "ml_client = MLClient(\n",
    "    DefaultAzureCredential(),\n",
    "    SUBSCRIPTION_ID,\n",
    "    RESOURCE_GROUP,\n",
    "    WORKSPACE_NAME\n",
    ")"
   ]
  },
  {
   "cell_type": "code",
   "execution_count": 10,
   "metadata": {},
   "outputs": [
    {
     "data": {
      "text/plain": [
       "'azureml://subscriptions/ce96fbca-fc23-466f-87e4-9b8cb5316116/resourcegroups/rg-review-analysis-teamc/workspaces/aml-review-analysis-teamc1/datastores/amazondatastore/paths/UI/2024-04-03_131651_UTC/preped_data.csv/'"
      ]
     },
     "execution_count": 10,
     "metadata": {},
     "output_type": "execute_result"
    }
   ],
   "source": [
    "# get prepared dataset (should be saved as data asset inside the workspace )\n",
    "data_asset = ml_client.data.get(name=\"rnn-model-preprocessed-sb\", version=\"1\")\n",
    "data_asset.path"
   ]
  },
  {
   "cell_type": "code",
   "execution_count": 14,
   "metadata": {},
   "outputs": [
    {
     "name": "stdout",
     "output_type": "stream",
     "text": [
      "Monitor the job here :  https://ml.azure.com/runs/plum_rainbow_nhkt9cg131?wsid=/subscriptions/ce96fbca-fc23-466f-87e4-9b8cb5316116/resourcegroups/rg-review-analysis-teamc/workspaces/aml-review-analysis-teamc1&tid=65810625-201f-44a9-ba8a-3af31d76a870\n"
     ]
    }
   ],
   "source": [
    "# example to train a job in AML - it works\n",
    "job = command(\n",
    "    inputs=dict(\n",
    "        training_data=data_asset.path,\n",
    "        registered_model_name=\"RNN-model-sb-1\"\n",
    "    ),\n",
    "    code=\"./train\",\n",
    "    command=\"python train.py --prep_data ${{inputs.training_data}} --registered_model_name ${{inputs.registered_model_name}}\",\n",
    "    environment=\"keras-env@latest\",\n",
    "    experiment_name=\"reviews_analysis__train\",\n",
    "    display_name=\"amazon_reviews__train\",\n",
    "    compute=\"cpu-cluster\"\n",
    ")\n",
    "\n",
    "returned_job = ml_client.create_or_update(job)\n",
    "aml_url = returned_job.studio_url\n",
    "print(\"Monitor the job here : \", aml_url)"
   ]
  },
  {
   "cell_type": "code",
   "execution_count": null,
   "metadata": {},
   "outputs": [],
   "source": []
  }
 ],
 "metadata": {
  "kernelspec": {
   "display_name": "Python 3 (ipykernel)",
   "language": "python",
   "name": "python3"
  },
  "language_info": {
   "codemirror_mode": {
    "name": "ipython",
    "version": 3
   },
   "file_extension": ".py",
   "mimetype": "text/x-python",
   "name": "python",
   "nbconvert_exporter": "python",
   "pygments_lexer": "ipython3",
   "version": "3.11.7"
  }
 },
 "nbformat": 4,
 "nbformat_minor": 4
}
