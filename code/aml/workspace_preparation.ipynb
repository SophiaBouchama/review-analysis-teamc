{
 "cells": [
  {
   "cell_type": "markdown",
   "id": "89b6a594-5a90-409f-984c-85b9dd8840c4",
   "metadata": {},
   "source": [
    "# Workspace preparation"
   ]
  },
  {
   "cell_type": "code",
   "execution_count": 2,
   "id": "47b9c5c6-203e-417e-a678-373b98c474e0",
   "metadata": {},
   "outputs": [],
   "source": [
    "from azure.ai.ml import command, Input, MLClient\n",
    "from azure.identity import DefaultAzureCredential\n",
    "from azure.ai.ml.entities import AmlCompute, Environment, Data, AzureBlobDatastore, AccountKeyConfiguration\n",
    "from azure.ai.ml.constants import AssetTypes\n",
    "from azure.storage.blob import BlobServiceClient, BlobClient, ContainerClient, generate_blob_sas, BlobSasPermissions\n",
    "\n",
    "from dotenv import load_dotenv\n",
    "\n",
    "import os"
   ]
  },
  {
   "cell_type": "code",
   "execution_count": 3,
   "id": "4adaa4d5-9899-4e7b-ba64-335b4de02d18",
   "metadata": {},
   "outputs": [],
   "source": [
    "load_dotenv()\n",
    "\n",
    "SUBSCRIPTION_ID = os.environ.get(\"SUBSCRIPTION_ID\")\n",
    "RESOURCE_GROUP = os.environ.get(\"RESOURCE_GROUP\")\n",
    "WORKSPACE_NAME = os.environ.get(\"WORKSPACE_NAME\")\n",
    "DATASTORE_NAME = os.environ.get(\"DATASTORE_NAME\")\n",
    "ACCOUNT_NAME = os.environ.get(\"ACCOUNT_NAME\")\n",
    "CONTAINER_NAME = os.environ.get(\"CONTAINER_NAME\")\n",
    "COMPUTE_CLUSTER_NAME = os.environ.get(\"COMPUTE_NAME\")\n",
    "LOCATION = os.environ.get(\"LOCATION\")\n",
    "CONNECTION_KEY = os.environ.get(\"CONNECTION_KEY\")\n",
    "ACCOUNT_KEY= os.environ.get(\"ACCOUNT_KEY\")\n",
    "DATASET_NAME= os.environ.get(\"DATASET_NAME\")"
   ]
  },
  {
   "cell_type": "code",
   "execution_count": 4,
   "id": "f8fb1521-91a8-4ff7-b477-c8442d7e22b4",
   "metadata": {},
   "outputs": [
    {
     "data": {
      "text/plain": [
       "'aml-review-analysis-teamc1'"
      ]
     },
     "execution_count": 4,
     "metadata": {},
     "output_type": "execute_result"
    }
   ],
   "source": [
    "WORKSPACE_NAME"
   ]
  },
  {
   "cell_type": "code",
   "execution_count": 5,
   "id": "c420de1d-ea20-4986-9718-674bc6b711e2",
   "metadata": {},
   "outputs": [],
   "source": [
    "ml_client = MLClient(\n",
    "    DefaultAzureCredential(),\n",
    "    SUBSCRIPTION_ID,\n",
    "    RESOURCE_GROUP,\n",
    "    WORKSPACE_NAME\n",
    ")"
   ]
  },
  {
   "cell_type": "code",
   "execution_count": 5,
   "id": "e7de7692-a8d9-48c2-84c0-06f2b9700eaa",
   "metadata": {},
   "outputs": [
    {
     "data": {
      "text/plain": [
       "<azure.core.polling._poller.LROPoller at 0x1de93019690>"
      ]
     },
     "execution_count": 5,
     "metadata": {},
     "output_type": "execute_result"
    }
   ],
   "source": [
    "# create compute cluster\n",
    "cluster_basic = AmlCompute(\n",
    "    name=COMPUTE_CLUSTER_NAME, \n",
    "    type=\"aml-compute\",\n",
    "    size=\"STANDARD_D4s_v3\",\n",
    "    location=LOCATION,\n",
    "    min_instances=0,\n",
    "    max_instances=4,\n",
    "    idle_time_before_scale_down=120,\n",
    "    tier=\"dedicated\"\n",
    ")\n",
    "\n",
    "ml_client.begin_create_or_update(cluster_basic)"
   ]
  },
  {
   "cell_type": "code",
   "execution_count": 9,
   "id": "9853d5c9-26a1-4aba-bfd9-b0254b07a9a9",
   "metadata": {},
   "outputs": [
    {
     "data": {
      "text/plain": [
       "Environment({'intellectual_property': None, 'is_anonymous': False, 'auto_increment_version': False, 'auto_delete_setting': None, 'name': 'keras-env', 'description': 'Environment for Tensorflow Experiments', 'tags': {'keras': '3.1.1'}, 'properties': {'azureml.labels': 'latest'}, 'print_as_yaml': True, 'id': '/subscriptions/ce96fbca-fc23-466f-87e4-9b8cb5316116/resourceGroups/rg-review-analysis-teamc/providers/Microsoft.MachineLearningServices/workspaces/aml-review-analysis-teamc1/environments/keras-env/versions/v7', 'Resource__source_path': None, 'base_path': 'C:\\\\Users\\\\nohossat.traore\\\\OneDrive - Avanade\\\\Documents\\\\AA - Academy\\\\capstone_project\\\\review-analysis-teamc\\\\code\\\\aml', 'creation_context': <azure.ai.ml.entities._system_data.SystemData object at 0x000001E75E1C8750>, 'serialize': <msrest.serialization.Serializer object at 0x000001E75E1D6FD0>, 'version': 'v7', 'latest_version': None, 'conda_file': {'channels': ['conda-forge'], 'dependencies': ['python=3.8', 'numpy=1.21.2', 'pip=21.2.4', 'scikit-learn=1.0.2', 'scipy=1.7.1', 'pandas>=1.1,<1.2', 'fsspec', {'pip': ['mlflow==2.8.0', 'mlflow-skinny==2.8.0', 'azureml-mlflow==1.51.0', 'psutil>=5.8,<5.9', 'tqdm>=4.59,<4.60', 'ipykernel~=6.0', 'matplotlib', 'azureml-fsspec', 'mltable', 'nltk', 'tqdm', 'tensorflow']}], 'name': 'sentiment-analysis-amazon'}, 'image': 'mcr.microsoft.com/azureml/openmpi4.1.0-cuda11.1-cudnn8-ubuntu20.04', 'build': None, 'inference_config': None, 'os_type': 'Linux', 'arm_type': 'environment_version', 'conda_file_path': None, 'path': None, 'datastore': None, 'upload_hash': None, 'translated_conda_file': '{\\n  \"channels\": [\\n    \"conda-forge\"\\n  ],\\n  \"dependencies\": [\\n    \"python=3.8\",\\n    \"numpy=1.21.2\",\\n    \"pip=21.2.4\",\\n    \"scikit-learn=1.0.2\",\\n    \"scipy=1.7.1\",\\n    \"pandas>=1.1,<1.2\",\\n    \"fsspec\",\\n    {\\n      \"pip\": [\\n        \"mlflow==2.8.0\",\\n        \"mlflow-skinny==2.8.0\",\\n        \"azureml-mlflow==1.51.0\",\\n        \"psutil>=5.8,<5.9\",\\n        \"tqdm>=4.59,<4.60\",\\n        \"ipykernel~=6.0\",\\n        \"matplotlib\",\\n        \"azureml-fsspec\",\\n        \"mltable\",\\n        \"nltk\",\\n        \"tqdm\",\\n        \"tensorflow\"\\n      ]\\n    }\\n  ],\\n  \"name\": \"sentiment-analysis-amazon\"\\n}'})"
      ]
     },
     "execution_count": 9,
     "metadata": {},
     "output_type": "execute_result"
    }
   ],
   "source": [
    "# create environment if it doesn't exist\n",
    "dependencies_dir = \"./deps\"\n",
    "custom_job_env = Environment(\n",
    "    name=\"keras-env\",\n",
    "    description=\"Environment for Tensorflow Experiments\",\n",
    "    tags={\"keras\" : \"3.1.1\"},\n",
    "    conda_file=os.path.join(dependencies_dir, \"conda.yml\"),\n",
    "    image=\"mcr.microsoft.com/azureml/openmpi4.1.0-cuda11.1-cudnn8-ubuntu20.04\",\n",
    "    version=\"v7\"\n",
    ")\n",
    "\n",
    "ml_client.create_or_update(custom_job_env)"
   ]
  },
  {
   "cell_type": "code",
   "execution_count": 7,
   "id": "9245dadc-3c61-4aac-b68d-42d7dd39032c",
   "metadata": {},
   "outputs": [],
   "source": [
    "# create container if it doesn't exist\n",
    "try:\n",
    "    blob_client = BlobServiceClient.from_connection_string(CONNECTION_KEY)\n",
    "    container_client = blob_client.create_container(name=CONTAINER_NAME)\n",
    "except Exception as e:\n",
    "    print(e)"
   ]
  },
  {
   "cell_type": "code",
   "execution_count": 8,
   "id": "0d3bd6a4-c93f-4c43-8667-aca842cbd166",
   "metadata": {},
   "outputs": [
    {
     "data": {
      "text/plain": [
       "AzureBlobDatastore({'type': <DatastoreType.AZURE_BLOB: 'AzureBlob'>, 'name': 'amazondatastore', 'description': 'Amazon Reviews datastore', 'tags': {}, 'properties': {}, 'print_as_yaml': True, 'id': '/subscriptions/ce96fbca-fc23-466f-87e4-9b8cb5316116/resourceGroups/rg-review-analysis-teamc/providers/Microsoft.MachineLearningServices/workspaces/aml-review-analysis-teamc1/datastores/amazondatastore', 'Resource__source_path': None, 'base_path': 'C:\\\\Users\\\\nohossat.traore\\\\OneDrive - Avanade\\\\Documents\\\\AA - Academy\\\\capstone_project\\\\review-analysis-teamc\\\\code\\\\aml', 'creation_context': None, 'serialize': <msrest.serialization.Serializer object at 0x000001DE9308C590>, 'credentials': {'type': 'account_key'}, 'container_name': 'amazonreviews', 'account_name': 'amlreviewanaly2790254259', 'endpoint': 'core.windows.net', 'protocol': 'https'})"
      ]
     },
     "execution_count": 8,
     "metadata": {},
     "output_type": "execute_result"
    }
   ],
   "source": [
    "# create datastore if it doesn't exist\n",
    "credentials=AccountKeyConfiguration(account_key=ACCOUNT_KEY)\n",
    "\n",
    "store = AzureBlobDatastore(\n",
    "    name=\"amazondatastore\",\n",
    "    description=\"Amazon Reviews datastore\",\n",
    "    account_name=ACCOUNT_NAME,\n",
    "    container_name=CONTAINER_NAME,\n",
    "    credentials=credentials\n",
    ")\n",
    "\n",
    "ml_client.create_or_update(store)"
   ]
  },
  {
   "cell_type": "code",
   "execution_count": 9,
   "id": "48ea3016-e334-49d7-9132-89c577241fb5",
   "metadata": {},
   "outputs": [],
   "source": [
    "# upload reviews dataset to container\n",
    "try:\n",
    "    blob_client = BlobServiceClient.from_connection_string(CONNECTION_KEY)\n",
    "    container_client = blob_client.get_container_client(container=CONTAINER_NAME)\n",
    "    with open(f\"../../data/{DATASET_NAME}\", \"rb\") as data: # here replace with the location to your data\n",
    "        container_client.upload_blob(name=DATASET_NAME, data=data, overwrite=True)\n",
    "except Exception as e:\n",
    "    print(e)"
   ]
  },
  {
   "cell_type": "code",
   "execution_count": 7,
   "id": "08f45f19-472b-409a-977f-01c09d13527d",
   "metadata": {},
   "outputs": [],
   "source": [
    "store = ml_client.data.get(name=\"amazon_reviews_folder\", version=\"1\")"
   ]
  },
  {
   "cell_type": "code",
   "execution_count": 8,
   "id": "e94276ca-2ffb-4406-bc88-3cd9f6a7dd00",
   "metadata": {},
   "outputs": [
    {
     "data": {
      "text/plain": [
       "'azureml://subscriptions/ce96fbca-fc23-466f-87e4-9b8cb5316116/resourcegroups/rg-review-analysis-teamc/workspaces/aml-review-analysis-teamc1/datastores/amazondatastore/paths/'"
      ]
     },
     "execution_count": 8,
     "metadata": {},
     "output_type": "execute_result"
    }
   ],
   "source": [
    "store.path"
   ]
  },
  {
   "cell_type": "code",
   "execution_count": 10,
   "id": "d8b597df-fbc7-4a1e-bb40-15d9d64078c9",
   "metadata": {},
   "outputs": [
    {
     "name": "stdout",
     "output_type": "stream",
     "text": [
      "(UserError) Data version amazon_reviews_folder:1 (dataContainerName:version) not found.\n",
      "Code: UserError\n",
      "Message: Data version amazon_reviews_folder:1 (dataContainerName:version) not found.\n",
      "Data asset created. Name: amazon_reviews_folder, version: 1\n"
     ]
    }
   ],
   "source": [
    "# create Data Asset from Datastore\n",
    "datastore_uri = f\"azureml://subscriptions/{SUBSCRIPTION_ID}/resourcegroups/{RESOURCE_GROUP}/workspaces/{WORKSPACE_NAME}/datastores/{store.name}/paths/\"\n",
    "\n",
    "amazon_folder = Data(\n",
    "    path=datastore_uri,\n",
    "    type=AssetTypes.URI_FOLDER,\n",
    "    description=\"amazon reviews folder\",\n",
    "    name=\"amazon_reviews_folder\",\n",
    "    version=\"1\"\n",
    ")\n",
    "\n",
    "try:\n",
    "    data_asset = ml_client.data.get(name=\"amazon_reviews_folder\", version=\"1\")\n",
    "    print(\n",
    "        f\"Data asset already exists. Name: {data_asset.name}, version: {data_asset.version}\"\n",
    "    )\n",
    "except Exception as e:\n",
    "    print(e)\n",
    "    ml_client.data.create_or_update(amazon_folder)\n",
    "    print(f\"Data asset created. Name: {amazon_folder.name}, version: {amazon_folder.version}\")"
   ]
  }
 ],
 "metadata": {
  "kernelspec": {
   "display_name": "capstone1",
   "language": "python",
   "name": "capstone1"
  },
  "language_info": {
   "codemirror_mode": {
    "name": "ipython",
    "version": 3
   },
   "file_extension": ".py",
   "mimetype": "text/x-python",
   "name": "python",
   "nbconvert_exporter": "python",
   "pygments_lexer": "ipython3",
   "version": "3.11.8"
  }
 },
 "nbformat": 4,
 "nbformat_minor": 5
}
