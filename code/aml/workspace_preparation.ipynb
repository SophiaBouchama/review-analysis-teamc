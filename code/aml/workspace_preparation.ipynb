{
 "cells": [
  {
   "cell_type": "markdown",
   "id": "89b6a594-5a90-409f-984c-85b9dd8840c4",
   "metadata": {},
   "source": [
    "# Workspace preparation"
   ]
  },
  {
   "cell_type": "code",
   "execution_count": 1,
   "id": "47b9c5c6-203e-417e-a678-373b98c474e0",
   "metadata": {},
   "outputs": [],
   "source": [
    "from azure.ai.ml import command, Input, MLClient\n",
    "from azure.identity import DefaultAzureCredential\n",
    "from azure.ai.ml.entities import AmlCompute, Environment, Data, AzureBlobDatastore, AccountKeyConfiguration\n",
    "from azure.ai.ml.constants import AssetTypes\n",
    "from azure.storage.blob import BlobServiceClient, BlobClient, ContainerClient, generate_blob_sas, BlobSasPermissions\n",
    "\n",
    "from dotenv import load_dotenv\n",
    "\n",
    "import os"
   ]
  },
  {
   "cell_type": "code",
   "execution_count": 2,
   "id": "4adaa4d5-9899-4e7b-ba64-335b4de02d18",
   "metadata": {},
   "outputs": [],
   "source": [
    "load_dotenv()\n",
    "\n",
    "SUBSCRIPTION_ID = os.environ.get(\"SUBSCRIPTION_ID\")\n",
    "RESOURCE_GROUP = os.environ.get(\"RESOURCE_GROUP\")\n",
    "WORKSPACE_NAME = os.environ.get(\"WORKSPACE_NAME\")\n",
    "DATASTORE_NAME = os.environ.get(\"DATASTORE_NAME\")\n",
    "ACCOUNT_NAME = os.environ.get(\"ACCOUNT_NAME\")\n",
    "CONTAINER_NAME = os.environ.get(\"CONTAINER_NAME\")\n",
    "COMPUTE_CLUSTER_NAME = os.environ.get(\"COMPUTE_NAME\")\n",
    "LOCATION = os.environ.get(\"LOCATION\")\n",
    "CONNECTION_KEY = os.environ.get(\"CONNECTION_KEY\")\n",
    "ACCOUNT_KEY= os.environ.get(\"ACCOUNT_KEY\")\n",
    "DATASET_NAME= os.environ.get(\"DATASET_NAME\")"
   ]
  },
  {
   "cell_type": "code",
   "execution_count": 3,
   "id": "c420de1d-ea20-4986-9718-674bc6b711e2",
   "metadata": {},
   "outputs": [],
   "source": [
    "ml_client = MLClient(\n",
    "    DefaultAzureCredential(),\n",
    "    SUBSCRIPTION_ID,\n",
    "    RESOURCE_GROUP,\n",
    "    WORKSPACE_NAME\n",
    ")"
   ]
  },
  {
   "cell_type": "code",
   "execution_count": 4,
   "id": "e7de7692-a8d9-48c2-84c0-06f2b9700eaa",
   "metadata": {},
   "outputs": [
    {
     "data": {
      "text/plain": [
       "<azure.core.polling._poller.LROPoller at 0x1ce1f3ec940>"
      ]
     },
     "execution_count": 4,
     "metadata": {},
     "output_type": "execute_result"
    }
   ],
   "source": [
    "# create compute cluster\n",
    "cluster_basic = AmlCompute(\n",
    "    name=COMPUTE_CLUSTER_NAME, \n",
    "    type=\"aml-compute\",\n",
    "    size=\"STANDARD_D4s_v3\",\n",
    "    location=LOCATION,\n",
    "    min_instances=0,\n",
    "    max_instances=4,\n",
    "    idle_time_before_scale_down=120,\n",
    "    tier=\"dedicated\"\n",
    ")\n",
    "\n",
    "ml_client.begin_create_or_update(cluster_basic)"
   ]
  },
  {
   "cell_type": "code",
   "execution_count": 5,
   "id": "9853d5c9-26a1-4aba-bfd9-b0254b07a9a9",
   "metadata": {},
   "outputs": [
    {
     "data": {
      "text/plain": [
       "Environment({'arm_type': 'environment_version', 'latest_version': None, 'image': 'mcr.microsoft.com/azureml/openmpi4.1.0-cuda11.1-cudnn8-ubuntu20.04', 'intellectual_property': None, 'is_anonymous': False, 'auto_increment_version': False, 'auto_delete_setting': None, 'name': 'keras-env', 'description': 'Environment for Tensorflow Experiments', 'tags': {'keras': '3.1.1'}, 'properties': {'azureml.labels': 'latest'}, 'print_as_yaml': False, 'id': '/subscriptions/8af766d1-2a08-48cd-8f6e-71c0ecdf262f/resourceGroups/prof-cs-rg/providers/Microsoft.MachineLearningServices/workspaces/worksp-proj-cs/environments/keras-env/versions/v5', 'Resource__source_path': '', 'base_path': 'c:\\\\Users\\\\j.martins\\\\Documents\\\\AI_HUB_Academy_training\\\\Capstone_project\\\\review-analysis-teamc\\\\code\\\\aml', 'creation_context': <azure.ai.ml.entities._system_data.SystemData object at 0x000001CE1F3EF550>, 'serialize': <msrest.serialization.Serializer object at 0x000001CE1F3EE140>, 'version': 'v5', 'conda_file': {'channels': ['conda-forge'], 'dependencies': ['python=3.8', 'numpy=1.21.2', 'pip=21.2.4', 'scikit-learn=1.0.2', 'scipy=1.7.1', 'pandas>=1.1,<1.2', 'fsspec', {'pip': ['mlflow==2.8.0', 'mlflow-skinny==2.8.0', 'azureml-mlflow==1.51.0', 'psutil>=5.8,<5.9', 'tqdm>=4.59,<4.60', 'ipykernel~=6.0', 'matplotlib', 'azureml-fsspec', 'mltable']}], 'name': 'sentiment-analysis-amazon'}, 'build': None, 'inference_config': None, 'os_type': 'Linux', 'conda_file_path': None, 'path': None, 'datastore': None, 'upload_hash': None, 'translated_conda_file': '{\\n  \"channels\": [\\n    \"conda-forge\"\\n  ],\\n  \"dependencies\": [\\n    \"python=3.8\",\\n    \"numpy=1.21.2\",\\n    \"pip=21.2.4\",\\n    \"scikit-learn=1.0.2\",\\n    \"scipy=1.7.1\",\\n    \"pandas>=1.1,<1.2\",\\n    \"fsspec\",\\n    {\\n      \"pip\": [\\n        \"mlflow==2.8.0\",\\n        \"mlflow-skinny==2.8.0\",\\n        \"azureml-mlflow==1.51.0\",\\n        \"psutil>=5.8,<5.9\",\\n        \"tqdm>=4.59,<4.60\",\\n        \"ipykernel~=6.0\",\\n        \"matplotlib\",\\n        \"azureml-fsspec\",\\n        \"mltable\"\\n      ]\\n    }\\n  ],\\n  \"name\": \"sentiment-analysis-amazon\"\\n}'})"
      ]
     },
     "execution_count": 5,
     "metadata": {},
     "output_type": "execute_result"
    }
   ],
   "source": [
    "# create environment if it doesn't exist\n",
    "dependencies_dir = \"./deps\"\n",
    "custom_job_env = Environment(\n",
    "    name=\"keras-env\",\n",
    "    description=\"Environment for Tensorflow Experiments\",\n",
    "    tags={\"keras\" : \"3.1.1\"},\n",
    "    conda_file=os.path.join(dependencies_dir, \"conda.yml\"),\n",
    "    image=\"mcr.microsoft.com/azureml/openmpi4.1.0-cuda11.1-cudnn8-ubuntu20.04\",\n",
    "    version=\"v5\"\n",
    ")\n",
    "\n",
    "ml_client.create_or_update(custom_job_env)"
   ]
  },
  {
   "cell_type": "code",
   "execution_count": 6,
   "id": "9245dadc-3c61-4aac-b68d-42d7dd39032c",
   "metadata": {},
   "outputs": [],
   "source": [
    "# create container if it doesn't exist\n",
    "try:\n",
    "    blob_client = BlobServiceClient.from_connection_string(CONNECTION_KEY)\n",
    "    container_client = blob_client.create_container(name=CONTAINER_NAME)\n",
    "except Exception as e:\n",
    "    print(e)"
   ]
  },
  {
   "cell_type": "code",
   "execution_count": 7,
   "id": "48ea3016-e334-49d7-9132-89c577241fb5",
   "metadata": {},
   "outputs": [],
   "source": [
    "# upload reviews dataset to container\n",
    "try:\n",
    "    blob_client = BlobServiceClient.from_connection_string(CONNECTION_KEY)\n",
    "    container_client = blob_client.get_container_client(container=CONTAINER_NAME)\n",
    "    with open(f\"../../data/{DATASET_NAME}\", \"rb\") as data: # here replace with the location to your data\n",
    "        container_client.upload_blob(name=DATASET_NAME, data=data, overwrite=True)\n",
    "except Exception as e:\n",
    "    print(e)"
   ]
  },
  {
   "cell_type": "code",
   "execution_count": 12,
   "id": "7583f611",
   "metadata": {},
   "outputs": [
    {
     "data": {
      "text/plain": [
       "'cont-proj-cs'"
      ]
     },
     "execution_count": 12,
     "metadata": {},
     "output_type": "execute_result"
    }
   ],
   "source": [
    "CONTAINER_NAME"
   ]
  },
  {
   "cell_type": "code",
   "execution_count": null,
   "id": "d80933b8",
   "metadata": {},
   "outputs": [],
   "source": [
    "credentials=AccountKeyConfiguration(account_key=ACCOUNT_KEY)\n",
    " \n",
    "store = AzureBlobDatastore(\n",
    "    name=DATASTORE_NAME,\n",
    "    description=\"Amazon Reviews datastore\",\n",
    "    account_name=ACCOUNT_NAME,\n",
    "    container_name=CONTAINER_NAME,\n",
    "    credentials=credentials\n",
    ")\n",
    " \n",
    "ml_client.create_or_update(store)"
   ]
  },
  {
   "cell_type": "code",
   "execution_count": 11,
   "id": "098c4c01",
   "metadata": {},
   "outputs": [
    {
     "ename": "ResourceNotFoundError",
     "evalue": "(UserError) Data version datastore-proj-cs:1 (dataContainerName:version) not found.\nCode: UserError\nMessage: Data version datastore-proj-cs:1 (dataContainerName:version) not found.",
     "output_type": "error",
     "traceback": [
      "\u001b[1;31m---------------------------------------------------------------------------\u001b[0m",
      "\u001b[1;31mResourceNotFoundError\u001b[0m                     Traceback (most recent call last)",
      "Cell \u001b[1;32mIn[11], line 1\u001b[0m\n\u001b[1;32m----> 1\u001b[0m store \u001b[38;5;241m=\u001b[39m \u001b[43mml_client\u001b[49m\u001b[38;5;241;43m.\u001b[39;49m\u001b[43mdata\u001b[49m\u001b[38;5;241;43m.\u001b[39;49m\u001b[43mget\u001b[49m\u001b[43m(\u001b[49m\u001b[43mname\u001b[49m\u001b[38;5;241;43m=\u001b[39;49m\u001b[43mDATASTORE_NAME\u001b[49m\u001b[43m,\u001b[49m\u001b[43m \u001b[49m\u001b[43mversion\u001b[49m\u001b[38;5;241;43m=\u001b[39;49m\u001b[38;5;124;43m\"\u001b[39;49m\u001b[38;5;124;43m1\u001b[39;49m\u001b[38;5;124;43m\"\u001b[39;49m\u001b[43m)\u001b[49m\n",
      "File \u001b[1;32mc:\\Users\\j.martins\\AppData\\Local\\Programs\\Python\\Python310\\lib\\site-packages\\azure\\ai\\ml\\_telemetry\\activity.py:285\u001b[0m, in \u001b[0;36mmonitor_with_activity.<locals>.monitor.<locals>.wrapper\u001b[1;34m(*args, **kwargs)\u001b[0m\n\u001b[0;32m    281\u001b[0m     \u001b[38;5;28;01mwith\u001b[39;00m tracer\u001b[38;5;241m.\u001b[39mspan():\n\u001b[0;32m    282\u001b[0m         \u001b[38;5;28;01mwith\u001b[39;00m log_activity(\n\u001b[0;32m    283\u001b[0m             logger\u001b[38;5;241m.\u001b[39mpackage_logger, activity_name \u001b[38;5;129;01mor\u001b[39;00m f\u001b[38;5;241m.\u001b[39m\u001b[38;5;18m__name__\u001b[39m, activity_type, custom_dimensions\n\u001b[0;32m    284\u001b[0m         ):\n\u001b[1;32m--> 285\u001b[0m             \u001b[38;5;28;01mreturn\u001b[39;00m f(\u001b[38;5;241m*\u001b[39margs, \u001b[38;5;241m*\u001b[39m\u001b[38;5;241m*\u001b[39mkwargs)\n\u001b[0;32m    286\u001b[0m \u001b[38;5;28;01melif\u001b[39;00m \u001b[38;5;28mhasattr\u001b[39m(logger, \u001b[38;5;124m\"\u001b[39m\u001b[38;5;124mpackage_logger\u001b[39m\u001b[38;5;124m\"\u001b[39m):\n\u001b[0;32m    287\u001b[0m     \u001b[38;5;28;01mwith\u001b[39;00m log_activity(logger\u001b[38;5;241m.\u001b[39mpackage_logger, activity_name \u001b[38;5;129;01mor\u001b[39;00m f\u001b[38;5;241m.\u001b[39m\u001b[38;5;18m__name__\u001b[39m, activity_type, custom_dimensions):\n",
      "File \u001b[1;32mc:\\Users\\j.martins\\AppData\\Local\\Programs\\Python\\Python310\\lib\\site-packages\\azure\\ai\\ml\\operations\\_data_operations.py:275\u001b[0m, in \u001b[0;36mDataOperations.get\u001b[1;34m(self, name, version, label)\u001b[0m\n\u001b[0;32m    267\u001b[0m         msg \u001b[38;5;241m=\u001b[39m \u001b[38;5;124m\"\u001b[39m\u001b[38;5;124mMust provide either version or label.\u001b[39m\u001b[38;5;124m\"\u001b[39m\n\u001b[0;32m    268\u001b[0m         \u001b[38;5;28;01mraise\u001b[39;00m ValidationException(\n\u001b[0;32m    269\u001b[0m             message\u001b[38;5;241m=\u001b[39mmsg,\n\u001b[0;32m    270\u001b[0m             target\u001b[38;5;241m=\u001b[39mErrorTarget\u001b[38;5;241m.\u001b[39mDATA,\n\u001b[1;32m   (...)\u001b[0m\n\u001b[0;32m    273\u001b[0m             error_type\u001b[38;5;241m=\u001b[39mValidationErrorType\u001b[38;5;241m.\u001b[39mMISSING_FIELD,\n\u001b[0;32m    274\u001b[0m         )\n\u001b[1;32m--> 275\u001b[0m     data_version_resource \u001b[38;5;241m=\u001b[39m \u001b[38;5;28;43mself\u001b[39;49m\u001b[38;5;241;43m.\u001b[39;49m\u001b[43m_get\u001b[49m\u001b[43m(\u001b[49m\u001b[43mname\u001b[49m\u001b[43m,\u001b[49m\u001b[43m \u001b[49m\u001b[43mversion\u001b[49m\u001b[43m)\u001b[49m\n\u001b[0;32m    276\u001b[0m     \u001b[38;5;28;01mreturn\u001b[39;00m Data\u001b[38;5;241m.\u001b[39m_from_rest_object(data_version_resource)\n\u001b[0;32m    277\u001b[0m \u001b[38;5;28;01mexcept\u001b[39;00m (ValidationException, SchemaValidationError) \u001b[38;5;28;01mas\u001b[39;00m ex:\n",
      "File \u001b[1;32mc:\\Users\\j.martins\\AppData\\Local\\Programs\\Python\\Python310\\lib\\site-packages\\azure\\ai\\ml\\operations\\_data_operations.py:204\u001b[0m, in \u001b[0;36mDataOperations._get\u001b[1;34m(self, name, version)\u001b[0m\n\u001b[0;32m    193\u001b[0m \u001b[38;5;28;01mdef\u001b[39;00m \u001b[38;5;21m_get\u001b[39m(\u001b[38;5;28mself\u001b[39m, name: Optional[\u001b[38;5;28mstr\u001b[39m], version: Optional[\u001b[38;5;28mstr\u001b[39m] \u001b[38;5;241m=\u001b[39m \u001b[38;5;28;01mNone\u001b[39;00m) \u001b[38;5;241m-\u001b[39m\u001b[38;5;241m>\u001b[39m Data:\n\u001b[0;32m    194\u001b[0m     \u001b[38;5;28;01mif\u001b[39;00m version:\n\u001b[0;32m    195\u001b[0m         \u001b[38;5;28;01mreturn\u001b[39;00m (\n\u001b[0;32m    196\u001b[0m             \u001b[38;5;28mself\u001b[39m\u001b[38;5;241m.\u001b[39m_operation\u001b[38;5;241m.\u001b[39mget(\n\u001b[0;32m    197\u001b[0m                 name\u001b[38;5;241m=\u001b[39mname,\n\u001b[0;32m    198\u001b[0m                 version\u001b[38;5;241m=\u001b[39mversion,\n\u001b[0;32m    199\u001b[0m                 registry_name\u001b[38;5;241m=\u001b[39m\u001b[38;5;28mself\u001b[39m\u001b[38;5;241m.\u001b[39m_registry_name,\n\u001b[0;32m    200\u001b[0m                 \u001b[38;5;241m*\u001b[39m\u001b[38;5;241m*\u001b[39m\u001b[38;5;28mself\u001b[39m\u001b[38;5;241m.\u001b[39m_scope_kwargs,\n\u001b[0;32m    201\u001b[0m                 \u001b[38;5;241m*\u001b[39m\u001b[38;5;241m*\u001b[39m\u001b[38;5;28mself\u001b[39m\u001b[38;5;241m.\u001b[39m_init_kwargs,\n\u001b[0;32m    202\u001b[0m             )\n\u001b[0;32m    203\u001b[0m             \u001b[38;5;28;01mif\u001b[39;00m \u001b[38;5;28mself\u001b[39m\u001b[38;5;241m.\u001b[39m_registry_name\n\u001b[1;32m--> 204\u001b[0m             \u001b[38;5;28;01melse\u001b[39;00m \u001b[38;5;28mself\u001b[39m\u001b[38;5;241m.\u001b[39m_operation\u001b[38;5;241m.\u001b[39mget(\n\u001b[0;32m    205\u001b[0m                 resource_group_name\u001b[38;5;241m=\u001b[39m\u001b[38;5;28mself\u001b[39m\u001b[38;5;241m.\u001b[39m_resource_group_name,\n\u001b[0;32m    206\u001b[0m                 workspace_name\u001b[38;5;241m=\u001b[39m\u001b[38;5;28mself\u001b[39m\u001b[38;5;241m.\u001b[39m_workspace_name,\n\u001b[0;32m    207\u001b[0m                 name\u001b[38;5;241m=\u001b[39mname,\n\u001b[0;32m    208\u001b[0m                 version\u001b[38;5;241m=\u001b[39mversion,\n\u001b[0;32m    209\u001b[0m                 \u001b[38;5;241m*\u001b[39m\u001b[38;5;241m*\u001b[39m\u001b[38;5;28mself\u001b[39m\u001b[38;5;241m.\u001b[39m_init_kwargs,\n\u001b[0;32m    210\u001b[0m             )\n\u001b[0;32m    211\u001b[0m         )\n\u001b[0;32m    212\u001b[0m     \u001b[38;5;28;01mreturn\u001b[39;00m (\n\u001b[0;32m    213\u001b[0m         \u001b[38;5;28mself\u001b[39m\u001b[38;5;241m.\u001b[39m_container_operation\u001b[38;5;241m.\u001b[39mget(\n\u001b[0;32m    214\u001b[0m             name\u001b[38;5;241m=\u001b[39mname,\n\u001b[1;32m   (...)\u001b[0m\n\u001b[0;32m    225\u001b[0m         )\n\u001b[0;32m    226\u001b[0m     )\n",
      "File \u001b[1;32mc:\\Users\\j.martins\\AppData\\Local\\Programs\\Python\\Python310\\lib\\site-packages\\azure\\core\\tracing\\decorator.py:78\u001b[0m, in \u001b[0;36mdistributed_trace.<locals>.decorator.<locals>.wrapper_use_tracer\u001b[1;34m(*args, **kwargs)\u001b[0m\n\u001b[0;32m     76\u001b[0m span_impl_type \u001b[38;5;241m=\u001b[39m settings\u001b[38;5;241m.\u001b[39mtracing_implementation()\n\u001b[0;32m     77\u001b[0m \u001b[38;5;28;01mif\u001b[39;00m span_impl_type \u001b[38;5;129;01mis\u001b[39;00m \u001b[38;5;28;01mNone\u001b[39;00m:\n\u001b[1;32m---> 78\u001b[0m     \u001b[38;5;28;01mreturn\u001b[39;00m func(\u001b[38;5;241m*\u001b[39margs, \u001b[38;5;241m*\u001b[39m\u001b[38;5;241m*\u001b[39mkwargs)\n\u001b[0;32m     80\u001b[0m \u001b[38;5;66;03m# Merge span is parameter is set, but only if no explicit parent are passed\u001b[39;00m\n\u001b[0;32m     81\u001b[0m \u001b[38;5;28;01mif\u001b[39;00m merge_span \u001b[38;5;129;01mand\u001b[39;00m \u001b[38;5;129;01mnot\u001b[39;00m passed_in_parent:\n",
      "File \u001b[1;32mc:\\Users\\j.martins\\AppData\\Local\\Programs\\Python\\Python310\\lib\\site-packages\\azure\\ai\\ml\\_restclient\\v2023_04_01_preview\\operations\\_data_versions_operations.py:487\u001b[0m, in \u001b[0;36mDataVersionsOperations.get\u001b[1;34m(self, resource_group_name, workspace_name, name, version, **kwargs)\u001b[0m\n\u001b[0;32m    484\u001b[0m response \u001b[38;5;241m=\u001b[39m pipeline_response\u001b[38;5;241m.\u001b[39mhttp_response\n\u001b[0;32m    486\u001b[0m \u001b[38;5;28;01mif\u001b[39;00m response\u001b[38;5;241m.\u001b[39mstatus_code \u001b[38;5;129;01mnot\u001b[39;00m \u001b[38;5;129;01min\u001b[39;00m [\u001b[38;5;241m200\u001b[39m]:\n\u001b[1;32m--> 487\u001b[0m     \u001b[43mmap_error\u001b[49m\u001b[43m(\u001b[49m\u001b[43mstatus_code\u001b[49m\u001b[38;5;241;43m=\u001b[39;49m\u001b[43mresponse\u001b[49m\u001b[38;5;241;43m.\u001b[39;49m\u001b[43mstatus_code\u001b[49m\u001b[43m,\u001b[49m\u001b[43m \u001b[49m\u001b[43mresponse\u001b[49m\u001b[38;5;241;43m=\u001b[39;49m\u001b[43mresponse\u001b[49m\u001b[43m,\u001b[49m\u001b[43m \u001b[49m\u001b[43merror_map\u001b[49m\u001b[38;5;241;43m=\u001b[39;49m\u001b[43merror_map\u001b[49m\u001b[43m)\u001b[49m\n\u001b[0;32m    488\u001b[0m     error \u001b[38;5;241m=\u001b[39m \u001b[38;5;28mself\u001b[39m\u001b[38;5;241m.\u001b[39m_deserialize\u001b[38;5;241m.\u001b[39mfailsafe_deserialize(_models\u001b[38;5;241m.\u001b[39mErrorResponse, pipeline_response)\n\u001b[0;32m    489\u001b[0m     \u001b[38;5;28;01mraise\u001b[39;00m HttpResponseError(response\u001b[38;5;241m=\u001b[39mresponse, model\u001b[38;5;241m=\u001b[39merror, error_format\u001b[38;5;241m=\u001b[39mARMErrorFormat)\n",
      "File \u001b[1;32mc:\\Users\\j.martins\\AppData\\Local\\Programs\\Python\\Python310\\lib\\site-packages\\azure\\core\\exceptions.py:164\u001b[0m, in \u001b[0;36mmap_error\u001b[1;34m(status_code, response, error_map)\u001b[0m\n\u001b[0;32m    162\u001b[0m     \u001b[38;5;28;01mreturn\u001b[39;00m\n\u001b[0;32m    163\u001b[0m error \u001b[38;5;241m=\u001b[39m error_type(response\u001b[38;5;241m=\u001b[39mresponse)\n\u001b[1;32m--> 164\u001b[0m \u001b[38;5;28;01mraise\u001b[39;00m error\n",
      "\u001b[1;31mResourceNotFoundError\u001b[0m: (UserError) Data version datastore-proj-cs:1 (dataContainerName:version) not found.\nCode: UserError\nMessage: Data version datastore-proj-cs:1 (dataContainerName:version) not found."
     ]
    }
   ],
   "source": [
    "store = ml_client.data.get(name=DATASTORE_NAME, version=\"1\")"
   ]
  },
  {
   "cell_type": "code",
   "execution_count": null,
   "id": "d8b597df-fbc7-4a1e-bb40-15d9d64078c9",
   "metadata": {},
   "outputs": [],
   "source": [
    "# create Data Asset from Datastore\n",
    "datastore_uri = f\"azureml://subscriptions/{SUBSCRIPTION_ID}/resourcegroups/{RESOURCE_GROUP}/workspaces/{WORKSPACE_NAME}/datastores/{store.name}/paths/\"\n",
    "\n",
    "amazon_folder = Data(\n",
    "    path=datastore_uri,\n",
    "    type=AssetTypes.URI_FOLDER,\n",
    "    description=\"amazon reviews folder\",\n",
    "    name=\"amazon_reviews_folder\",\n",
    "    version=\"1\"\n",
    ")\n",
    "\n",
    "try:\n",
    "    data_asset = ml_client.data.get(name=\"amazon_reviews_folder\", version=\"1\")\n",
    "    print(\n",
    "        f\"Data asset already exists. Name: {data_asset.name}, version: {data_asset.version}\"\n",
    "    )\n",
    "except Exception as e:\n",
    "    print(e)\n",
    "    ml_client.data.create_or_update(amazon_folder)\n",
    "    print(f\"Data asset created. Name: {amazon_folder.name}, version: {amazon_folder.version}\")"
   ]
  },
  {
   "cell_type": "code",
   "execution_count": null,
   "id": "ebfbb903",
   "metadata": {},
   "outputs": [],
   "source": []
  }
 ],
 "metadata": {
  "kernelspec": {
   "display_name": "Python 3",
   "language": "python",
   "name": "python3"
  },
  "language_info": {
   "codemirror_mode": {
    "name": "ipython",
    "version": 3
   },
   "file_extension": ".py",
   "mimetype": "text/x-python",
   "name": "python",
   "nbconvert_exporter": "python",
   "pygments_lexer": "ipython3",
   "version": "3.10.11"
  }
 },
 "nbformat": 4,
 "nbformat_minor": 5
}
