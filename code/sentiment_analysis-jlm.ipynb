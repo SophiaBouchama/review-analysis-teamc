{
 "cells": [
  {
   "cell_type": "code",
   "execution_count": 31,
   "metadata": {},
   "outputs": [],
   "source": [
    "import pandas as pd\n",
    "import matplotlib.pyplot as plt\n",
    "import utils\n",
    "import nltk\n",
    "from nltk.sentiment import SentimentIntensityAnalyzer\n",
    "from textblob import TextBlob\n",
    "import numpy as np\n",
    "\n",
    "%matplotlib inline"
   ]
  },
  {
   "cell_type": "code",
   "execution_count": null,
   "metadata": {},
   "outputs": [],
   "source": []
  },
  {
   "cell_type": "code",
   "execution_count": 2,
   "metadata": {},
   "outputs": [
    {
     "name": "stderr",
     "output_type": "stream",
     "text": [
      "[nltk_data] Downloading package vader_lexicon to\n",
      "[nltk_data]     C:\\Users\\j.martins\\AppData\\Roaming\\nltk_data...\n",
      "[nltk_data]   Package vader_lexicon is already up-to-date!\n"
     ]
    },
    {
     "data": {
      "text/plain": [
       "True"
      ]
     },
     "execution_count": 2,
     "metadata": {},
     "output_type": "execute_result"
    }
   ],
   "source": [
    "nltk.download('vader_lexicon')"
   ]
  },
  {
   "cell_type": "code",
   "execution_count": 3,
   "metadata": {},
   "outputs": [],
   "source": [
    "# Read CSV file with preprocessed reviews into a DataFrame\n",
    "path = './review-analysis-teamc/data/processed_reviews.csv'\n",
    "proc_reviews = pd.read_csv(path)"
   ]
  },
  {
   "cell_type": "code",
   "execution_count": 4,
   "metadata": {},
   "outputs": [
    {
     "data": {
      "text/html": [
       "<div>\n",
       "<style scoped>\n",
       "    .dataframe tbody tr th:only-of-type {\n",
       "        vertical-align: middle;\n",
       "    }\n",
       "\n",
       "    .dataframe tbody tr th {\n",
       "        vertical-align: top;\n",
       "    }\n",
       "\n",
       "    .dataframe thead th {\n",
       "        text-align: right;\n",
       "    }\n",
       "</style>\n",
       "<table border=\"1\" class=\"dataframe\">\n",
       "  <thead>\n",
       "    <tr style=\"text-align: right;\">\n",
       "      <th></th>\n",
       "      <th>Unnamed: 0</th>\n",
       "      <th>id</th>\n",
       "      <th>product_id</th>\n",
       "      <th>user_id</th>\n",
       "      <th>helpfulness_numerator</th>\n",
       "      <th>helpfulness_denominator</th>\n",
       "      <th>score</th>\n",
       "      <th>time</th>\n",
       "      <th>summary</th>\n",
       "      <th>text</th>\n",
       "      <th>date</th>\n",
       "      <th>year</th>\n",
       "      <th>sentiment</th>\n",
       "      <th>helpfulness_ratio</th>\n",
       "      <th>word_count</th>\n",
       "      <th>duplicated</th>\n",
       "      <th>preprocessed_text</th>\n",
       "      <th>lemmatized_text</th>\n",
       "    </tr>\n",
       "  </thead>\n",
       "  <tbody>\n",
       "    <tr>\n",
       "      <th>0</th>\n",
       "      <td>0</td>\n",
       "      <td>1</td>\n",
       "      <td>B001E4KFG0</td>\n",
       "      <td>A3SGXH7AUHU8GW</td>\n",
       "      <td>1</td>\n",
       "      <td>1</td>\n",
       "      <td>5</td>\n",
       "      <td>1303862400</td>\n",
       "      <td>Good Quality Dog Food</td>\n",
       "      <td>I have bought several of the Vitality canned d...</td>\n",
       "      <td>2011-04-27</td>\n",
       "      <td>2011</td>\n",
       "      <td>positive</td>\n",
       "      <td>1.0</td>\n",
       "      <td>48</td>\n",
       "      <td>False</td>\n",
       "      <td>bought several vitality canned dog food produc...</td>\n",
       "      <td>bought several vitality canned dog food produc...</td>\n",
       "    </tr>\n",
       "    <tr>\n",
       "      <th>1</th>\n",
       "      <td>1</td>\n",
       "      <td>2</td>\n",
       "      <td>B00813GRG4</td>\n",
       "      <td>A1D87F6ZCVE5NK</td>\n",
       "      <td>0</td>\n",
       "      <td>0</td>\n",
       "      <td>1</td>\n",
       "      <td>1346976000</td>\n",
       "      <td>Not as Advertised</td>\n",
       "      <td>Product arrived labeled as Jumbo Salted Peanut...</td>\n",
       "      <td>2012-09-07</td>\n",
       "      <td>2012</td>\n",
       "      <td>negative</td>\n",
       "      <td>NaN</td>\n",
       "      <td>31</td>\n",
       "      <td>False</td>\n",
       "      <td>product arrived labeled jumbo salted peanuts ....</td>\n",
       "      <td>product arrived labeled jumbo salted peanut .....</td>\n",
       "    </tr>\n",
       "    <tr>\n",
       "      <th>2</th>\n",
       "      <td>2</td>\n",
       "      <td>3</td>\n",
       "      <td>B000LQOCH0</td>\n",
       "      <td>ABXLMWJIXXAIN</td>\n",
       "      <td>1</td>\n",
       "      <td>1</td>\n",
       "      <td>4</td>\n",
       "      <td>1219017600</td>\n",
       "      <td>\"Delight\" says it all</td>\n",
       "      <td>This is a confection that has been around a fe...</td>\n",
       "      <td>2008-08-18</td>\n",
       "      <td>2008</td>\n",
       "      <td>positive</td>\n",
       "      <td>1.0</td>\n",
       "      <td>94</td>\n",
       "      <td>False</td>\n",
       "      <td>confection around centuries light pillowy citr...</td>\n",
       "      <td>confection around century light pillowy citrus...</td>\n",
       "    </tr>\n",
       "    <tr>\n",
       "      <th>3</th>\n",
       "      <td>4</td>\n",
       "      <td>5</td>\n",
       "      <td>B006K2ZZ7K</td>\n",
       "      <td>A1UQRSCLF8GW1T</td>\n",
       "      <td>0</td>\n",
       "      <td>0</td>\n",
       "      <td>5</td>\n",
       "      <td>1350777600</td>\n",
       "      <td>Great taffy</td>\n",
       "      <td>Great taffy at a great price.  There was a wid...</td>\n",
       "      <td>2012-10-21</td>\n",
       "      <td>2012</td>\n",
       "      <td>positive</td>\n",
       "      <td>NaN</td>\n",
       "      <td>27</td>\n",
       "      <td>False</td>\n",
       "      <td>great taffy great price wide assortment yummy ...</td>\n",
       "      <td>great taffy great price wide assortment yummy ...</td>\n",
       "    </tr>\n",
       "    <tr>\n",
       "      <th>4</th>\n",
       "      <td>5</td>\n",
       "      <td>6</td>\n",
       "      <td>B006K2ZZ7K</td>\n",
       "      <td>ADT0SRK1MGOEU</td>\n",
       "      <td>0</td>\n",
       "      <td>0</td>\n",
       "      <td>4</td>\n",
       "      <td>1342051200</td>\n",
       "      <td>Nice Taffy</td>\n",
       "      <td>I got a wild hair for taffy and ordered this f...</td>\n",
       "      <td>2012-07-12</td>\n",
       "      <td>2012</td>\n",
       "      <td>positive</td>\n",
       "      <td>NaN</td>\n",
       "      <td>72</td>\n",
       "      <td>False</td>\n",
       "      <td>got wild hair taffy ordered five pound bag taf...</td>\n",
       "      <td>got wild hair taffy ordered five pound bag taf...</td>\n",
       "    </tr>\n",
       "  </tbody>\n",
       "</table>\n",
       "</div>"
      ],
      "text/plain": [
       "   Unnamed: 0  id  product_id         user_id  helpfulness_numerator  \\\n",
       "0           0   1  B001E4KFG0  A3SGXH7AUHU8GW                      1   \n",
       "1           1   2  B00813GRG4  A1D87F6ZCVE5NK                      0   \n",
       "2           2   3  B000LQOCH0   ABXLMWJIXXAIN                      1   \n",
       "3           4   5  B006K2ZZ7K  A1UQRSCLF8GW1T                      0   \n",
       "4           5   6  B006K2ZZ7K   ADT0SRK1MGOEU                      0   \n",
       "\n",
       "   helpfulness_denominator  score        time                summary  \\\n",
       "0                        1      5  1303862400  Good Quality Dog Food   \n",
       "1                        0      1  1346976000      Not as Advertised   \n",
       "2                        1      4  1219017600  \"Delight\" says it all   \n",
       "3                        0      5  1350777600            Great taffy   \n",
       "4                        0      4  1342051200             Nice Taffy   \n",
       "\n",
       "                                                text        date  year  \\\n",
       "0  I have bought several of the Vitality canned d...  2011-04-27  2011   \n",
       "1  Product arrived labeled as Jumbo Salted Peanut...  2012-09-07  2012   \n",
       "2  This is a confection that has been around a fe...  2008-08-18  2008   \n",
       "3  Great taffy at a great price.  There was a wid...  2012-10-21  2012   \n",
       "4  I got a wild hair for taffy and ordered this f...  2012-07-12  2012   \n",
       "\n",
       "  sentiment  helpfulness_ratio  word_count  duplicated  \\\n",
       "0  positive                1.0          48       False   \n",
       "1  negative                NaN          31       False   \n",
       "2  positive                1.0          94       False   \n",
       "3  positive                NaN          27       False   \n",
       "4  positive                NaN          72       False   \n",
       "\n",
       "                                   preprocessed_text  \\\n",
       "0  bought several vitality canned dog food produc...   \n",
       "1  product arrived labeled jumbo salted peanuts ....   \n",
       "2  confection around centuries light pillowy citr...   \n",
       "3  great taffy great price wide assortment yummy ...   \n",
       "4  got wild hair taffy ordered five pound bag taf...   \n",
       "\n",
       "                                     lemmatized_text  \n",
       "0  bought several vitality canned dog food produc...  \n",
       "1  product arrived labeled jumbo salted peanut .....  \n",
       "2  confection around century light pillowy citrus...  \n",
       "3  great taffy great price wide assortment yummy ...  \n",
       "4  got wild hair taffy ordered five pound bag taf...  "
      ]
     },
     "execution_count": 4,
     "metadata": {},
     "output_type": "execute_result"
    }
   ],
   "source": [
    "proc_reviews.head()"
   ]
  },
  {
   "cell_type": "markdown",
   "metadata": {},
   "source": [
    "### Using Vader sentiment analyser"
   ]
  },
  {
   "cell_type": "code",
   "execution_count": 5,
   "metadata": {},
   "outputs": [],
   "source": [
    "sia = SentimentIntensityAnalyzer()"
   ]
  },
  {
   "cell_type": "code",
   "execution_count": 6,
   "metadata": {},
   "outputs": [],
   "source": [
    "reviews_score = proc_reviews[['score','preprocessed_text','lemmatized_text','helpfulness_ratio']].copy()"
   ]
  },
  {
   "cell_type": "code",
   "execution_count": 7,
   "metadata": {},
   "outputs": [],
   "source": [
    "reviews_score['polarity_scores'] = reviews_score.apply(lambda x: sia.polarity_scores(x['lemmatized_text']), axis=1)"
   ]
  },
  {
   "cell_type": "code",
   "execution_count": 8,
   "metadata": {},
   "outputs": [],
   "source": [
    "reviews_score['neg'] = reviews_score.apply(lambda x: x['polarity_scores'].get('neg'), axis=1)\n",
    "reviews_score['pos'] = reviews_score.apply(lambda x: x['polarity_scores'].get('pos'), axis=1)\n",
    "reviews_score['neu'] = reviews_score.apply(lambda x: x['polarity_scores'].get('neu'), axis=1)\n",
    "reviews_score['compound'] = reviews_score.apply(lambda x: x['polarity_scores'].get('compound'), axis=1)"
   ]
  },
  {
   "cell_type": "code",
   "execution_count": 9,
   "metadata": {},
   "outputs": [],
   "source": [
    "polarities_scores = reviews_score[['score','neg','pos','neu','compound']]"
   ]
  },
  {
   "cell_type": "code",
   "execution_count": 10,
   "metadata": {},
   "outputs": [
    {
     "data": {
      "text/plain": [
       "score\n",
       "1    0.127439\n",
       "2    0.097876\n",
       "3    0.074211\n",
       "4    0.052139\n",
       "5    0.042526\n",
       "Name: neg, dtype: float64"
      ]
     },
     "execution_count": 10,
     "metadata": {},
     "output_type": "execute_result"
    }
   ],
   "source": [
    "polarities_scores.groupby('score')['neg'].agg('mean')"
   ]
  },
  {
   "cell_type": "code",
   "execution_count": 11,
   "metadata": {},
   "outputs": [
    {
     "data": {
      "text/plain": [
       "score\n",
       "1    0.174660\n",
       "2    0.208367\n",
       "3    0.240918\n",
       "4    0.297121\n",
       "5    0.339744\n",
       "Name: pos, dtype: float64"
      ]
     },
     "execution_count": 11,
     "metadata": {},
     "output_type": "execute_result"
    }
   ],
   "source": [
    "polarities_scores.groupby('score')['pos'].agg('mean')"
   ]
  },
  {
   "cell_type": "code",
   "execution_count": 12,
   "metadata": {},
   "outputs": [
    {
     "data": {
      "text/plain": [
       "score\n",
       "1    0.194057\n",
       "2    0.426615\n",
       "3    0.589708\n",
       "4    0.740983\n",
       "5    0.781632\n",
       "Name: compound, dtype: float64"
      ]
     },
     "execution_count": 12,
     "metadata": {},
     "output_type": "execute_result"
    }
   ],
   "source": [
    "polarities_scores.groupby('score')['compound'].agg('mean')"
   ]
  },
  {
   "cell_type": "code",
   "execution_count": 13,
   "metadata": {},
   "outputs": [
    {
     "data": {
      "text/plain": [
       "score\n",
       "1    0.600114\n",
       "2    0.534285\n",
       "3    0.452375\n",
       "4    0.337266\n",
       "5    0.291891\n",
       "Name: compound, dtype: float64"
      ]
     },
     "execution_count": 13,
     "metadata": {},
     "output_type": "execute_result"
    }
   ],
   "source": [
    "polarities_scores.groupby('score')['compound'].agg('std')"
   ]
  },
  {
   "cell_type": "code",
   "execution_count": 14,
   "metadata": {},
   "outputs": [
    {
     "data": {
      "text/html": [
       "<div>\n",
       "<style scoped>\n",
       "    .dataframe tbody tr th:only-of-type {\n",
       "        vertical-align: middle;\n",
       "    }\n",
       "\n",
       "    .dataframe tbody tr th {\n",
       "        vertical-align: top;\n",
       "    }\n",
       "\n",
       "    .dataframe thead th {\n",
       "        text-align: right;\n",
       "    }\n",
       "</style>\n",
       "<table border=\"1\" class=\"dataframe\">\n",
       "  <thead>\n",
       "    <tr style=\"text-align: right;\">\n",
       "      <th></th>\n",
       "      <th>count</th>\n",
       "      <th>mean</th>\n",
       "      <th>std</th>\n",
       "      <th>min</th>\n",
       "      <th>25%</th>\n",
       "      <th>50%</th>\n",
       "      <th>75%</th>\n",
       "      <th>max</th>\n",
       "    </tr>\n",
       "    <tr>\n",
       "      <th>score</th>\n",
       "      <th></th>\n",
       "      <th></th>\n",
       "      <th></th>\n",
       "      <th></th>\n",
       "      <th></th>\n",
       "      <th></th>\n",
       "      <th></th>\n",
       "      <th></th>\n",
       "    </tr>\n",
       "  </thead>\n",
       "  <tbody>\n",
       "    <tr>\n",
       "      <th>1</th>\n",
       "      <td>36299.0</td>\n",
       "      <td>0.194057</td>\n",
       "      <td>0.600114</td>\n",
       "      <td>-0.9947</td>\n",
       "      <td>-0.34000</td>\n",
       "      <td>0.3182</td>\n",
       "      <td>0.7511</td>\n",
       "      <td>0.9997</td>\n",
       "    </tr>\n",
       "    <tr>\n",
       "      <th>2</th>\n",
       "      <td>20803.0</td>\n",
       "      <td>0.426615</td>\n",
       "      <td>0.534285</td>\n",
       "      <td>-0.9953</td>\n",
       "      <td>0.04105</td>\n",
       "      <td>0.6249</td>\n",
       "      <td>0.8750</td>\n",
       "      <td>0.9992</td>\n",
       "    </tr>\n",
       "    <tr>\n",
       "      <th>3</th>\n",
       "      <td>29771.0</td>\n",
       "      <td>0.589708</td>\n",
       "      <td>0.452375</td>\n",
       "      <td>-0.9881</td>\n",
       "      <td>0.42110</td>\n",
       "      <td>0.7806</td>\n",
       "      <td>0.9228</td>\n",
       "      <td>0.9996</td>\n",
       "    </tr>\n",
       "    <tr>\n",
       "      <th>4</th>\n",
       "      <td>56089.0</td>\n",
       "      <td>0.740983</td>\n",
       "      <td>0.337266</td>\n",
       "      <td>-0.9951</td>\n",
       "      <td>0.69080</td>\n",
       "      <td>0.8720</td>\n",
       "      <td>0.9473</td>\n",
       "      <td>0.9998</td>\n",
       "    </tr>\n",
       "    <tr>\n",
       "      <th>5</th>\n",
       "      <td>250902.0</td>\n",
       "      <td>0.781632</td>\n",
       "      <td>0.291891</td>\n",
       "      <td>-0.9994</td>\n",
       "      <td>0.75060</td>\n",
       "      <td>0.8885</td>\n",
       "      <td>0.9485</td>\n",
       "      <td>0.9999</td>\n",
       "    </tr>\n",
       "  </tbody>\n",
       "</table>\n",
       "</div>"
      ],
      "text/plain": [
       "          count      mean       std     min      25%     50%     75%     max\n",
       "score                                                                       \n",
       "1       36299.0  0.194057  0.600114 -0.9947 -0.34000  0.3182  0.7511  0.9997\n",
       "2       20803.0  0.426615  0.534285 -0.9953  0.04105  0.6249  0.8750  0.9992\n",
       "3       29771.0  0.589708  0.452375 -0.9881  0.42110  0.7806  0.9228  0.9996\n",
       "4       56089.0  0.740983  0.337266 -0.9951  0.69080  0.8720  0.9473  0.9998\n",
       "5      250902.0  0.781632  0.291891 -0.9994  0.75060  0.8885  0.9485  0.9999"
      ]
     },
     "execution_count": 14,
     "metadata": {},
     "output_type": "execute_result"
    }
   ],
   "source": [
    "polarities_scores.groupby('score')['compound'].agg('describe')"
   ]
  },
  {
   "cell_type": "markdown",
   "metadata": {},
   "source": [
    "From the compound polarity, which varies between -1 and 1, we would expect the negative reviews to have much lower values. However, this does not seem to be the case, which means that polarity alone is not enough to predict the score. \n",
    "\n",
    "Looking at the standard deviation of the polarity in each group, we can see that there is a big spread in compound polarity over the reviews for each of the scores. This suggests that the sentiment in the reviews does not translate well to the score the reviewer gives. Sometimes it may write a review whose text appears to have a negative sentiment but then the score is high, for example."
   ]
  },
  {
   "cell_type": "markdown",
   "metadata": {},
   "source": [
    "### Using TextBlob sentiment analyser"
   ]
  },
  {
   "cell_type": "code",
   "execution_count": 19,
   "metadata": {},
   "outputs": [],
   "source": [
    "def text_polarity(x):\n",
    "    sentiment = TextBlob(x)\n",
    "    return sentiment.sentiment.polarity"
   ]
  },
  {
   "cell_type": "code",
   "execution_count": 20,
   "metadata": {},
   "outputs": [],
   "source": [
    "reviews_score_blob = proc_reviews[['score','preprocessed_text','lemmatized_text','helpfulness_ratio']].copy()"
   ]
  },
  {
   "cell_type": "code",
   "execution_count": 21,
   "metadata": {},
   "outputs": [],
   "source": [
    "reviews_score_blob['polarity'] = reviews_score_blob.apply(lambda x: text_polarity(x['lemmatized_text']), axis=1)"
   ]
  },
  {
   "cell_type": "code",
   "execution_count": 22,
   "metadata": {},
   "outputs": [
    {
     "data": {
      "text/html": [
       "<div>\n",
       "<style scoped>\n",
       "    .dataframe tbody tr th:only-of-type {\n",
       "        vertical-align: middle;\n",
       "    }\n",
       "\n",
       "    .dataframe tbody tr th {\n",
       "        vertical-align: top;\n",
       "    }\n",
       "\n",
       "    .dataframe thead th {\n",
       "        text-align: right;\n",
       "    }\n",
       "</style>\n",
       "<table border=\"1\" class=\"dataframe\">\n",
       "  <thead>\n",
       "    <tr style=\"text-align: right;\">\n",
       "      <th></th>\n",
       "      <th>count</th>\n",
       "      <th>mean</th>\n",
       "      <th>std</th>\n",
       "      <th>min</th>\n",
       "      <th>25%</th>\n",
       "      <th>50%</th>\n",
       "      <th>75%</th>\n",
       "      <th>max</th>\n",
       "    </tr>\n",
       "    <tr>\n",
       "      <th>score</th>\n",
       "      <th></th>\n",
       "      <th></th>\n",
       "      <th></th>\n",
       "      <th></th>\n",
       "      <th></th>\n",
       "      <th></th>\n",
       "      <th></th>\n",
       "      <th></th>\n",
       "    </tr>\n",
       "  </thead>\n",
       "  <tbody>\n",
       "    <tr>\n",
       "      <th>1</th>\n",
       "      <td>36299.0</td>\n",
       "      <td>0.016260</td>\n",
       "      <td>0.247618</td>\n",
       "      <td>-1.0</td>\n",
       "      <td>-0.103016</td>\n",
       "      <td>0.024262</td>\n",
       "      <td>0.160000</td>\n",
       "      <td>1.0</td>\n",
       "    </tr>\n",
       "    <tr>\n",
       "      <th>2</th>\n",
       "      <td>20803.0</td>\n",
       "      <td>0.103303</td>\n",
       "      <td>0.208165</td>\n",
       "      <td>-1.0</td>\n",
       "      <td>-0.001236</td>\n",
       "      <td>0.102778</td>\n",
       "      <td>0.219175</td>\n",
       "      <td>1.0</td>\n",
       "    </tr>\n",
       "    <tr>\n",
       "      <th>3</th>\n",
       "      <td>29771.0</td>\n",
       "      <td>0.168700</td>\n",
       "      <td>0.191347</td>\n",
       "      <td>-1.0</td>\n",
       "      <td>0.056071</td>\n",
       "      <td>0.162222</td>\n",
       "      <td>0.273297</td>\n",
       "      <td>1.0</td>\n",
       "    </tr>\n",
       "    <tr>\n",
       "      <th>4</th>\n",
       "      <td>56089.0</td>\n",
       "      <td>0.245293</td>\n",
       "      <td>0.191331</td>\n",
       "      <td>-1.0</td>\n",
       "      <td>0.125000</td>\n",
       "      <td>0.230952</td>\n",
       "      <td>0.350000</td>\n",
       "      <td>1.0</td>\n",
       "    </tr>\n",
       "    <tr>\n",
       "      <th>5</th>\n",
       "      <td>250902.0</td>\n",
       "      <td>0.310905</td>\n",
       "      <td>0.206345</td>\n",
       "      <td>-1.0</td>\n",
       "      <td>0.176264</td>\n",
       "      <td>0.299596</td>\n",
       "      <td>0.433333</td>\n",
       "      <td>1.0</td>\n",
       "    </tr>\n",
       "  </tbody>\n",
       "</table>\n",
       "</div>"
      ],
      "text/plain": [
       "          count      mean       std  min       25%       50%       75%  max\n",
       "score                                                                      \n",
       "1       36299.0  0.016260  0.247618 -1.0 -0.103016  0.024262  0.160000  1.0\n",
       "2       20803.0  0.103303  0.208165 -1.0 -0.001236  0.102778  0.219175  1.0\n",
       "3       29771.0  0.168700  0.191347 -1.0  0.056071  0.162222  0.273297  1.0\n",
       "4       56089.0  0.245293  0.191331 -1.0  0.125000  0.230952  0.350000  1.0\n",
       "5      250902.0  0.310905  0.206345 -1.0  0.176264  0.299596  0.433333  1.0"
      ]
     },
     "execution_count": 22,
     "metadata": {},
     "output_type": "execute_result"
    }
   ],
   "source": [
    "reviews_score_blob.groupby('score')['polarity'].agg('describe')"
   ]
  },
  {
   "cell_type": "code",
   "execution_count": 40,
   "metadata": {},
   "outputs": [
    {
     "data": {
      "text/html": [
       "<div>\n",
       "<style scoped>\n",
       "    .dataframe tbody tr th:only-of-type {\n",
       "        vertical-align: middle;\n",
       "    }\n",
       "\n",
       "    .dataframe tbody tr th {\n",
       "        vertical-align: top;\n",
       "    }\n",
       "\n",
       "    .dataframe thead th {\n",
       "        text-align: right;\n",
       "    }\n",
       "</style>\n",
       "<table border=\"1\" class=\"dataframe\">\n",
       "  <thead>\n",
       "    <tr style=\"text-align: right;\">\n",
       "      <th></th>\n",
       "      <th>count</th>\n",
       "      <th>mean</th>\n",
       "      <th>std</th>\n",
       "      <th>min</th>\n",
       "      <th>25%</th>\n",
       "      <th>50%</th>\n",
       "      <th>75%</th>\n",
       "      <th>max</th>\n",
       "    </tr>\n",
       "    <tr>\n",
       "      <th>score</th>\n",
       "      <th></th>\n",
       "      <th></th>\n",
       "      <th></th>\n",
       "      <th></th>\n",
       "      <th></th>\n",
       "      <th></th>\n",
       "      <th></th>\n",
       "      <th></th>\n",
       "    </tr>\n",
       "  </thead>\n",
       "  <tbody>\n",
       "    <tr>\n",
       "      <th>1</th>\n",
       "      <td>9188.0</td>\n",
       "      <td>0.022093</td>\n",
       "      <td>0.226293</td>\n",
       "      <td>-1.0</td>\n",
       "      <td>-0.092171</td>\n",
       "      <td>0.031318</td>\n",
       "      <td>0.153899</td>\n",
       "      <td>1.0</td>\n",
       "    </tr>\n",
       "    <tr>\n",
       "      <th>2</th>\n",
       "      <td>5120.0</td>\n",
       "      <td>0.100469</td>\n",
       "      <td>0.195823</td>\n",
       "      <td>-1.0</td>\n",
       "      <td>0.000000</td>\n",
       "      <td>0.101375</td>\n",
       "      <td>0.206705</td>\n",
       "      <td>1.0</td>\n",
       "    </tr>\n",
       "    <tr>\n",
       "      <th>3</th>\n",
       "      <td>7817.0</td>\n",
       "      <td>0.161625</td>\n",
       "      <td>0.184406</td>\n",
       "      <td>-0.8</td>\n",
       "      <td>0.054545</td>\n",
       "      <td>0.153274</td>\n",
       "      <td>0.261111</td>\n",
       "      <td>1.0</td>\n",
       "    </tr>\n",
       "    <tr>\n",
       "      <th>4</th>\n",
       "      <td>19050.0</td>\n",
       "      <td>0.237020</td>\n",
       "      <td>0.187182</td>\n",
       "      <td>-1.0</td>\n",
       "      <td>0.120000</td>\n",
       "      <td>0.222462</td>\n",
       "      <td>0.339646</td>\n",
       "      <td>1.0</td>\n",
       "    </tr>\n",
       "    <tr>\n",
       "      <th>5</th>\n",
       "      <td>100249.0</td>\n",
       "      <td>0.295735</td>\n",
       "      <td>0.200479</td>\n",
       "      <td>-1.0</td>\n",
       "      <td>0.166667</td>\n",
       "      <td>0.280000</td>\n",
       "      <td>0.410470</td>\n",
       "      <td>1.0</td>\n",
       "    </tr>\n",
       "  </tbody>\n",
       "</table>\n",
       "</div>"
      ],
      "text/plain": [
       "          count      mean       std  min       25%       50%       75%  max\n",
       "score                                                                      \n",
       "1        9188.0  0.022093  0.226293 -1.0 -0.092171  0.031318  0.153899  1.0\n",
       "2        5120.0  0.100469  0.195823 -1.0  0.000000  0.101375  0.206705  1.0\n",
       "3        7817.0  0.161625  0.184406 -0.8  0.054545  0.153274  0.261111  1.0\n",
       "4       19050.0  0.237020  0.187182 -1.0  0.120000  0.222462  0.339646  1.0\n",
       "5      100249.0  0.295735  0.200479 -1.0  0.166667  0.280000  0.410470  1.0"
      ]
     },
     "execution_count": 40,
     "metadata": {},
     "output_type": "execute_result"
    }
   ],
   "source": [
    "reviews_score_blob[reviews_score_blob['helpfulness_ratio']>0.8].groupby('score')['polarity'].agg('describe')"
   ]
  },
  {
   "cell_type": "code",
   "execution_count": null,
   "metadata": {},
   "outputs": [],
   "source": []
  }
 ],
 "metadata": {
  "kernelspec": {
   "display_name": "Python 3",
   "language": "python",
   "name": "python3"
  },
  "language_info": {
   "codemirror_mode": {
    "name": "ipython",
    "version": 3
   },
   "file_extension": ".py",
   "mimetype": "text/x-python",
   "name": "python",
   "nbconvert_exporter": "python",
   "pygments_lexer": "ipython3",
   "version": "3.10.11"
  }
 },
 "nbformat": 4,
 "nbformat_minor": 2
}
