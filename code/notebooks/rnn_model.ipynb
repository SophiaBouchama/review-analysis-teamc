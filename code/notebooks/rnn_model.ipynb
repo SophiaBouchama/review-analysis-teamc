{
 "cells": [
  {
   "cell_type": "markdown",
   "metadata": {},
   "source": [
    "## Data Preprocessing and EDA"
   ]
  },
  {
   "cell_type": "markdown",
   "metadata": {},
   "source": [
    "### Importing libraries"
   ]
  },
  {
   "cell_type": "code",
   "execution_count": 11,
   "metadata": {},
   "outputs": [
    {
     "name": "stderr",
     "output_type": "stream",
     "text": [
      "[nltk_data] Downloading package punkt to\n",
      "[nltk_data]     C:\\Users\\sophia.bouchama\\AppData\\Roaming\\nltk_data...\n",
      "[nltk_data]   Package punkt is already up-to-date!\n",
      "[nltk_data] Downloading package wordnet to\n",
      "[nltk_data]     C:\\Users\\sophia.bouchama\\AppData\\Roaming\\nltk_data...\n",
      "[nltk_data]   Package wordnet is already up-to-date!\n",
      "[nltk_data] Downloading package averaged_perceptron_tagger to\n",
      "[nltk_data]     C:\\Users\\sophia.bouchama\\AppData\\Roaming\\nltk_data...\n",
      "[nltk_data]   Package averaged_perceptron_tagger is already up-to-\n",
      "[nltk_data]       date!\n"
     ]
    },
    {
     "data": {
      "text/plain": [
       "True"
      ]
     },
     "execution_count": 11,
     "metadata": {},
     "output_type": "execute_result"
    }
   ],
   "source": [
    "import pandas as pd\n",
    "import re \n",
    "\n",
    "import nltk\n",
    "from nltk.tokenize import word_tokenize\n",
    "from nltk.corpus import stopwords \n",
    "import string\n",
    "from nltk.stem import WordNetLemmatizer\n",
    "\n",
    "\n",
    "nltk.download('punkt')\n",
    "nltk.download('wordnet')\n",
    "nltk.download('averaged_perceptron_tagger')"
   ]
  },
  {
   "cell_type": "code",
   "execution_count": 12,
   "metadata": {},
   "outputs": [],
   "source": [
    "# Read in file\n",
    "reviews_data = pd.read_csv(\"../data/Reviews.csv\")"
   ]
  },
  {
   "cell_type": "code",
   "execution_count": 13,
   "metadata": {},
   "outputs": [],
   "source": [
    "reviews_data = reviews_data.drop_duplicates(subset=[\"UserId\",\"Time\",\"Text\"])"
   ]
  },
  {
   "cell_type": "code",
   "execution_count": 14,
   "metadata": {},
   "outputs": [],
   "source": [
    "# HelpfulnessDenominator should be greater than or equal to HelpfulnessNumerator. Remove those that do not satisfy this condition \n",
    "reviews_data = reviews_data[reviews_data[\"HelpfulnessNumerator\"] <= reviews_data[\"HelpfulnessDenominator\"]]"
   ]
  },
  {
   "cell_type": "code",
   "execution_count": 15,
   "metadata": {},
   "outputs": [],
   "source": [
    "# Convert the Time column into datetime format\n",
    "reviews_data['Time'] = pd.to_datetime(reviews_data['Time'], unit='s')"
   ]
  },
  {
   "cell_type": "code",
   "execution_count": 16,
   "metadata": {},
   "outputs": [],
   "source": [
    "# Create columns for Positive, Negative and Neutral Reviews based on Score\n",
    "reviews_data['PositiveReviews'] = reviews_data['Score'] > 3\n",
    "reviews_data['NegativeReviews'] = reviews_data['Score'] < 3\n",
    "reviews_data['NeutralReviews'] = reviews_data['Score'] == 3"
   ]
  },
  {
   "cell_type": "code",
   "execution_count": 17,
   "metadata": {},
   "outputs": [],
   "source": [
    "# Create a preprocessing function with optional steps\n",
    "def preprocessing(sentence, remove_html=True, lowercasing=True, remove_numbers=True, remove_punctuation=True, tokenize=True, remove_stopwords=True, lemmatize=True):\n",
    "\n",
    "    # Removing whitespaces\n",
    "    sentence = sentence.strip()\n",
    "\n",
    "    # Removing HTML tags\n",
    "    if remove_html:\n",
    "        sentence = re.sub(r'<.*?>', '', sentence)\n",
    "\n",
    "    # Lowercasing\n",
    "    if lowercasing:\n",
    "        sentence = sentence.lower()\n",
    "\n",
    "    # Removing numbers\n",
    "    if remove_numbers:\n",
    "        sentence = ''.join(char for char in sentence if not char.isdigit())\n",
    "\n",
    "    # Removing punctuation\n",
    "    if remove_punctuation:\n",
    "        for punctuation in string.punctuation:\n",
    "            sentence = sentence.replace(punctuation, '')\n",
    "\n",
    "    # Tokenizing\n",
    "    if tokenize:    \n",
    "        sentence = word_tokenize(sentence)\n",
    "\n",
    "    # Removing stopwords\n",
    "    if remove_stopwords and tokenize:\n",
    "        stop_words = set(stopwords.words('english'))\n",
    "        sentence = [word for word in sentence if word not in stop_words]\n",
    "\n",
    "    # Lemmatizing\n",
    "    if lemmatize and tokenize:\n",
    "        lemmatizer = WordNetLemmatizer()\n",
    "        lemmatized = [lemmatizer.lemmatize(word) for word in sentence]\n",
    "        sentence = \" \".join(lemmatized)\n",
    "\n",
    "    return sentence   "
   ]
  },
  {
   "cell_type": "markdown",
   "metadata": {},
   "source": [
    "## RNN (LSTM) Model"
   ]
  },
  {
   "cell_type": "markdown",
   "metadata": {},
   "source": [
    "Firstly, we need to create our labelled data to create a binary classification problem. \n",
    "\n",
    "label 0 = negative review\n",
    "\n",
    "label 1 = positive review\n",
    "\n",
    "\n",
    "Where positive review is > 3 and negative review is < 3."
   ]
  },
  {
   "cell_type": "markdown",
   "metadata": {},
   "source": [
    "Create a copy of the dataframe in order to apply specific preprocessing for this model"
   ]
  },
  {
   "cell_type": "code",
   "execution_count": 18,
   "metadata": {},
   "outputs": [],
   "source": [
    "\n",
    "lstm_df = reviews_data.copy()"
   ]
  },
  {
   "cell_type": "code",
   "execution_count": 22,
   "metadata": {},
   "outputs": [],
   "source": [
    "lstm_df['Text'] = lstm_df['Text'].apply(lambda x: preprocessing(x, lowercasing=False, remove_numbers=False, remove_punctuation=True, tokenize=False))\n"
   ]
  },
  {
   "cell_type": "code",
   "execution_count": 23,
   "metadata": {},
   "outputs": [],
   "source": [
    "lstm_df['Label'] = lstm_df['PositiveReviews'].astype(int)"
   ]
  },
  {
   "cell_type": "code",
   "execution_count": 24,
   "metadata": {},
   "outputs": [],
   "source": [
    "from sklearn.model_selection import train_test_split\n",
    "\n",
    "X = lstm_df['Text']\n",
    "y= lstm_df['Label']\n",
    "X_train, X_test, y_train, y_test = train_test_split(lstm_df['Text'], lstm_df['Label'], test_size=0.2, random_state=42, stratify=y)\n"
   ]
  },
  {
   "cell_type": "code",
   "execution_count": 47,
   "metadata": {},
   "outputs": [],
   "source": [
    "from tensorflow.keras.preprocessing.text import Tokenizer\n",
    "from tensorflow.keras.preprocessing.sequence import pad_sequences\n",
    "\n",
    "\n",
    "tokenizer = Tokenizer()\n",
    "tokenizer.fit_on_texts(X_train)  # Fit only on training data\n",
    "X_train_token = tokenizer.texts_to_sequences(X_train)\n",
    "X_test_token = tokenizer.texts_to_sequences(X_test)\n",
    "\n",
    "\n",
    "X_train_pad = pad_sequences(X_train_token, padding='post', dtype='float32', maxlen=100)\n",
    "X_test_pad = pad_sequences(X_test_token, padding='post', dtype='float32', maxlen=100)\n"
   ]
  },
  {
   "cell_type": "code",
   "execution_count": 48,
   "metadata": {},
   "outputs": [],
   "source": [
    "from tensorflow.keras import Sequential, layers\n",
    "\n",
    "vocab_size = len(tokenizer.word_index)\n",
    "embedding_dim = 50\n",
    "\n",
    "# Define model architecture\n",
    "model = Sequential()\n",
    "model.add(layers.Embedding(input_dim=vocab_size + 1,\n",
    "                    output_dim=embedding_dim,\n",
    "                    mask_zero=True))\n",
    "model.add(layers.LSTM(20))\n",
    "model.add(layers.Dense(1, activation='sigmoid'))  # Output layer for binary classification\n",
    "\n",
    "# Compile the model\n",
    "model.compile(optimizer='adam',\n",
    "              loss='binary_crossentropy',\n",
    "              metrics=['accuracy'])\n",
    "\n"
   ]
  },
  {
   "cell_type": "code",
   "execution_count": 49,
   "metadata": {},
   "outputs": [],
   "source": [
    "from tensorflow.keras.callbacks import EarlyStopping\n",
    "\n",
    "es = EarlyStopping(patience=4, restore_best_weights=True)"
   ]
  },
  {
   "cell_type": "code",
   "execution_count": 50,
   "metadata": {},
   "outputs": [
    {
     "name": "stdout",
     "output_type": "stream",
     "text": [
      "Epoch 1/10\n"
     ]
    },
    {
     "name": "stdout",
     "output_type": "stream",
     "text": [
      "\u001b[1m15756/15756\u001b[0m \u001b[32m━━━━━━━━━━━━━━━━━━━━\u001b[0m\u001b[37m\u001b[0m \u001b[1m3378s\u001b[0m 214ms/step - accuracy: 0.8647 - loss: 0.3165 - val_accuracy: 0.9068 - val_loss: 0.2272\n",
      "Epoch 2/10\n",
      "\u001b[1m15756/15756\u001b[0m \u001b[32m━━━━━━━━━━━━━━━━━━━━\u001b[0m\u001b[37m\u001b[0m \u001b[1m1493s\u001b[0m 95ms/step - accuracy: 0.9235 - loss: 0.1920 - val_accuracy: 0.9104 - val_loss: 0.2256\n",
      "Epoch 3/10\n",
      "\u001b[1m15756/15756\u001b[0m \u001b[32m━━━━━━━━━━━━━━━━━━━━\u001b[0m\u001b[37m\u001b[0m \u001b[1m1495s\u001b[0m 95ms/step - accuracy: 0.9442 - loss: 0.1435 - val_accuracy: 0.9106 - val_loss: 0.2318\n",
      "Epoch 4/10\n",
      "\u001b[1m15756/15756\u001b[0m \u001b[32m━━━━━━━━━━━━━━━━━━━━\u001b[0m\u001b[37m\u001b[0m \u001b[1m1533s\u001b[0m 97ms/step - accuracy: 0.9607 - loss: 0.1060 - val_accuracy: 0.9027 - val_loss: 0.2553\n",
      "Epoch 5/10\n",
      "\u001b[1m 2210/15756\u001b[0m \u001b[32m━━\u001b[0m\u001b[37m━━━━━━━━━━━━━━━━━━\u001b[0m \u001b[1m23:09\u001b[0m 103ms/step - accuracy: 0.9769 - loss: 0.0691"
     ]
    }
   ],
   "source": [
    "# Train the model\n",
    "model.fit(X_train_pad, y_train, epochs=10, batch_size=16, validation_split=0.2, callbacks=[es])\n",
    "\n"
   ]
  },
  {
   "cell_type": "code",
   "execution_count": null,
   "metadata": {},
   "outputs": [],
   "source": [
    "# Save the model\n",
    "model.model.save(\"./RNN1.h5\")"
   ]
  },
  {
   "cell_type": "code",
   "execution_count": null,
   "metadata": {},
   "outputs": [],
   "source": [
    "# Evaluate the model\n",
    "model.evaluate(X_test_pad, y_test)"
   ]
  },
  {
   "cell_type": "code",
   "execution_count": null,
   "metadata": {},
   "outputs": [],
   "source": []
  },
  {
   "cell_type": "code",
   "execution_count": null,
   "metadata": {},
   "outputs": [],
   "source": []
  }
 ],
 "metadata": {
  "kernelspec": {
   "display_name": "Python 3",
   "language": "python",
   "name": "python3"
  },
  "language_info": {
   "codemirror_mode": {
    "name": "ipython",
    "version": 3
   },
   "file_extension": ".py",
   "mimetype": "text/x-python",
   "name": "python",
   "nbconvert_exporter": "python",
   "pygments_lexer": "ipython3",
   "version": "3.11.7"
  }
 },
 "nbformat": 4,
 "nbformat_minor": 2
}
