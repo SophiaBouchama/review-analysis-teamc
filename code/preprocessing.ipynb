{
 "cells": [
  {
   "cell_type": "markdown",
   "id": "e2ca2ee0-d99c-4fc7-b9fb-87098c83d764",
   "metadata": {},
   "source": [
    "# Preprocessing"
   ]
  },
  {
   "cell_type": "code",
   "execution_count": 1,
   "id": "658d7ee3-1aa0-408b-8d1b-f89c0f601844",
   "metadata": {},
   "outputs": [],
   "source": [
    "import pandas as pd\n",
    "import numpy as np\n",
    "import matplotlib.pyplot as plt"
   ]
  },
  {
   "cell_type": "code",
   "execution_count": 2,
   "id": "08cf4ae7-b887-46f8-b37f-bdef7e5d829b",
   "metadata": {},
   "outputs": [],
   "source": [
    "df = pd.read_csv(\"../data/reviews.csv\", index_col=\"Id\")"
   ]
  },
  {
   "cell_type": "markdown",
   "id": "361c401d-2a61-4758-8a65-cae01f1a55fa",
   "metadata": {},
   "source": [
    "# Exploratory Data Analysis"
   ]
  },
  {
   "cell_type": "code",
   "execution_count": 3,
   "id": "29277a17-2177-4e90-9e67-a64fa4fd32e7",
   "metadata": {},
   "outputs": [
    {
     "data": {
      "text/html": [
       "<div>\n",
       "<style scoped>\n",
       "    .dataframe tbody tr th:only-of-type {\n",
       "        vertical-align: middle;\n",
       "    }\n",
       "\n",
       "    .dataframe tbody tr th {\n",
       "        vertical-align: top;\n",
       "    }\n",
       "\n",
       "    .dataframe thead th {\n",
       "        text-align: right;\n",
       "    }\n",
       "</style>\n",
       "<table border=\"1\" class=\"dataframe\">\n",
       "  <thead>\n",
       "    <tr style=\"text-align: right;\">\n",
       "      <th></th>\n",
       "      <th>ProductId</th>\n",
       "      <th>UserId</th>\n",
       "      <th>ProfileName</th>\n",
       "      <th>HelpfulnessNumerator</th>\n",
       "      <th>HelpfulnessDenominator</th>\n",
       "      <th>Score</th>\n",
       "      <th>Time</th>\n",
       "      <th>Summary</th>\n",
       "      <th>Text</th>\n",
       "    </tr>\n",
       "    <tr>\n",
       "      <th>Id</th>\n",
       "      <th></th>\n",
       "      <th></th>\n",
       "      <th></th>\n",
       "      <th></th>\n",
       "      <th></th>\n",
       "      <th></th>\n",
       "      <th></th>\n",
       "      <th></th>\n",
       "      <th></th>\n",
       "    </tr>\n",
       "  </thead>\n",
       "  <tbody>\n",
       "    <tr>\n",
       "      <th>1</th>\n",
       "      <td>B001E4KFG0</td>\n",
       "      <td>A3SGXH7AUHU8GW</td>\n",
       "      <td>delmartian</td>\n",
       "      <td>1</td>\n",
       "      <td>1</td>\n",
       "      <td>5</td>\n",
       "      <td>1303862400</td>\n",
       "      <td>Good Quality Dog Food</td>\n",
       "      <td>I have bought several of the Vitality canned d...</td>\n",
       "    </tr>\n",
       "    <tr>\n",
       "      <th>2</th>\n",
       "      <td>B00813GRG4</td>\n",
       "      <td>A1D87F6ZCVE5NK</td>\n",
       "      <td>dll pa</td>\n",
       "      <td>0</td>\n",
       "      <td>0</td>\n",
       "      <td>1</td>\n",
       "      <td>1346976000</td>\n",
       "      <td>Not as Advertised</td>\n",
       "      <td>Product arrived labeled as Jumbo Salted Peanut...</td>\n",
       "    </tr>\n",
       "    <tr>\n",
       "      <th>3</th>\n",
       "      <td>B000LQOCH0</td>\n",
       "      <td>ABXLMWJIXXAIN</td>\n",
       "      <td>Natalia Corres \"Natalia Corres\"</td>\n",
       "      <td>1</td>\n",
       "      <td>1</td>\n",
       "      <td>4</td>\n",
       "      <td>1219017600</td>\n",
       "      <td>\"Delight\" says it all</td>\n",
       "      <td>This is a confection that has been around a fe...</td>\n",
       "    </tr>\n",
       "    <tr>\n",
       "      <th>4</th>\n",
       "      <td>B000UA0QIQ</td>\n",
       "      <td>A395BORC6FGVXV</td>\n",
       "      <td>Karl</td>\n",
       "      <td>3</td>\n",
       "      <td>3</td>\n",
       "      <td>2</td>\n",
       "      <td>1307923200</td>\n",
       "      <td>Cough Medicine</td>\n",
       "      <td>If you are looking for the secret ingredient i...</td>\n",
       "    </tr>\n",
       "    <tr>\n",
       "      <th>5</th>\n",
       "      <td>B006K2ZZ7K</td>\n",
       "      <td>A1UQRSCLF8GW1T</td>\n",
       "      <td>Michael D. Bigham \"M. Wassir\"</td>\n",
       "      <td>0</td>\n",
       "      <td>0</td>\n",
       "      <td>5</td>\n",
       "      <td>1350777600</td>\n",
       "      <td>Great taffy</td>\n",
       "      <td>Great taffy at a great price.  There was a wid...</td>\n",
       "    </tr>\n",
       "  </tbody>\n",
       "</table>\n",
       "</div>"
      ],
      "text/plain": [
       "     ProductId          UserId                      ProfileName  \\\n",
       "Id                                                                \n",
       "1   B001E4KFG0  A3SGXH7AUHU8GW                       delmartian   \n",
       "2   B00813GRG4  A1D87F6ZCVE5NK                           dll pa   \n",
       "3   B000LQOCH0   ABXLMWJIXXAIN  Natalia Corres \"Natalia Corres\"   \n",
       "4   B000UA0QIQ  A395BORC6FGVXV                             Karl   \n",
       "5   B006K2ZZ7K  A1UQRSCLF8GW1T    Michael D. Bigham \"M. Wassir\"   \n",
       "\n",
       "    HelpfulnessNumerator  HelpfulnessDenominator  Score        Time  \\\n",
       "Id                                                                    \n",
       "1                      1                       1      5  1303862400   \n",
       "2                      0                       0      1  1346976000   \n",
       "3                      1                       1      4  1219017600   \n",
       "4                      3                       3      2  1307923200   \n",
       "5                      0                       0      5  1350777600   \n",
       "\n",
       "                  Summary                                               Text  \n",
       "Id                                                                            \n",
       "1   Good Quality Dog Food  I have bought several of the Vitality canned d...  \n",
       "2       Not as Advertised  Product arrived labeled as Jumbo Salted Peanut...  \n",
       "3   \"Delight\" says it all  This is a confection that has been around a fe...  \n",
       "4          Cough Medicine  If you are looking for the secret ingredient i...  \n",
       "5             Great taffy  Great taffy at a great price.  There was a wid...  "
      ]
     },
     "execution_count": 3,
     "metadata": {},
     "output_type": "execute_result"
    }
   ],
   "source": [
    "df.head()"
   ]
  },
  {
   "cell_type": "markdown",
   "id": "61bf6fcd-8f92-44ce-8e06-82a27d1de560",
   "metadata": {},
   "source": [
    "## Shape"
   ]
  },
  {
   "cell_type": "code",
   "execution_count": 7,
   "id": "48dcb13c-fdb8-41a3-8dab-ce87c9eee6ca",
   "metadata": {},
   "outputs": [
    {
     "data": {
      "text/plain": [
       "(568454, 9)"
      ]
     },
     "execution_count": 7,
     "metadata": {},
     "output_type": "execute_result"
    }
   ],
   "source": [
    "df.shape"
   ]
  },
  {
   "cell_type": "code",
   "execution_count": 4,
   "id": "9e0f97ab-9f9d-48ca-acf2-77b50d50034c",
   "metadata": {},
   "outputs": [
    {
     "data": {
      "text/html": [
       "<div>\n",
       "<style scoped>\n",
       "    .dataframe tbody tr th:only-of-type {\n",
       "        vertical-align: middle;\n",
       "    }\n",
       "\n",
       "    .dataframe tbody tr th {\n",
       "        vertical-align: top;\n",
       "    }\n",
       "\n",
       "    .dataframe thead th {\n",
       "        text-align: right;\n",
       "    }\n",
       "</style>\n",
       "<table border=\"1\" class=\"dataframe\">\n",
       "  <thead>\n",
       "    <tr style=\"text-align: right;\">\n",
       "      <th></th>\n",
       "      <th>ProductId</th>\n",
       "      <th>UserId</th>\n",
       "      <th>ProfileName</th>\n",
       "      <th>HelpfulnessNumerator</th>\n",
       "      <th>HelpfulnessDenominator</th>\n",
       "      <th>Score</th>\n",
       "      <th>Time</th>\n",
       "      <th>Summary</th>\n",
       "      <th>Text</th>\n",
       "    </tr>\n",
       "  </thead>\n",
       "  <tbody>\n",
       "    <tr>\n",
       "      <th>count</th>\n",
       "      <td>568454</td>\n",
       "      <td>568454</td>\n",
       "      <td>568428</td>\n",
       "      <td>568454.000000</td>\n",
       "      <td>568454.00000</td>\n",
       "      <td>568454.000000</td>\n",
       "      <td>5.684540e+05</td>\n",
       "      <td>568427</td>\n",
       "      <td>568454</td>\n",
       "    </tr>\n",
       "    <tr>\n",
       "      <th>unique</th>\n",
       "      <td>74258</td>\n",
       "      <td>256059</td>\n",
       "      <td>218415</td>\n",
       "      <td>NaN</td>\n",
       "      <td>NaN</td>\n",
       "      <td>NaN</td>\n",
       "      <td>NaN</td>\n",
       "      <td>295742</td>\n",
       "      <td>393579</td>\n",
       "    </tr>\n",
       "    <tr>\n",
       "      <th>top</th>\n",
       "      <td>B007JFMH8M</td>\n",
       "      <td>A3OXHLG6DIBRW8</td>\n",
       "      <td>C. F. Hill \"CFH\"</td>\n",
       "      <td>NaN</td>\n",
       "      <td>NaN</td>\n",
       "      <td>NaN</td>\n",
       "      <td>NaN</td>\n",
       "      <td>Delicious!</td>\n",
       "      <td>This review will make me sound really stupid, ...</td>\n",
       "    </tr>\n",
       "    <tr>\n",
       "      <th>freq</th>\n",
       "      <td>913</td>\n",
       "      <td>448</td>\n",
       "      <td>451</td>\n",
       "      <td>NaN</td>\n",
       "      <td>NaN</td>\n",
       "      <td>NaN</td>\n",
       "      <td>NaN</td>\n",
       "      <td>2462</td>\n",
       "      <td>199</td>\n",
       "    </tr>\n",
       "    <tr>\n",
       "      <th>mean</th>\n",
       "      <td>NaN</td>\n",
       "      <td>NaN</td>\n",
       "      <td>NaN</td>\n",
       "      <td>1.743817</td>\n",
       "      <td>2.22881</td>\n",
       "      <td>4.183199</td>\n",
       "      <td>1.296257e+09</td>\n",
       "      <td>NaN</td>\n",
       "      <td>NaN</td>\n",
       "    </tr>\n",
       "    <tr>\n",
       "      <th>std</th>\n",
       "      <td>NaN</td>\n",
       "      <td>NaN</td>\n",
       "      <td>NaN</td>\n",
       "      <td>7.636513</td>\n",
       "      <td>8.28974</td>\n",
       "      <td>1.310436</td>\n",
       "      <td>4.804331e+07</td>\n",
       "      <td>NaN</td>\n",
       "      <td>NaN</td>\n",
       "    </tr>\n",
       "    <tr>\n",
       "      <th>min</th>\n",
       "      <td>NaN</td>\n",
       "      <td>NaN</td>\n",
       "      <td>NaN</td>\n",
       "      <td>0.000000</td>\n",
       "      <td>0.00000</td>\n",
       "      <td>1.000000</td>\n",
       "      <td>9.393408e+08</td>\n",
       "      <td>NaN</td>\n",
       "      <td>NaN</td>\n",
       "    </tr>\n",
       "    <tr>\n",
       "      <th>25%</th>\n",
       "      <td>NaN</td>\n",
       "      <td>NaN</td>\n",
       "      <td>NaN</td>\n",
       "      <td>0.000000</td>\n",
       "      <td>0.00000</td>\n",
       "      <td>4.000000</td>\n",
       "      <td>1.271290e+09</td>\n",
       "      <td>NaN</td>\n",
       "      <td>NaN</td>\n",
       "    </tr>\n",
       "    <tr>\n",
       "      <th>50%</th>\n",
       "      <td>NaN</td>\n",
       "      <td>NaN</td>\n",
       "      <td>NaN</td>\n",
       "      <td>0.000000</td>\n",
       "      <td>1.00000</td>\n",
       "      <td>5.000000</td>\n",
       "      <td>1.311120e+09</td>\n",
       "      <td>NaN</td>\n",
       "      <td>NaN</td>\n",
       "    </tr>\n",
       "    <tr>\n",
       "      <th>75%</th>\n",
       "      <td>NaN</td>\n",
       "      <td>NaN</td>\n",
       "      <td>NaN</td>\n",
       "      <td>2.000000</td>\n",
       "      <td>2.00000</td>\n",
       "      <td>5.000000</td>\n",
       "      <td>1.332720e+09</td>\n",
       "      <td>NaN</td>\n",
       "      <td>NaN</td>\n",
       "    </tr>\n",
       "    <tr>\n",
       "      <th>max</th>\n",
       "      <td>NaN</td>\n",
       "      <td>NaN</td>\n",
       "      <td>NaN</td>\n",
       "      <td>866.000000</td>\n",
       "      <td>923.00000</td>\n",
       "      <td>5.000000</td>\n",
       "      <td>1.351210e+09</td>\n",
       "      <td>NaN</td>\n",
       "      <td>NaN</td>\n",
       "    </tr>\n",
       "  </tbody>\n",
       "</table>\n",
       "</div>"
      ],
      "text/plain": [
       "         ProductId          UserId       ProfileName  HelpfulnessNumerator  \\\n",
       "count       568454          568454            568428         568454.000000   \n",
       "unique       74258          256059            218415                   NaN   \n",
       "top     B007JFMH8M  A3OXHLG6DIBRW8  C. F. Hill \"CFH\"                   NaN   \n",
       "freq           913             448               451                   NaN   \n",
       "mean           NaN             NaN               NaN              1.743817   \n",
       "std            NaN             NaN               NaN              7.636513   \n",
       "min            NaN             NaN               NaN              0.000000   \n",
       "25%            NaN             NaN               NaN              0.000000   \n",
       "50%            NaN             NaN               NaN              0.000000   \n",
       "75%            NaN             NaN               NaN              2.000000   \n",
       "max            NaN             NaN               NaN            866.000000   \n",
       "\n",
       "        HelpfulnessDenominator          Score          Time     Summary  \\\n",
       "count             568454.00000  568454.000000  5.684540e+05      568427   \n",
       "unique                     NaN            NaN           NaN      295742   \n",
       "top                        NaN            NaN           NaN  Delicious!   \n",
       "freq                       NaN            NaN           NaN        2462   \n",
       "mean                   2.22881       4.183199  1.296257e+09         NaN   \n",
       "std                    8.28974       1.310436  4.804331e+07         NaN   \n",
       "min                    0.00000       1.000000  9.393408e+08         NaN   \n",
       "25%                    0.00000       4.000000  1.271290e+09         NaN   \n",
       "50%                    1.00000       5.000000  1.311120e+09         NaN   \n",
       "75%                    2.00000       5.000000  1.332720e+09         NaN   \n",
       "max                  923.00000       5.000000  1.351210e+09         NaN   \n",
       "\n",
       "                                                     Text  \n",
       "count                                              568454  \n",
       "unique                                             393579  \n",
       "top     This review will make me sound really stupid, ...  \n",
       "freq                                                  199  \n",
       "mean                                                  NaN  \n",
       "std                                                   NaN  \n",
       "min                                                   NaN  \n",
       "25%                                                   NaN  \n",
       "50%                                                   NaN  \n",
       "75%                                                   NaN  \n",
       "max                                                   NaN  "
      ]
     },
     "execution_count": 4,
     "metadata": {},
     "output_type": "execute_result"
    }
   ],
   "source": [
    "df.describe(include=\"all\")"
   ]
  },
  {
   "cell_type": "markdown",
   "id": "dcf40546-a1cc-4497-9b4b-de4404715ce8",
   "metadata": {},
   "source": [
    "There are 568 454 reviews, 74 258 unique products reviewed by 256 059 users."
   ]
  },
  {
   "cell_type": "code",
   "execution_count": 8,
   "id": "36328a17-6994-4502-93ed-a8109674ff05",
   "metadata": {},
   "outputs": [
    {
     "name": "stdout",
     "output_type": "stream",
     "text": [
      "<class 'pandas.core.frame.DataFrame'>\n",
      "Index: 568454 entries, 1 to 568454\n",
      "Data columns (total 9 columns):\n",
      " #   Column                  Non-Null Count   Dtype \n",
      "---  ------                  --------------   ----- \n",
      " 0   ProductId               568454 non-null  object\n",
      " 1   UserId                  568454 non-null  object\n",
      " 2   ProfileName             568428 non-null  object\n",
      " 3   HelpfulnessNumerator    568454 non-null  int64 \n",
      " 4   HelpfulnessDenominator  568454 non-null  int64 \n",
      " 5   Score                   568454 non-null  int64 \n",
      " 6   Time                    568454 non-null  int64 \n",
      " 7   Summary                 568427 non-null  object\n",
      " 8   Text                    568454 non-null  object\n",
      "dtypes: int64(4), object(5)\n",
      "memory usage: 43.4+ MB\n"
     ]
    }
   ],
   "source": [
    "df.info()"
   ]
  },
  {
   "cell_type": "markdown",
   "id": "e21a9026-cd3a-4124-993d-ea451d410481",
   "metadata": {},
   "source": [
    "We have 4 discrete numerical columns : Helpfulness Numerator, Helpfulness Denominator, Score and Time. \n",
    "We have 3 categorical ciolumns : ProductId, UserId and ProfileName."
   ]
  },
  {
   "cell_type": "markdown",
   "id": "67ddb9ec-bf72-425a-9e36-c4acf22ab15f",
   "metadata": {},
   "source": [
    "## Data formats\n",
    "\n",
    "We can transform the Time column into a Date column"
   ]
  },
  {
   "cell_type": "code",
   "execution_count": 9,
   "id": "5abdfb25-47e3-4494-bca8-0cfb87d1f37f",
   "metadata": {},
   "outputs": [],
   "source": [
    "df.Time = df.Time.apply(lambda x: pd.to_datetime(x, unit='s'))"
   ]
  },
  {
   "cell_type": "code",
   "execution_count": 10,
   "id": "0c30c183-549c-4d30-9ce3-1df8d22bfbff",
   "metadata": {},
   "outputs": [
    {
     "data": {
      "text/html": [
       "<div>\n",
       "<style scoped>\n",
       "    .dataframe tbody tr th:only-of-type {\n",
       "        vertical-align: middle;\n",
       "    }\n",
       "\n",
       "    .dataframe tbody tr th {\n",
       "        vertical-align: top;\n",
       "    }\n",
       "\n",
       "    .dataframe thead th {\n",
       "        text-align: right;\n",
       "    }\n",
       "</style>\n",
       "<table border=\"1\" class=\"dataframe\">\n",
       "  <thead>\n",
       "    <tr style=\"text-align: right;\">\n",
       "      <th></th>\n",
       "      <th>ProductId</th>\n",
       "      <th>UserId</th>\n",
       "      <th>ProfileName</th>\n",
       "      <th>HelpfulnessNumerator</th>\n",
       "      <th>HelpfulnessDenominator</th>\n",
       "      <th>Score</th>\n",
       "      <th>Time</th>\n",
       "      <th>Summary</th>\n",
       "      <th>Text</th>\n",
       "    </tr>\n",
       "    <tr>\n",
       "      <th>Id</th>\n",
       "      <th></th>\n",
       "      <th></th>\n",
       "      <th></th>\n",
       "      <th></th>\n",
       "      <th></th>\n",
       "      <th></th>\n",
       "      <th></th>\n",
       "      <th></th>\n",
       "      <th></th>\n",
       "    </tr>\n",
       "  </thead>\n",
       "  <tbody>\n",
       "    <tr>\n",
       "      <th>1</th>\n",
       "      <td>B001E4KFG0</td>\n",
       "      <td>A3SGXH7AUHU8GW</td>\n",
       "      <td>delmartian</td>\n",
       "      <td>1</td>\n",
       "      <td>1</td>\n",
       "      <td>5</td>\n",
       "      <td>2011-04-27</td>\n",
       "      <td>Good Quality Dog Food</td>\n",
       "      <td>I have bought several of the Vitality canned d...</td>\n",
       "    </tr>\n",
       "    <tr>\n",
       "      <th>2</th>\n",
       "      <td>B00813GRG4</td>\n",
       "      <td>A1D87F6ZCVE5NK</td>\n",
       "      <td>dll pa</td>\n",
       "      <td>0</td>\n",
       "      <td>0</td>\n",
       "      <td>1</td>\n",
       "      <td>2012-09-07</td>\n",
       "      <td>Not as Advertised</td>\n",
       "      <td>Product arrived labeled as Jumbo Salted Peanut...</td>\n",
       "    </tr>\n",
       "    <tr>\n",
       "      <th>3</th>\n",
       "      <td>B000LQOCH0</td>\n",
       "      <td>ABXLMWJIXXAIN</td>\n",
       "      <td>Natalia Corres \"Natalia Corres\"</td>\n",
       "      <td>1</td>\n",
       "      <td>1</td>\n",
       "      <td>4</td>\n",
       "      <td>2008-08-18</td>\n",
       "      <td>\"Delight\" says it all</td>\n",
       "      <td>This is a confection that has been around a fe...</td>\n",
       "    </tr>\n",
       "    <tr>\n",
       "      <th>4</th>\n",
       "      <td>B000UA0QIQ</td>\n",
       "      <td>A395BORC6FGVXV</td>\n",
       "      <td>Karl</td>\n",
       "      <td>3</td>\n",
       "      <td>3</td>\n",
       "      <td>2</td>\n",
       "      <td>2011-06-13</td>\n",
       "      <td>Cough Medicine</td>\n",
       "      <td>If you are looking for the secret ingredient i...</td>\n",
       "    </tr>\n",
       "    <tr>\n",
       "      <th>5</th>\n",
       "      <td>B006K2ZZ7K</td>\n",
       "      <td>A1UQRSCLF8GW1T</td>\n",
       "      <td>Michael D. Bigham \"M. Wassir\"</td>\n",
       "      <td>0</td>\n",
       "      <td>0</td>\n",
       "      <td>5</td>\n",
       "      <td>2012-10-21</td>\n",
       "      <td>Great taffy</td>\n",
       "      <td>Great taffy at a great price.  There was a wid...</td>\n",
       "    </tr>\n",
       "  </tbody>\n",
       "</table>\n",
       "</div>"
      ],
      "text/plain": [
       "     ProductId          UserId                      ProfileName  \\\n",
       "Id                                                                \n",
       "1   B001E4KFG0  A3SGXH7AUHU8GW                       delmartian   \n",
       "2   B00813GRG4  A1D87F6ZCVE5NK                           dll pa   \n",
       "3   B000LQOCH0   ABXLMWJIXXAIN  Natalia Corres \"Natalia Corres\"   \n",
       "4   B000UA0QIQ  A395BORC6FGVXV                             Karl   \n",
       "5   B006K2ZZ7K  A1UQRSCLF8GW1T    Michael D. Bigham \"M. Wassir\"   \n",
       "\n",
       "    HelpfulnessNumerator  HelpfulnessDenominator  Score       Time  \\\n",
       "Id                                                                   \n",
       "1                      1                       1      5 2011-04-27   \n",
       "2                      0                       0      1 2012-09-07   \n",
       "3                      1                       1      4 2008-08-18   \n",
       "4                      3                       3      2 2011-06-13   \n",
       "5                      0                       0      5 2012-10-21   \n",
       "\n",
       "                  Summary                                               Text  \n",
       "Id                                                                            \n",
       "1   Good Quality Dog Food  I have bought several of the Vitality canned d...  \n",
       "2       Not as Advertised  Product arrived labeled as Jumbo Salted Peanut...  \n",
       "3   \"Delight\" says it all  This is a confection that has been around a fe...  \n",
       "4          Cough Medicine  If you are looking for the secret ingredient i...  \n",
       "5             Great taffy  Great taffy at a great price.  There was a wid...  "
      ]
     },
     "execution_count": 10,
     "metadata": {},
     "output_type": "execute_result"
    }
   ],
   "source": [
    "df.head()"
   ]
  },
  {
   "cell_type": "markdown",
   "id": "132ca076-5be8-4f0e-a8ca-0d3a23c40497",
   "metadata": {},
   "source": [
    "## Missing Values"
   ]
  },
  {
   "cell_type": "code",
   "execution_count": 11,
   "id": "e3f3a752-b495-4e43-9c62-dd7cbb8fcbac",
   "metadata": {},
   "outputs": [
    {
     "data": {
      "text/plain": [
       "ProductId                  0\n",
       "UserId                     0\n",
       "ProfileName               26\n",
       "HelpfulnessNumerator       0\n",
       "HelpfulnessDenominator     0\n",
       "Score                      0\n",
       "Time                       0\n",
       "Summary                   27\n",
       "Text                       0\n",
       "dtype: int64"
      ]
     },
     "execution_count": 11,
     "metadata": {},
     "output_type": "execute_result"
    }
   ],
   "source": [
    "df.isna().sum()"
   ]
  },
  {
   "cell_type": "markdown",
   "id": "5f5a7026-743b-486a-97c8-05b96aec54dd",
   "metadata": {},
   "source": [
    "We notice Profile Name and Summary columns have some missing values. \n",
    "\n",
    "### Profile Name Imputation\n",
    "if userId has duplicated values and one of the rows has a profile name, we can use this value. If the userId isn't duplicated, we can put the value Anonymous."
   ]
  },
  {
   "cell_type": "code",
   "execution_count": 12,
   "id": "cc05f2ea-86b2-4a19-8d8d-2fa7b9254c2e",
   "metadata": {},
   "outputs": [
    {
     "data": {
      "text/html": [
       "<div>\n",
       "<style scoped>\n",
       "    .dataframe tbody tr th:only-of-type {\n",
       "        vertical-align: middle;\n",
       "    }\n",
       "\n",
       "    .dataframe tbody tr th {\n",
       "        vertical-align: top;\n",
       "    }\n",
       "\n",
       "    .dataframe thead th {\n",
       "        text-align: right;\n",
       "    }\n",
       "</style>\n",
       "<table border=\"1\" class=\"dataframe\">\n",
       "  <thead>\n",
       "    <tr style=\"text-align: right;\">\n",
       "      <th></th>\n",
       "      <th>ProductId</th>\n",
       "      <th>UserId</th>\n",
       "      <th>ProfileName</th>\n",
       "      <th>HelpfulnessNumerator</th>\n",
       "      <th>HelpfulnessDenominator</th>\n",
       "      <th>Score</th>\n",
       "      <th>Time</th>\n",
       "      <th>Summary</th>\n",
       "      <th>Text</th>\n",
       "    </tr>\n",
       "    <tr>\n",
       "      <th>Id</th>\n",
       "      <th></th>\n",
       "      <th></th>\n",
       "      <th></th>\n",
       "      <th></th>\n",
       "      <th></th>\n",
       "      <th></th>\n",
       "      <th></th>\n",
       "      <th></th>\n",
       "      <th></th>\n",
       "    </tr>\n",
       "  </thead>\n",
       "  <tbody>\n",
       "    <tr>\n",
       "      <th>10617</th>\n",
       "      <td>B002DHN956</td>\n",
       "      <td>A1LSYR30XW7CFT</td>\n",
       "      <td>NaN</td>\n",
       "      <td>1</td>\n",
       "      <td>2</td>\n",
       "      <td>5</td>\n",
       "      <td>2010-12-07</td>\n",
       "      <td>Awesome</td>\n",
       "      <td>This is 72 for the price of like 24 at the gro...</td>\n",
       "    </tr>\n",
       "    <tr>\n",
       "      <th>25510</th>\n",
       "      <td>B000LKZB4Y</td>\n",
       "      <td>A36BVYD0NT7Z0F</td>\n",
       "      <td>NaN</td>\n",
       "      <td>0</td>\n",
       "      <td>0</td>\n",
       "      <td>5</td>\n",
       "      <td>2011-08-29</td>\n",
       "      <td>These are the best mints and no aspartame or BHT</td>\n",
       "      <td>I was so shocked to find out that almost all g...</td>\n",
       "    </tr>\n",
       "    <tr>\n",
       "      <th>38875</th>\n",
       "      <td>B000AYDGZ2</td>\n",
       "      <td>A36BVYD0NT7Z0F</td>\n",
       "      <td>NaN</td>\n",
       "      <td>2</td>\n",
       "      <td>3</td>\n",
       "      <td>1</td>\n",
       "      <td>2010-07-06</td>\n",
       "      <td>doesn't anyone care that they are putting BHT ...</td>\n",
       "      <td>I called Kellogg's to see why Special K red be...</td>\n",
       "    </tr>\n",
       "    <tr>\n",
       "      <th>47924</th>\n",
       "      <td>B004SRH2B6</td>\n",
       "      <td>A2DEHJJIEAPPBF</td>\n",
       "      <td>NaN</td>\n",
       "      <td>0</td>\n",
       "      <td>0</td>\n",
       "      <td>5</td>\n",
       "      <td>2012-06-06</td>\n",
       "      <td>Great taste</td>\n",
       "      <td>Enjoy drinking this brand.  Tastes as good as ...</td>\n",
       "    </tr>\n",
       "    <tr>\n",
       "      <th>49801</th>\n",
       "      <td>B000CRHQN0</td>\n",
       "      <td>A2LYFY32LXQDON</td>\n",
       "      <td>NaN</td>\n",
       "      <td>0</td>\n",
       "      <td>0</td>\n",
       "      <td>2</td>\n",
       "      <td>2010-08-24</td>\n",
       "      <td>They were melted and the chocolate had turned ...</td>\n",
       "      <td>We love these bars but i won't order them ship...</td>\n",
       "    </tr>\n",
       "    <tr>\n",
       "      <th>67078</th>\n",
       "      <td>B0006348H2</td>\n",
       "      <td>A2P0P67Y55SNOX</td>\n",
       "      <td>NaN</td>\n",
       "      <td>1</td>\n",
       "      <td>1</td>\n",
       "      <td>5</td>\n",
       "      <td>2011-08-30</td>\n",
       "      <td>Wheatgrass</td>\n",
       "      <td>Kitty seems to like this sprinkled on her food...</td>\n",
       "    </tr>\n",
       "    <tr>\n",
       "      <th>106551</th>\n",
       "      <td>B001EQ5DG0</td>\n",
       "      <td>A1P500QXEG3IUZ</td>\n",
       "      <td>NaN</td>\n",
       "      <td>0</td>\n",
       "      <td>0</td>\n",
       "      <td>5</td>\n",
       "      <td>2012-01-17</td>\n",
       "      <td>Finally!</td>\n",
       "      <td>You cannot find this in the stores anymore, it...</td>\n",
       "    </tr>\n",
       "    <tr>\n",
       "      <th>121820</th>\n",
       "      <td>B006N3I2SK</td>\n",
       "      <td>A34F9B57SYQ5XR</td>\n",
       "      <td>NaN</td>\n",
       "      <td>0</td>\n",
       "      <td>0</td>\n",
       "      <td>5</td>\n",
       "      <td>2012-04-25</td>\n",
       "      <td>Exactly what I ordered</td>\n",
       "      <td>Very good coffee, very good price.  It can be ...</td>\n",
       "    </tr>\n",
       "    <tr>\n",
       "      <th>125453</th>\n",
       "      <td>B001EO6ESS</td>\n",
       "      <td>A34F9B57SYQ5XR</td>\n",
       "      <td>NaN</td>\n",
       "      <td>0</td>\n",
       "      <td>0</td>\n",
       "      <td>5</td>\n",
       "      <td>2012-04-25</td>\n",
       "      <td>Exactly what I ordered</td>\n",
       "      <td>Very good coffee, very good price.  It can be ...</td>\n",
       "    </tr>\n",
       "    <tr>\n",
       "      <th>137614</th>\n",
       "      <td>B000CQE3HS</td>\n",
       "      <td>AGT3BYX5P9SLH</td>\n",
       "      <td>NaN</td>\n",
       "      <td>0</td>\n",
       "      <td>0</td>\n",
       "      <td>5</td>\n",
       "      <td>2011-12-24</td>\n",
       "      <td>awesome</td>\n",
       "      <td>i love them they are amazing I would eat them ...</td>\n",
       "    </tr>\n",
       "    <tr>\n",
       "      <th>163192</th>\n",
       "      <td>B000CQID1A</td>\n",
       "      <td>AGT3BYX5P9SLH</td>\n",
       "      <td>NaN</td>\n",
       "      <td>0</td>\n",
       "      <td>0</td>\n",
       "      <td>5</td>\n",
       "      <td>2011-12-24</td>\n",
       "      <td>awesome</td>\n",
       "      <td>i love them they are amazing I would eat them ...</td>\n",
       "    </tr>\n",
       "    <tr>\n",
       "      <th>172463</th>\n",
       "      <td>B001FA1L9I</td>\n",
       "      <td>AC9U70TRGPDGJ</td>\n",
       "      <td>NaN</td>\n",
       "      <td>0</td>\n",
       "      <td>0</td>\n",
       "      <td>5</td>\n",
       "      <td>2010-11-12</td>\n",
       "      <td>very good</td>\n",
       "      <td>came in proper packaging.  Have loved British ...</td>\n",
       "    </tr>\n",
       "    <tr>\n",
       "      <th>211847</th>\n",
       "      <td>B000CNB4LE</td>\n",
       "      <td>A2DEHJJIEAPPBF</td>\n",
       "      <td>NaN</td>\n",
       "      <td>0</td>\n",
       "      <td>0</td>\n",
       "      <td>5</td>\n",
       "      <td>2012-06-06</td>\n",
       "      <td>Great taste</td>\n",
       "      <td>Enjoy drinking this brand.  Tastes as good as ...</td>\n",
       "    </tr>\n",
       "    <tr>\n",
       "      <th>268649</th>\n",
       "      <td>B004SRFYMK</td>\n",
       "      <td>A2DEHJJIEAPPBF</td>\n",
       "      <td>NaN</td>\n",
       "      <td>0</td>\n",
       "      <td>0</td>\n",
       "      <td>5</td>\n",
       "      <td>2012-06-06</td>\n",
       "      <td>Great taste</td>\n",
       "      <td>Enjoy drinking this brand.  Tastes as good as ...</td>\n",
       "    </tr>\n",
       "    <tr>\n",
       "      <th>297276</th>\n",
       "      <td>B007OXJM6E</td>\n",
       "      <td>A29D7XVSBCLFLD</td>\n",
       "      <td>NaN</td>\n",
       "      <td>0</td>\n",
       "      <td>0</td>\n",
       "      <td>1</td>\n",
       "      <td>2011-12-30</td>\n",
       "      <td>Burnt</td>\n",
       "      <td>The last SEVERAL time we bought this it tasted...</td>\n",
       "    </tr>\n",
       "    <tr>\n",
       "      <th>306752</th>\n",
       "      <td>B000RI1W8E</td>\n",
       "      <td>AGT3BYX5P9SLH</td>\n",
       "      <td>NaN</td>\n",
       "      <td>0</td>\n",
       "      <td>0</td>\n",
       "      <td>5</td>\n",
       "      <td>2011-12-24</td>\n",
       "      <td>awesome</td>\n",
       "      <td>i love them they are amazing I would eat them ...</td>\n",
       "    </tr>\n",
       "    <tr>\n",
       "      <th>331648</th>\n",
       "      <td>B0000GHNTU</td>\n",
       "      <td>A1PZJLGDQSLZWE</td>\n",
       "      <td>NaN</td>\n",
       "      <td>0</td>\n",
       "      <td>0</td>\n",
       "      <td>4</td>\n",
       "      <td>2012-04-23</td>\n",
       "      <td>Great product - Lousy Customer Service</td>\n",
       "      <td>This sauce is excellent. Medium hot with smoky...</td>\n",
       "    </tr>\n",
       "    <tr>\n",
       "      <th>358675</th>\n",
       "      <td>B003CIBPN8</td>\n",
       "      <td>A2DEHJJIEAPPBF</td>\n",
       "      <td>NaN</td>\n",
       "      <td>0</td>\n",
       "      <td>0</td>\n",
       "      <td>5</td>\n",
       "      <td>2012-06-06</td>\n",
       "      <td>Great taste</td>\n",
       "      <td>Enjoy drinking this brand.  Tastes as good as ...</td>\n",
       "    </tr>\n",
       "    <tr>\n",
       "      <th>431599</th>\n",
       "      <td>B000W5P0KI</td>\n",
       "      <td>A36BVYD0NT7Z0F</td>\n",
       "      <td>NaN</td>\n",
       "      <td>13</td>\n",
       "      <td>21</td>\n",
       "      <td>1</td>\n",
       "      <td>2011-03-01</td>\n",
       "      <td>WARNING:  Please read before feeding</td>\n",
       "      <td>WARNING:  I use to feed my dogs Orijen 75% pro...</td>\n",
       "    </tr>\n",
       "    <tr>\n",
       "      <th>440826</th>\n",
       "      <td>B008LFAS08</td>\n",
       "      <td>AC0E8TXIYABB5</td>\n",
       "      <td>NaN</td>\n",
       "      <td>1</td>\n",
       "      <td>1</td>\n",
       "      <td>5</td>\n",
       "      <td>2012-10-17</td>\n",
       "      <td>The perfect grinder for dog and cat food!</td>\n",
       "      <td>this grinder is super easy to assemble and ope...</td>\n",
       "    </tr>\n",
       "    <tr>\n",
       "      <th>461669</th>\n",
       "      <td>B008K9TJDM</td>\n",
       "      <td>A34F9B57SYQ5XR</td>\n",
       "      <td>NaN</td>\n",
       "      <td>0</td>\n",
       "      <td>0</td>\n",
       "      <td>5</td>\n",
       "      <td>2012-04-25</td>\n",
       "      <td>Exactly what I ordered</td>\n",
       "      <td>Very good coffee, very good price.  It can be ...</td>\n",
       "    </tr>\n",
       "    <tr>\n",
       "      <th>490413</th>\n",
       "      <td>B000CQE3IC</td>\n",
       "      <td>AGT3BYX5P9SLH</td>\n",
       "      <td>NaN</td>\n",
       "      <td>0</td>\n",
       "      <td>0</td>\n",
       "      <td>5</td>\n",
       "      <td>2011-12-24</td>\n",
       "      <td>awesome</td>\n",
       "      <td>i love them they are amazing I would eat them ...</td>\n",
       "    </tr>\n",
       "    <tr>\n",
       "      <th>491729</th>\n",
       "      <td>B004772PJQ</td>\n",
       "      <td>A29D7XVSBCLFLD</td>\n",
       "      <td>NaN</td>\n",
       "      <td>0</td>\n",
       "      <td>0</td>\n",
       "      <td>1</td>\n",
       "      <td>2011-12-30</td>\n",
       "      <td>Burnt</td>\n",
       "      <td>The last SEVERAL time we bought this it tasted...</td>\n",
       "    </tr>\n",
       "    <tr>\n",
       "      <th>515437</th>\n",
       "      <td>B004S04X4W</td>\n",
       "      <td>A2H7605OSHVIQ5</td>\n",
       "      <td>NaN</td>\n",
       "      <td>0</td>\n",
       "      <td>0</td>\n",
       "      <td>5</td>\n",
       "      <td>2012-09-27</td>\n",
       "      <td>Hormel Roast Beef Hash, 15-Ounce</td>\n",
       "      <td>I've been buying this in the grocery stores fr...</td>\n",
       "    </tr>\n",
       "    <tr>\n",
       "      <th>517677</th>\n",
       "      <td>B008CIS05O</td>\n",
       "      <td>A1VIUQE908L3M3</td>\n",
       "      <td>NaN</td>\n",
       "      <td>0</td>\n",
       "      <td>0</td>\n",
       "      <td>5</td>\n",
       "      <td>2012-10-04</td>\n",
       "      <td>Classis Dentyne Spearmint Gum</td>\n",
       "      <td>It is just what I wanted and as I remembered i...</td>\n",
       "    </tr>\n",
       "    <tr>\n",
       "      <th>560447</th>\n",
       "      <td>B000CQID1K</td>\n",
       "      <td>AGT3BYX5P9SLH</td>\n",
       "      <td>NaN</td>\n",
       "      <td>0</td>\n",
       "      <td>0</td>\n",
       "      <td>5</td>\n",
       "      <td>2011-12-24</td>\n",
       "      <td>awesome</td>\n",
       "      <td>i love them they are amazing I would eat them ...</td>\n",
       "    </tr>\n",
       "  </tbody>\n",
       "</table>\n",
       "</div>"
      ],
      "text/plain": [
       "         ProductId          UserId ProfileName  HelpfulnessNumerator  \\\n",
       "Id                                                                     \n",
       "10617   B002DHN956  A1LSYR30XW7CFT         NaN                     1   \n",
       "25510   B000LKZB4Y  A36BVYD0NT7Z0F         NaN                     0   \n",
       "38875   B000AYDGZ2  A36BVYD0NT7Z0F         NaN                     2   \n",
       "47924   B004SRH2B6  A2DEHJJIEAPPBF         NaN                     0   \n",
       "49801   B000CRHQN0  A2LYFY32LXQDON         NaN                     0   \n",
       "67078   B0006348H2  A2P0P67Y55SNOX         NaN                     1   \n",
       "106551  B001EQ5DG0  A1P500QXEG3IUZ         NaN                     0   \n",
       "121820  B006N3I2SK  A34F9B57SYQ5XR         NaN                     0   \n",
       "125453  B001EO6ESS  A34F9B57SYQ5XR         NaN                     0   \n",
       "137614  B000CQE3HS   AGT3BYX5P9SLH         NaN                     0   \n",
       "163192  B000CQID1A   AGT3BYX5P9SLH         NaN                     0   \n",
       "172463  B001FA1L9I   AC9U70TRGPDGJ         NaN                     0   \n",
       "211847  B000CNB4LE  A2DEHJJIEAPPBF         NaN                     0   \n",
       "268649  B004SRFYMK  A2DEHJJIEAPPBF         NaN                     0   \n",
       "297276  B007OXJM6E  A29D7XVSBCLFLD         NaN                     0   \n",
       "306752  B000RI1W8E   AGT3BYX5P9SLH         NaN                     0   \n",
       "331648  B0000GHNTU  A1PZJLGDQSLZWE         NaN                     0   \n",
       "358675  B003CIBPN8  A2DEHJJIEAPPBF         NaN                     0   \n",
       "431599  B000W5P0KI  A36BVYD0NT7Z0F         NaN                    13   \n",
       "440826  B008LFAS08   AC0E8TXIYABB5         NaN                     1   \n",
       "461669  B008K9TJDM  A34F9B57SYQ5XR         NaN                     0   \n",
       "490413  B000CQE3IC   AGT3BYX5P9SLH         NaN                     0   \n",
       "491729  B004772PJQ  A29D7XVSBCLFLD         NaN                     0   \n",
       "515437  B004S04X4W  A2H7605OSHVIQ5         NaN                     0   \n",
       "517677  B008CIS05O  A1VIUQE908L3M3         NaN                     0   \n",
       "560447  B000CQID1K   AGT3BYX5P9SLH         NaN                     0   \n",
       "\n",
       "        HelpfulnessDenominator  Score       Time  \\\n",
       "Id                                                 \n",
       "10617                        2      5 2010-12-07   \n",
       "25510                        0      5 2011-08-29   \n",
       "38875                        3      1 2010-07-06   \n",
       "47924                        0      5 2012-06-06   \n",
       "49801                        0      2 2010-08-24   \n",
       "67078                        1      5 2011-08-30   \n",
       "106551                       0      5 2012-01-17   \n",
       "121820                       0      5 2012-04-25   \n",
       "125453                       0      5 2012-04-25   \n",
       "137614                       0      5 2011-12-24   \n",
       "163192                       0      5 2011-12-24   \n",
       "172463                       0      5 2010-11-12   \n",
       "211847                       0      5 2012-06-06   \n",
       "268649                       0      5 2012-06-06   \n",
       "297276                       0      1 2011-12-30   \n",
       "306752                       0      5 2011-12-24   \n",
       "331648                       0      4 2012-04-23   \n",
       "358675                       0      5 2012-06-06   \n",
       "431599                      21      1 2011-03-01   \n",
       "440826                       1      5 2012-10-17   \n",
       "461669                       0      5 2012-04-25   \n",
       "490413                       0      5 2011-12-24   \n",
       "491729                       0      1 2011-12-30   \n",
       "515437                       0      5 2012-09-27   \n",
       "517677                       0      5 2012-10-04   \n",
       "560447                       0      5 2011-12-24   \n",
       "\n",
       "                                                  Summary  \\\n",
       "Id                                                          \n",
       "10617                                             Awesome   \n",
       "25510    These are the best mints and no aspartame or BHT   \n",
       "38875   doesn't anyone care that they are putting BHT ...   \n",
       "47924                                         Great taste   \n",
       "49801   They were melted and the chocolate had turned ...   \n",
       "67078                                          Wheatgrass   \n",
       "106551                                           Finally!   \n",
       "121820                             Exactly what I ordered   \n",
       "125453                             Exactly what I ordered   \n",
       "137614                                            awesome   \n",
       "163192                                            awesome   \n",
       "172463                                          very good   \n",
       "211847                                        Great taste   \n",
       "268649                                        Great taste   \n",
       "297276                                              Burnt   \n",
       "306752                                            awesome   \n",
       "331648             Great product - Lousy Customer Service   \n",
       "358675                                        Great taste   \n",
       "431599               WARNING:  Please read before feeding   \n",
       "440826          The perfect grinder for dog and cat food!   \n",
       "461669                             Exactly what I ordered   \n",
       "490413                                            awesome   \n",
       "491729                                              Burnt   \n",
       "515437                   Hormel Roast Beef Hash, 15-Ounce   \n",
       "517677                      Classis Dentyne Spearmint Gum   \n",
       "560447                                            awesome   \n",
       "\n",
       "                                                     Text  \n",
       "Id                                                         \n",
       "10617   This is 72 for the price of like 24 at the gro...  \n",
       "25510   I was so shocked to find out that almost all g...  \n",
       "38875   I called Kellogg's to see why Special K red be...  \n",
       "47924   Enjoy drinking this brand.  Tastes as good as ...  \n",
       "49801   We love these bars but i won't order them ship...  \n",
       "67078   Kitty seems to like this sprinkled on her food...  \n",
       "106551  You cannot find this in the stores anymore, it...  \n",
       "121820  Very good coffee, very good price.  It can be ...  \n",
       "125453  Very good coffee, very good price.  It can be ...  \n",
       "137614  i love them they are amazing I would eat them ...  \n",
       "163192  i love them they are amazing I would eat them ...  \n",
       "172463  came in proper packaging.  Have loved British ...  \n",
       "211847  Enjoy drinking this brand.  Tastes as good as ...  \n",
       "268649  Enjoy drinking this brand.  Tastes as good as ...  \n",
       "297276  The last SEVERAL time we bought this it tasted...  \n",
       "306752  i love them they are amazing I would eat them ...  \n",
       "331648  This sauce is excellent. Medium hot with smoky...  \n",
       "358675  Enjoy drinking this brand.  Tastes as good as ...  \n",
       "431599  WARNING:  I use to feed my dogs Orijen 75% pro...  \n",
       "440826  this grinder is super easy to assemble and ope...  \n",
       "461669  Very good coffee, very good price.  It can be ...  \n",
       "490413  i love them they are amazing I would eat them ...  \n",
       "491729  The last SEVERAL time we bought this it tasted...  \n",
       "515437  I've been buying this in the grocery stores fr...  \n",
       "517677  It is just what I wanted and as I remembered i...  \n",
       "560447  i love them they are amazing I would eat them ...  "
      ]
     },
     "execution_count": 12,
     "metadata": {},
     "output_type": "execute_result"
    }
   ],
   "source": [
    "df[df.ProfileName.isna()]"
   ]
  },
  {
   "cell_type": "code",
   "execution_count": 13,
   "id": "8b2543dd-fd5a-4aa8-9deb-0014a4e7cb3d",
   "metadata": {},
   "outputs": [
    {
     "data": {
      "text/plain": [
       "Id\n",
       "10617     A1LSYR30XW7CFT\n",
       "25510     A36BVYD0NT7Z0F\n",
       "38875     A36BVYD0NT7Z0F\n",
       "47924     A2DEHJJIEAPPBF\n",
       "49801     A2LYFY32LXQDON\n",
       "67078     A2P0P67Y55SNOX\n",
       "106551    A1P500QXEG3IUZ\n",
       "121820    A34F9B57SYQ5XR\n",
       "125453    A34F9B57SYQ5XR\n",
       "137614     AGT3BYX5P9SLH\n",
       "163192     AGT3BYX5P9SLH\n",
       "172463     AC9U70TRGPDGJ\n",
       "211847    A2DEHJJIEAPPBF\n",
       "268649    A2DEHJJIEAPPBF\n",
       "297276    A29D7XVSBCLFLD\n",
       "306752     AGT3BYX5P9SLH\n",
       "331648    A1PZJLGDQSLZWE\n",
       "358675    A2DEHJJIEAPPBF\n",
       "431599    A36BVYD0NT7Z0F\n",
       "440826     AC0E8TXIYABB5\n",
       "461669    A34F9B57SYQ5XR\n",
       "490413     AGT3BYX5P9SLH\n",
       "491729    A29D7XVSBCLFLD\n",
       "515437    A2H7605OSHVIQ5\n",
       "517677    A1VIUQE908L3M3\n",
       "560447     AGT3BYX5P9SLH\n",
       "Name: UserId, dtype: object"
      ]
     },
     "execution_count": 13,
     "metadata": {},
     "output_type": "execute_result"
    }
   ],
   "source": [
    "userIdsWithoutProfileName = df[df.ProfileName.isna()].UserId\n",
    "userIdsWithoutProfileName # 26 user Ids"
   ]
  },
  {
   "cell_type": "code",
   "execution_count": 14,
   "id": "c9cf551b-44fb-4c83-ab77-4234f063f577",
   "metadata": {},
   "outputs": [
    {
     "data": {
      "text/plain": [
       "array(['A1LSYR30XW7CFT', 'A36BVYD0NT7Z0F', 'A2DEHJJIEAPPBF',\n",
       "       'A2LYFY32LXQDON', 'A2P0P67Y55SNOX', 'A1P500QXEG3IUZ',\n",
       "       'A34F9B57SYQ5XR', 'AGT3BYX5P9SLH', 'AC9U70TRGPDGJ',\n",
       "       'A29D7XVSBCLFLD', 'A1PZJLGDQSLZWE', 'AC0E8TXIYABB5',\n",
       "       'A2H7605OSHVIQ5', 'A1VIUQE908L3M3'], dtype=object)"
      ]
     },
     "execution_count": 14,
     "metadata": {},
     "output_type": "execute_result"
    }
   ],
   "source": [
    "userIdsWithoutProfileName = userIdsWithoutProfileName.unique() # 14 unique values\n",
    "userIdsWithoutProfileName"
   ]
  },
  {
   "cell_type": "code",
   "execution_count": 15,
   "id": "d0827a39-b3ee-4ddc-88c4-7a0b1b52cf43",
   "metadata": {},
   "outputs": [],
   "source": [
    "def getExistingProfileName(data, userId):\n",
    "    newProfileName = \"Anonymous\"\n",
    "    profileNames = df[df.UserId == userId].ProfileName.dropna()\n",
    "    hasProfileName = len(df[df.UserId == userId].ProfileName.dropna())\n",
    "\n",
    "    if len(profileNames):\n",
    "        newProfileName = profielNames[0]\n",
    "\n",
    "    return newProfileName"
   ]
  },
  {
   "cell_type": "code",
   "execution_count": 16,
   "id": "0cffb2a1-d525-433b-acd9-a9a4c344ee2c",
   "metadata": {},
   "outputs": [],
   "source": [
    "for userId in userIdsWithoutProfileName: \n",
    "    df.loc[df.UserId == userId, \"ProfileName\"]= getExistingProfileName(df, userId)"
   ]
  },
  {
   "cell_type": "markdown",
   "id": "5846603a-2fe2-4cd1-9aee-8590ec604f7c",
   "metadata": {},
   "source": [
    "### Summary Imputation\n",
    "Since we don't know what the user could have put as a summary, we can put some neutral placeholder, that the front-end team on Amazon website could have put such as \"Review Summary\"."
   ]
  },
  {
   "cell_type": "code",
   "execution_count": 17,
   "id": "1c5fc1c6-bb27-427b-b25b-e906644fb4d2",
   "metadata": {},
   "outputs": [],
   "source": [
    "df.loc[df.Summary.isna(), \"Summary\"] = \"Review Summary\""
   ]
  },
  {
   "cell_type": "markdown",
   "id": "78b4ce69-1048-4a20-aa3a-f7adf302340d",
   "metadata": {},
   "source": [
    "## Duplicated values"
   ]
  },
  {
   "cell_type": "code",
   "execution_count": 18,
   "id": "0e8a4cab-6c06-4c1a-971e-bd4d4815378a",
   "metadata": {},
   "outputs": [
    {
     "data": {
      "text/plain": [
       "281"
      ]
     },
     "execution_count": 18,
     "metadata": {},
     "output_type": "execute_result"
    }
   ],
   "source": [
    "df.duplicated().sum()"
   ]
  },
  {
   "cell_type": "markdown",
   "id": "180940af-ac50-4d64-8ac0-9c2d8ef43ee1",
   "metadata": {},
   "source": [
    "We can remove duplicated values"
   ]
  },
  {
   "cell_type": "code",
   "execution_count": 19,
   "id": "dd753fec-a013-4b00-a83f-1de574424fd6",
   "metadata": {},
   "outputs": [],
   "source": [
    "df.drop_duplicates(inplace=True)"
   ]
  },
  {
   "cell_type": "markdown",
   "id": "aafd993f-099e-4294-8894-b2ad997146c9",
   "metadata": {},
   "source": [
    "### How many reviews do we have per customer ?"
   ]
  },
  {
   "cell_type": "code",
   "execution_count": 24,
   "id": "67384389-3a96-4f9f-aeff-f276374572bb",
   "metadata": {},
   "outputs": [
    {
     "data": {
      "text/plain": [
       "2.21891439082399"
      ]
     },
     "execution_count": 24,
     "metadata": {},
     "output_type": "execute_result"
    }
   ],
   "source": [
    "df.groupby(\"UserId\").Text.count().mean()"
   ]
  },
  {
   "cell_type": "markdown",
   "id": "d6e667ee-b8c5-497c-ba74-f7c8c34d0edd",
   "metadata": {},
   "source": [
    "## Distribution Type"
   ]
  },
  {
   "cell_type": "code",
   "execution_count": 66,
   "id": "c23c179f-2393-4c77-a9dd-c8db8d2546e5",
   "metadata": {},
   "outputs": [
    {
     "data": {
      "text/plain": [
       "<Axes: >"
      ]
     },
     "execution_count": 66,
     "metadata": {},
     "output_type": "execute_result"
    },
    {
     "data": {
      "image/png": "[encoded data removed]",
      "text/plain": [
       "<Figure size 640x480 with 1 Axes>"
      ]
     },
     "metadata": {},
     "output_type": "display_data"
    }
   ],
   "source": [
    "df.Score.hist()"
   ]
  },
  {
   "cell_type": "code",
   "execution_count": 71,
   "id": "ce89361c-8bb2-4ca9-a896-1133089620f0",
   "metadata": {},
   "outputs": [
    {
     "data": {
      "text/plain": [
       "Score\n",
       "5    63.877727\n",
       "4    14.190572\n",
       "1     9.192799\n",
       "3     7.500180\n",
       "2     5.238721\n",
       "Name: count, dtype: float64"
      ]
     },
     "execution_count": 71,
     "metadata": {},
     "output_type": "execute_result"
    }
   ],
   "source": [
    "df.Score.value_counts() / len(df) * 100"
   ]
  },
  {
   "cell_type": "code",
   "execution_count": 29,
   "id": "6be1ebbe-d528-41f9-90cf-ca8fc11e9924",
   "metadata": {},
   "outputs": [
    {
     "data": {
      "text/plain": [
       "<Axes: >"
      ]
     },
     "execution_count": 29,
     "metadata": {},
     "output_type": "execute_result"
    },
    {
     "data": {
      "image/png": "[encoded data removed]",
      "text/plain": [
       "<Figure size 640x480 with 1 Axes>"
      ]
     },
     "metadata": {},
     "output_type": "display_data"
    }
   ],
   "source": [
    "df.HelpfulnessNumerator.hist(bins=50)"
   ]
  },
  {
   "cell_type": "code",
   "execution_count": 30,
   "id": "7955273f-8cae-4029-aa1f-384cdb283a4b",
   "metadata": {},
   "outputs": [
    {
     "data": {
      "text/plain": [
       "<Axes: >"
      ]
     },
     "execution_count": 30,
     "metadata": {},
     "output_type": "execute_result"
    },
    {
     "data": {
      "image/png": "[encoded data removed]",
      "text/plain": [
       "<Figure size 640x480 with 1 Axes>"
      ]
     },
     "metadata": {},
     "output_type": "display_data"
    }
   ],
   "source": [
    "df.HelpfulnessDenominator.hist(bins=50)"
   ]
  },
  {
   "cell_type": "markdown",
   "id": "2273207d-4df9-45d4-a314-fb639ba02315",
   "metadata": {},
   "source": [
    "63% of the Score ratings are equal to 5, so we may notice a class imbalance especially if we have to do sentiment analysis. The dataset may have a higher proportion of positive reviews."
   ]
  },
  {
   "cell_type": "markdown",
   "id": "75089aff-bea8-486d-a444-3eb06897f2b0",
   "metadata": {},
   "source": [
    "## Outliers detection\n",
    "\n",
    "Let's have a look at our numerical columns to see if there aren't outstanding values\n",
    "\n",
    "### Helpfulness Numerator\n",
    "Number of users who found the review helpful"
   ]
  },
  {
   "cell_type": "code",
   "execution_count": 62,
   "id": "ac943875-afa6-4ffd-97ce-50009671326a",
   "metadata": {},
   "outputs": [
    {
     "data": {
      "text/plain": [
       "array([  1,   0,   3,   4,   2,  19,  13,   9,  15,   5,  17,   8,   6,\n",
       "         7,  43,  14,  11,  20,  27,  12,  10,  16,  21,  26,  23, 165,\n",
       "        45,  30, 100,  32,  24,  22,  18,  59, 187,  29, 112, 107,  51,\n",
       "        36,  25,  88,  35,  38,  42,  70,  86,  48,  34,  96,  53,  40,\n",
       "        31,  65, 128,  97,  82,  37,  28, 202,  47, 149,  80,  77,  69,\n",
       "        56,  39, 111,  60,  66,  44,  91, 115,  93, 180, 129,  58,  83,\n",
       "        55,  62,  89,  50,  33, 135,  71, 157,  73, 122,  90,  81, 203,\n",
       "       168,  64,  61, 398, 206, 133,  41,  84,  63,  95,  68, 110,  57,\n",
       "        72,  52,  54,  49, 177,  46, 137, 286,  87, 264,  85, 258,  75,\n",
       "       119, 123, 131, 125, 200, 536, 301,  78, 559, 472, 232, 294,  79,\n",
       "        67, 154, 105,  74, 117, 113, 141, 162, 349, 130, 230, 189, 454,\n",
       "       172, 116, 179, 138, 166, 142, 170, 247, 366, 106, 219,  94,  76,\n",
       "        92, 413, 139, 866, 524, 233, 104, 844,  99, 144, 124, 491, 355,\n",
       "       121, 192, 580, 102, 155, 436, 446, 262, 319, 103, 356, 439, 346,\n",
       "       193, 274, 466, 354, 152, 429, 120, 538, 178, 257, 212, 205, 108,\n",
       "       153, 278, 164, 158, 126, 406, 290, 150, 488, 303, 147, 209, 218,\n",
       "       143, 146, 148, 151, 118, 145, 253, 169, 159, 174, 114, 204, 227,\n",
       "       207, 199, 321, 223, 101, 109, 281, 231, 188, 808], dtype=int64)"
      ]
     },
     "execution_count": 62,
     "metadata": {},
     "output_type": "execute_result"
    }
   ],
   "source": [
    "df.HelpfulnessNumerator.unique() # values look OK"
   ]
  },
  {
   "cell_type": "markdown",
   "id": "b4850a9b-a90c-468b-ac93-2d92ff5e539b",
   "metadata": {},
   "source": [
    "### Helpfulness Denominator\n",
    "Number of users who indicated whether they found the review helpful or not"
   ]
  },
  {
   "cell_type": "code",
   "execution_count": 63,
   "id": "409337a4-152c-414e-af5a-d10e49120ba4",
   "metadata": {},
   "outputs": [
    {
     "data": {
      "text/plain": [
       "array([  1,   0,   3,   4,   2,   5,  19,  13,   9,   7,  15,   8,   6,\n",
       "        10,  47,  17,  14,  27,  12,  11,  21,  31,  18,  23, 168,  46,\n",
       "        30, 133,  16,  36,  25,  26,  24,  22,  29,  20,  64, 216,  33,\n",
       "       112, 108,  51,  37,  39,  89,  35,  43,  42,  74,  49,  34,  28,\n",
       "        53,  96,  58,  41,  65, 130, 100,  84,  38,  40,  32,  48, 219,\n",
       "       155,  83,  85,  72,  56,  63, 128,  79,  76,  55,  68,  66,  44,\n",
       "        94,  59, 117, 188, 134,  92,  57,  71,  98,  90,  45, 135, 170,\n",
       "        77,  52, 123,  50,  93,  88, 122, 212, 192, 120, 401, 209,  95,\n",
       "        86,  99,  73,  60, 124,  54,  61,  70, 180,  91,  81, 138, 163,\n",
       "       307, 270, 151,  78,  62, 119, 139, 137, 215, 539, 305, 562, 477,\n",
       "       235,  87,  69, 298,  75,  82, 103, 156, 110, 144,  80,  67, 127,\n",
       "       162, 181, 356, 245, 462, 174, 111, 182, 143, 179, 159, 101, 171,\n",
       "        97, 249, 384, 187, 121, 263, 131, 165, 416, 106, 878, 536, 238,\n",
       "       109, 923, 115, 150, 371, 105, 154, 125, 149, 569, 360, 222, 593,\n",
       "       185, 486, 126, 114, 140, 452, 323, 365, 197, 284, 488, 383, 152,\n",
       "       118, 436, 176, 132, 544, 184, 274, 240, 229, 158, 415, 296, 172,\n",
       "       496, 160, 248, 220, 178, 147, 107, 286, 190, 102, 214, 164, 186,\n",
       "       230, 104, 282, 145, 200, 322, 228, 191, 256, 251, 195, 113, 815],\n",
       "      dtype=int64)"
      ]
     },
     "execution_count": 63,
     "metadata": {},
     "output_type": "execute_result"
    }
   ],
   "source": [
    "df.HelpfulnessDenominator.unique() # values look OK"
   ]
  },
  {
   "cell_type": "markdown",
   "id": "61958420-1a74-4021-958d-9ca85f376d3a",
   "metadata": {},
   "source": [
    "By doing HelpfulNess Numerator / Helpfull Denominator, we get the percetage of customers finding the reviews helpful. Which also gives us the percentage of the customers not finding thos reviews helpful. It can be good to create another column called \"Percentage of customers finding the reviews helpful)"
   ]
  },
  {
   "cell_type": "markdown",
   "id": "37a55c68-3485-4c9b-a3b9-64b10159fc94",
   "metadata": {},
   "source": [
    "### Score\n",
    "Rating between 1 and 5"
   ]
  },
  {
   "cell_type": "code",
   "execution_count": 64,
   "id": "dba03c8e-e86b-43c7-955a-7185ca12220d",
   "metadata": {},
   "outputs": [
    {
     "data": {
      "text/plain": [
       "array([5, 1, 4, 2, 3], dtype=int64)"
      ]
     },
     "execution_count": 64,
     "metadata": {},
     "output_type": "execute_result"
    }
   ],
   "source": [
    "df.Score.unique() # OK"
   ]
  },
  {
   "cell_type": "markdown",
   "id": "47b7cfff-4074-4d82-a336-c3f1c2404cc5",
   "metadata": {},
   "source": [
    "We don't have continuous numerical values. Nothing to do about outliers detection."
   ]
  },
  {
   "cell_type": "code",
   "execution_count": 32,
   "id": "4eae5b9b-b970-4351-af82-07f69ebff1e5",
   "metadata": {},
   "outputs": [],
   "source": [
    "# export dataframe\n",
    "df.to_csv(\"../data/reviews_preprocessed.csv\")"
   ]
  }
 ],
 "metadata": {
  "kernelspec": {
   "display_name": "Python 3 (ipykernel)",
   "language": "python",
   "name": "python3"
  },
  "language_info": {
   "codemirror_mode": {
    "name": "ipython",
    "version": 3
   },
   "file_extension": ".py",
   "mimetype": "text/x-python",
   "name": "python",
   "nbconvert_exporter": "python",
   "pygments_lexer": "ipython3",
   "version": "3.11.7"
  }
 },
 "nbformat": 4,
 "nbformat_minor": 5
}
