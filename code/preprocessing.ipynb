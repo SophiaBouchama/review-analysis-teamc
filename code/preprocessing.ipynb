{
 "cells": [
  {
   "cell_type": "markdown",
   "metadata": {},
   "source": [
    "# Data preprocessing"
   ]
  },
  {
   "cell_type": "code",
   "execution_count": 1,
   "metadata": {},
   "outputs": [],
   "source": [
    "#%pip install spacy"
   ]
  },
  {
   "cell_type": "code",
   "execution_count": 2,
   "metadata": {},
   "outputs": [],
   "source": [
    "#%pip install spacy-langdetect"
   ]
  },
  {
   "cell_type": "markdown",
   "metadata": {},
   "source": [
    "## 1) Data loading"
   ]
  },
  {
   "cell_type": "code",
   "execution_count": 3,
   "metadata": {},
   "outputs": [],
   "source": [
    "import pandas as pd\n",
    "import matplotlib.pyplot as plt\n",
    "\n",
    "%matplotlib inline\n"
   ]
  },
  {
   "cell_type": "code",
   "execution_count": 4,
   "metadata": {},
   "outputs": [],
   "source": [
    "# Read CSV file with reviews into a DataFrame\n",
    "path = '../data/Reviews.csv'\n",
    "reviews = pd.read_csv(path)"
   ]
  },
  {
   "cell_type": "code",
   "execution_count": 5,
   "metadata": {},
   "outputs": [
    {
     "data": {
      "text/html": [
       "<div>\n",
       "<style scoped>\n",
       "    .dataframe tbody tr th:only-of-type {\n",
       "        vertical-align: middle;\n",
       "    }\n",
       "\n",
       "    .dataframe tbody tr th {\n",
       "        vertical-align: top;\n",
       "    }\n",
       "\n",
       "    .dataframe thead th {\n",
       "        text-align: right;\n",
       "    }\n",
       "</style>\n",
       "<table border=\"1\" class=\"dataframe\">\n",
       "  <thead>\n",
       "    <tr style=\"text-align: right;\">\n",
       "      <th></th>\n",
       "      <th>Id</th>\n",
       "      <th>ProductId</th>\n",
       "      <th>UserId</th>\n",
       "      <th>ProfileName</th>\n",
       "      <th>HelpfulnessNumerator</th>\n",
       "      <th>HelpfulnessDenominator</th>\n",
       "      <th>Score</th>\n",
       "      <th>Time</th>\n",
       "      <th>Summary</th>\n",
       "      <th>Text</th>\n",
       "    </tr>\n",
       "  </thead>\n",
       "  <tbody>\n",
       "    <tr>\n",
       "      <th>0</th>\n",
       "      <td>1</td>\n",
       "      <td>B001E4KFG0</td>\n",
       "      <td>A3SGXH7AUHU8GW</td>\n",
       "      <td>delmartian</td>\n",
       "      <td>1</td>\n",
       "      <td>1</td>\n",
       "      <td>5</td>\n",
       "      <td>1303862400</td>\n",
       "      <td>Good Quality Dog Food</td>\n",
       "      <td>I have bought several of the Vitality canned d...</td>\n",
       "    </tr>\n",
       "    <tr>\n",
       "      <th>1</th>\n",
       "      <td>2</td>\n",
       "      <td>B00813GRG4</td>\n",
       "      <td>A1D87F6ZCVE5NK</td>\n",
       "      <td>dll pa</td>\n",
       "      <td>0</td>\n",
       "      <td>0</td>\n",
       "      <td>1</td>\n",
       "      <td>1346976000</td>\n",
       "      <td>Not as Advertised</td>\n",
       "      <td>Product arrived labeled as Jumbo Salted Peanut...</td>\n",
       "    </tr>\n",
       "    <tr>\n",
       "      <th>2</th>\n",
       "      <td>3</td>\n",
       "      <td>B000LQOCH0</td>\n",
       "      <td>ABXLMWJIXXAIN</td>\n",
       "      <td>Natalia Corres \"Natalia Corres\"</td>\n",
       "      <td>1</td>\n",
       "      <td>1</td>\n",
       "      <td>4</td>\n",
       "      <td>1219017600</td>\n",
       "      <td>\"Delight\" says it all</td>\n",
       "      <td>This is a confection that has been around a fe...</td>\n",
       "    </tr>\n",
       "    <tr>\n",
       "      <th>3</th>\n",
       "      <td>4</td>\n",
       "      <td>B000UA0QIQ</td>\n",
       "      <td>A395BORC6FGVXV</td>\n",
       "      <td>Karl</td>\n",
       "      <td>3</td>\n",
       "      <td>3</td>\n",
       "      <td>2</td>\n",
       "      <td>1307923200</td>\n",
       "      <td>Cough Medicine</td>\n",
       "      <td>If you are looking for the secret ingredient i...</td>\n",
       "    </tr>\n",
       "    <tr>\n",
       "      <th>4</th>\n",
       "      <td>5</td>\n",
       "      <td>B006K2ZZ7K</td>\n",
       "      <td>A1UQRSCLF8GW1T</td>\n",
       "      <td>Michael D. Bigham \"M. Wassir\"</td>\n",
       "      <td>0</td>\n",
       "      <td>0</td>\n",
       "      <td>5</td>\n",
       "      <td>1350777600</td>\n",
       "      <td>Great taffy</td>\n",
       "      <td>Great taffy at a great price.  There was a wid...</td>\n",
       "    </tr>\n",
       "  </tbody>\n",
       "</table>\n",
       "</div>"
      ],
      "text/plain": [
       "   Id   ProductId          UserId                      ProfileName  \\\n",
       "0   1  B001E4KFG0  A3SGXH7AUHU8GW                       delmartian   \n",
       "1   2  B00813GRG4  A1D87F6ZCVE5NK                           dll pa   \n",
       "2   3  B000LQOCH0   ABXLMWJIXXAIN  Natalia Corres \"Natalia Corres\"   \n",
       "3   4  B000UA0QIQ  A395BORC6FGVXV                             Karl   \n",
       "4   5  B006K2ZZ7K  A1UQRSCLF8GW1T    Michael D. Bigham \"M. Wassir\"   \n",
       "\n",
       "   HelpfulnessNumerator  HelpfulnessDenominator  Score        Time  \\\n",
       "0                     1                       1      5  1303862400   \n",
       "1                     0                       0      1  1346976000   \n",
       "2                     1                       1      4  1219017600   \n",
       "3                     3                       3      2  1307923200   \n",
       "4                     0                       0      5  1350777600   \n",
       "\n",
       "                 Summary                                               Text  \n",
       "0  Good Quality Dog Food  I have bought several of the Vitality canned d...  \n",
       "1      Not as Advertised  Product arrived labeled as Jumbo Salted Peanut...  \n",
       "2  \"Delight\" says it all  This is a confection that has been around a fe...  \n",
       "3         Cough Medicine  If you are looking for the secret ingredient i...  \n",
       "4            Great taffy  Great taffy at a great price.  There was a wid...  "
      ]
     },
     "execution_count": 5,
     "metadata": {},
     "output_type": "execute_result"
    }
   ],
   "source": [
    "reviews.head()"
   ]
  },
  {
   "cell_type": "code",
   "execution_count": 6,
   "metadata": {},
   "outputs": [],
   "source": [
    "# Drop customer profile name as this is not useful and even if we need to identify customers we can do it through the unique UserId\n",
    "reviews.drop(\"ProfileName\", axis=1, inplace=True)"
   ]
  },
  {
   "cell_type": "code",
   "execution_count": 7,
   "metadata": {},
   "outputs": [
    {
     "data": {
      "text/html": [
       "<div>\n",
       "<style scoped>\n",
       "    .dataframe tbody tr th:only-of-type {\n",
       "        vertical-align: middle;\n",
       "    }\n",
       "\n",
       "    .dataframe tbody tr th {\n",
       "        vertical-align: top;\n",
       "    }\n",
       "\n",
       "    .dataframe thead th {\n",
       "        text-align: right;\n",
       "    }\n",
       "</style>\n",
       "<table border=\"1\" class=\"dataframe\">\n",
       "  <thead>\n",
       "    <tr style=\"text-align: right;\">\n",
       "      <th></th>\n",
       "      <th>Id</th>\n",
       "      <th>ProductId</th>\n",
       "      <th>UserId</th>\n",
       "      <th>HelpfulnessNumerator</th>\n",
       "      <th>HelpfulnessDenominator</th>\n",
       "      <th>Score</th>\n",
       "      <th>Time</th>\n",
       "      <th>Summary</th>\n",
       "      <th>Text</th>\n",
       "    </tr>\n",
       "  </thead>\n",
       "  <tbody>\n",
       "    <tr>\n",
       "      <th>0</th>\n",
       "      <td>1</td>\n",
       "      <td>B001E4KFG0</td>\n",
       "      <td>A3SGXH7AUHU8GW</td>\n",
       "      <td>1</td>\n",
       "      <td>1</td>\n",
       "      <td>5</td>\n",
       "      <td>1303862400</td>\n",
       "      <td>Good Quality Dog Food</td>\n",
       "      <td>I have bought several of the Vitality canned d...</td>\n",
       "    </tr>\n",
       "    <tr>\n",
       "      <th>1</th>\n",
       "      <td>2</td>\n",
       "      <td>B00813GRG4</td>\n",
       "      <td>A1D87F6ZCVE5NK</td>\n",
       "      <td>0</td>\n",
       "      <td>0</td>\n",
       "      <td>1</td>\n",
       "      <td>1346976000</td>\n",
       "      <td>Not as Advertised</td>\n",
       "      <td>Product arrived labeled as Jumbo Salted Peanut...</td>\n",
       "    </tr>\n",
       "    <tr>\n",
       "      <th>2</th>\n",
       "      <td>3</td>\n",
       "      <td>B000LQOCH0</td>\n",
       "      <td>ABXLMWJIXXAIN</td>\n",
       "      <td>1</td>\n",
       "      <td>1</td>\n",
       "      <td>4</td>\n",
       "      <td>1219017600</td>\n",
       "      <td>\"Delight\" says it all</td>\n",
       "      <td>This is a confection that has been around a fe...</td>\n",
       "    </tr>\n",
       "    <tr>\n",
       "      <th>3</th>\n",
       "      <td>4</td>\n",
       "      <td>B000UA0QIQ</td>\n",
       "      <td>A395BORC6FGVXV</td>\n",
       "      <td>3</td>\n",
       "      <td>3</td>\n",
       "      <td>2</td>\n",
       "      <td>1307923200</td>\n",
       "      <td>Cough Medicine</td>\n",
       "      <td>If you are looking for the secret ingredient i...</td>\n",
       "    </tr>\n",
       "    <tr>\n",
       "      <th>4</th>\n",
       "      <td>5</td>\n",
       "      <td>B006K2ZZ7K</td>\n",
       "      <td>A1UQRSCLF8GW1T</td>\n",
       "      <td>0</td>\n",
       "      <td>0</td>\n",
       "      <td>5</td>\n",
       "      <td>1350777600</td>\n",
       "      <td>Great taffy</td>\n",
       "      <td>Great taffy at a great price.  There was a wid...</td>\n",
       "    </tr>\n",
       "  </tbody>\n",
       "</table>\n",
       "</div>"
      ],
      "text/plain": [
       "   Id   ProductId          UserId  HelpfulnessNumerator  \\\n",
       "0   1  B001E4KFG0  A3SGXH7AUHU8GW                     1   \n",
       "1   2  B00813GRG4  A1D87F6ZCVE5NK                     0   \n",
       "2   3  B000LQOCH0   ABXLMWJIXXAIN                     1   \n",
       "3   4  B000UA0QIQ  A395BORC6FGVXV                     3   \n",
       "4   5  B006K2ZZ7K  A1UQRSCLF8GW1T                     0   \n",
       "\n",
       "   HelpfulnessDenominator  Score        Time                Summary  \\\n",
       "0                       1      5  1303862400  Good Quality Dog Food   \n",
       "1                       0      1  1346976000      Not as Advertised   \n",
       "2                       1      4  1219017600  \"Delight\" says it all   \n",
       "3                       3      2  1307923200         Cough Medicine   \n",
       "4                       0      5  1350777600            Great taffy   \n",
       "\n",
       "                                                Text  \n",
       "0  I have bought several of the Vitality canned d...  \n",
       "1  Product arrived labeled as Jumbo Salted Peanut...  \n",
       "2  This is a confection that has been around a fe...  \n",
       "3  If you are looking for the secret ingredient i...  \n",
       "4  Great taffy at a great price.  There was a wid...  "
      ]
     },
     "execution_count": 7,
     "metadata": {},
     "output_type": "execute_result"
    }
   ],
   "source": [
    "reviews.head()"
   ]
  },
  {
   "cell_type": "code",
   "execution_count": 8,
   "metadata": {},
   "outputs": [
    {
     "name": "stdout",
     "output_type": "stream",
     "text": [
      "<class 'pandas.core.frame.DataFrame'>\n",
      "RangeIndex: 568454 entries, 0 to 568453\n",
      "Data columns (total 9 columns):\n",
      " #   Column                  Non-Null Count   Dtype \n",
      "---  ------                  --------------   ----- \n",
      " 0   Id                      568454 non-null  int64 \n",
      " 1   ProductId               568454 non-null  object\n",
      " 2   UserId                  568454 non-null  object\n",
      " 3   HelpfulnessNumerator    568454 non-null  int64 \n",
      " 4   HelpfulnessDenominator  568454 non-null  int64 \n",
      " 5   Score                   568454 non-null  int64 \n",
      " 6   Time                    568454 non-null  int64 \n",
      " 7   Summary                 568427 non-null  object\n",
      " 8   Text                    568454 non-null  object\n",
      "dtypes: int64(5), object(4)\n",
      "memory usage: 39.0+ MB\n"
     ]
    }
   ],
   "source": [
    "reviews.info()"
   ]
  },
  {
   "cell_type": "markdown",
   "metadata": {},
   "source": [
    "## 2) Preprocessing"
   ]
  },
  {
   "cell_type": "markdown",
   "metadata": {},
   "source": [
    "### Type conversion"
   ]
  },
  {
   "cell_type": "code",
   "execution_count": 9,
   "metadata": {},
   "outputs": [],
   "source": [
    "# Convert ProductId, UserId, Summary and Text to string format\n",
    "reviews['ProductId'] = reviews['ProductId'].astype('str')\n",
    "reviews['UserId'] = reviews['UserId'].astype('str')\n",
    "reviews['Summary'] = reviews['Summary'].astype('str')\n",
    "reviews['Text'] = reviews['Text'].astype('str')"
   ]
  },
  {
   "cell_type": "markdown",
   "metadata": {},
   "source": [
    "### Renaming columns"
   ]
  },
  {
   "cell_type": "code",
   "execution_count": 10,
   "metadata": {},
   "outputs": [],
   "source": [
    "# Renaming columns\n",
    "reviews = reviews.rename(columns={'Id': 'id', 'ProductId': 'product_id', 'UserId': 'user_id', 'HelpfulnessNumerator': 'helpfulness_numerator',\n",
    "                                  'HelpfulnessDenominator': 'helpfulness_denominator', 'Score': 'score', 'Time': 'time', 'Summary': 'summary',\n",
    "                                  'Text': 'text'})"
   ]
  },
  {
   "cell_type": "code",
   "execution_count": 11,
   "metadata": {},
   "outputs": [
    {
     "data": {
      "text/html": [
       "<div>\n",
       "<style scoped>\n",
       "    .dataframe tbody tr th:only-of-type {\n",
       "        vertical-align: middle;\n",
       "    }\n",
       "\n",
       "    .dataframe tbody tr th {\n",
       "        vertical-align: top;\n",
       "    }\n",
       "\n",
       "    .dataframe thead th {\n",
       "        text-align: right;\n",
       "    }\n",
       "</style>\n",
       "<table border=\"1\" class=\"dataframe\">\n",
       "  <thead>\n",
       "    <tr style=\"text-align: right;\">\n",
       "      <th></th>\n",
       "      <th>id</th>\n",
       "      <th>product_id</th>\n",
       "      <th>user_id</th>\n",
       "      <th>helpfulness_numerator</th>\n",
       "      <th>helpfulness_denominator</th>\n",
       "      <th>score</th>\n",
       "      <th>time</th>\n",
       "      <th>summary</th>\n",
       "      <th>text</th>\n",
       "    </tr>\n",
       "  </thead>\n",
       "  <tbody>\n",
       "    <tr>\n",
       "      <th>0</th>\n",
       "      <td>1</td>\n",
       "      <td>B001E4KFG0</td>\n",
       "      <td>A3SGXH7AUHU8GW</td>\n",
       "      <td>1</td>\n",
       "      <td>1</td>\n",
       "      <td>5</td>\n",
       "      <td>1303862400</td>\n",
       "      <td>Good Quality Dog Food</td>\n",
       "      <td>I have bought several of the Vitality canned d...</td>\n",
       "    </tr>\n",
       "    <tr>\n",
       "      <th>1</th>\n",
       "      <td>2</td>\n",
       "      <td>B00813GRG4</td>\n",
       "      <td>A1D87F6ZCVE5NK</td>\n",
       "      <td>0</td>\n",
       "      <td>0</td>\n",
       "      <td>1</td>\n",
       "      <td>1346976000</td>\n",
       "      <td>Not as Advertised</td>\n",
       "      <td>Product arrived labeled as Jumbo Salted Peanut...</td>\n",
       "    </tr>\n",
       "    <tr>\n",
       "      <th>2</th>\n",
       "      <td>3</td>\n",
       "      <td>B000LQOCH0</td>\n",
       "      <td>ABXLMWJIXXAIN</td>\n",
       "      <td>1</td>\n",
       "      <td>1</td>\n",
       "      <td>4</td>\n",
       "      <td>1219017600</td>\n",
       "      <td>\"Delight\" says it all</td>\n",
       "      <td>This is a confection that has been around a fe...</td>\n",
       "    </tr>\n",
       "    <tr>\n",
       "      <th>3</th>\n",
       "      <td>4</td>\n",
       "      <td>B000UA0QIQ</td>\n",
       "      <td>A395BORC6FGVXV</td>\n",
       "      <td>3</td>\n",
       "      <td>3</td>\n",
       "      <td>2</td>\n",
       "      <td>1307923200</td>\n",
       "      <td>Cough Medicine</td>\n",
       "      <td>If you are looking for the secret ingredient i...</td>\n",
       "    </tr>\n",
       "    <tr>\n",
       "      <th>4</th>\n",
       "      <td>5</td>\n",
       "      <td>B006K2ZZ7K</td>\n",
       "      <td>A1UQRSCLF8GW1T</td>\n",
       "      <td>0</td>\n",
       "      <td>0</td>\n",
       "      <td>5</td>\n",
       "      <td>1350777600</td>\n",
       "      <td>Great taffy</td>\n",
       "      <td>Great taffy at a great price.  There was a wid...</td>\n",
       "    </tr>\n",
       "  </tbody>\n",
       "</table>\n",
       "</div>"
      ],
      "text/plain": [
       "   id  product_id         user_id  helpfulness_numerator  \\\n",
       "0   1  B001E4KFG0  A3SGXH7AUHU8GW                      1   \n",
       "1   2  B00813GRG4  A1D87F6ZCVE5NK                      0   \n",
       "2   3  B000LQOCH0   ABXLMWJIXXAIN                      1   \n",
       "3   4  B000UA0QIQ  A395BORC6FGVXV                      3   \n",
       "4   5  B006K2ZZ7K  A1UQRSCLF8GW1T                      0   \n",
       "\n",
       "   helpfulness_denominator  score        time                summary  \\\n",
       "0                        1      5  1303862400  Good Quality Dog Food   \n",
       "1                        0      1  1346976000      Not as Advertised   \n",
       "2                        1      4  1219017600  \"Delight\" says it all   \n",
       "3                        3      2  1307923200         Cough Medicine   \n",
       "4                        0      5  1350777600            Great taffy   \n",
       "\n",
       "                                                text  \n",
       "0  I have bought several of the Vitality canned d...  \n",
       "1  Product arrived labeled as Jumbo Salted Peanut...  \n",
       "2  This is a confection that has been around a fe...  \n",
       "3  If you are looking for the secret ingredient i...  \n",
       "4  Great taffy at a great price.  There was a wid...  "
      ]
     },
     "execution_count": 11,
     "metadata": {},
     "output_type": "execute_result"
    }
   ],
   "source": [
    "reviews.head()"
   ]
  },
  {
   "cell_type": "markdown",
   "metadata": {},
   "source": [
    "### Adding extra columns\n",
    "\n",
    "* date from timestamp\n",
    "* sentiment from score\n",
    "* helpfulness ratio\n",
    "* number of words in review"
   ]
  },
  {
   "cell_type": "code",
   "execution_count": 12,
   "metadata": {},
   "outputs": [],
   "source": [
    "# Convert timestamp to date\n",
    "reviews['date'] = pd.to_datetime(reviews['time'], unit='s')\n"
   ]
  },
  {
   "cell_type": "code",
   "execution_count": 13,
   "metadata": {},
   "outputs": [
    {
     "data": {
      "text/html": [
       "<div>\n",
       "<style scoped>\n",
       "    .dataframe tbody tr th:only-of-type {\n",
       "        vertical-align: middle;\n",
       "    }\n",
       "\n",
       "    .dataframe tbody tr th {\n",
       "        vertical-align: top;\n",
       "    }\n",
       "\n",
       "    .dataframe thead th {\n",
       "        text-align: right;\n",
       "    }\n",
       "</style>\n",
       "<table border=\"1\" class=\"dataframe\">\n",
       "  <thead>\n",
       "    <tr style=\"text-align: right;\">\n",
       "      <th></th>\n",
       "      <th>id</th>\n",
       "      <th>product_id</th>\n",
       "      <th>user_id</th>\n",
       "      <th>helpfulness_numerator</th>\n",
       "      <th>helpfulness_denominator</th>\n",
       "      <th>score</th>\n",
       "      <th>time</th>\n",
       "      <th>summary</th>\n",
       "      <th>text</th>\n",
       "      <th>date</th>\n",
       "    </tr>\n",
       "  </thead>\n",
       "  <tbody>\n",
       "    <tr>\n",
       "      <th>0</th>\n",
       "      <td>1</td>\n",
       "      <td>B001E4KFG0</td>\n",
       "      <td>A3SGXH7AUHU8GW</td>\n",
       "      <td>1</td>\n",
       "      <td>1</td>\n",
       "      <td>5</td>\n",
       "      <td>1303862400</td>\n",
       "      <td>Good Quality Dog Food</td>\n",
       "      <td>I have bought several of the Vitality canned d...</td>\n",
       "      <td>2011-04-27</td>\n",
       "    </tr>\n",
       "    <tr>\n",
       "      <th>1</th>\n",
       "      <td>2</td>\n",
       "      <td>B00813GRG4</td>\n",
       "      <td>A1D87F6ZCVE5NK</td>\n",
       "      <td>0</td>\n",
       "      <td>0</td>\n",
       "      <td>1</td>\n",
       "      <td>1346976000</td>\n",
       "      <td>Not as Advertised</td>\n",
       "      <td>Product arrived labeled as Jumbo Salted Peanut...</td>\n",
       "      <td>2012-09-07</td>\n",
       "    </tr>\n",
       "    <tr>\n",
       "      <th>2</th>\n",
       "      <td>3</td>\n",
       "      <td>B000LQOCH0</td>\n",
       "      <td>ABXLMWJIXXAIN</td>\n",
       "      <td>1</td>\n",
       "      <td>1</td>\n",
       "      <td>4</td>\n",
       "      <td>1219017600</td>\n",
       "      <td>\"Delight\" says it all</td>\n",
       "      <td>This is a confection that has been around a fe...</td>\n",
       "      <td>2008-08-18</td>\n",
       "    </tr>\n",
       "    <tr>\n",
       "      <th>3</th>\n",
       "      <td>4</td>\n",
       "      <td>B000UA0QIQ</td>\n",
       "      <td>A395BORC6FGVXV</td>\n",
       "      <td>3</td>\n",
       "      <td>3</td>\n",
       "      <td>2</td>\n",
       "      <td>1307923200</td>\n",
       "      <td>Cough Medicine</td>\n",
       "      <td>If you are looking for the secret ingredient i...</td>\n",
       "      <td>2011-06-13</td>\n",
       "    </tr>\n",
       "    <tr>\n",
       "      <th>4</th>\n",
       "      <td>5</td>\n",
       "      <td>B006K2ZZ7K</td>\n",
       "      <td>A1UQRSCLF8GW1T</td>\n",
       "      <td>0</td>\n",
       "      <td>0</td>\n",
       "      <td>5</td>\n",
       "      <td>1350777600</td>\n",
       "      <td>Great taffy</td>\n",
       "      <td>Great taffy at a great price.  There was a wid...</td>\n",
       "      <td>2012-10-21</td>\n",
       "    </tr>\n",
       "  </tbody>\n",
       "</table>\n",
       "</div>"
      ],
      "text/plain": [
       "   id  product_id         user_id  helpfulness_numerator  \\\n",
       "0   1  B001E4KFG0  A3SGXH7AUHU8GW                      1   \n",
       "1   2  B00813GRG4  A1D87F6ZCVE5NK                      0   \n",
       "2   3  B000LQOCH0   ABXLMWJIXXAIN                      1   \n",
       "3   4  B000UA0QIQ  A395BORC6FGVXV                      3   \n",
       "4   5  B006K2ZZ7K  A1UQRSCLF8GW1T                      0   \n",
       "\n",
       "   helpfulness_denominator  score        time                summary  \\\n",
       "0                        1      5  1303862400  Good Quality Dog Food   \n",
       "1                        0      1  1346976000      Not as Advertised   \n",
       "2                        1      4  1219017600  \"Delight\" says it all   \n",
       "3                        3      2  1307923200         Cough Medicine   \n",
       "4                        0      5  1350777600            Great taffy   \n",
       "\n",
       "                                                text       date  \n",
       "0  I have bought several of the Vitality canned d... 2011-04-27  \n",
       "1  Product arrived labeled as Jumbo Salted Peanut... 2012-09-07  \n",
       "2  This is a confection that has been around a fe... 2008-08-18  \n",
       "3  If you are looking for the secret ingredient i... 2011-06-13  \n",
       "4  Great taffy at a great price.  There was a wid... 2012-10-21  "
      ]
     },
     "execution_count": 13,
     "metadata": {},
     "output_type": "execute_result"
    }
   ],
   "source": [
    "reviews.head()"
   ]
  },
  {
   "cell_type": "code",
   "execution_count": 14,
   "metadata": {},
   "outputs": [
    {
     "name": "stdout",
     "output_type": "stream",
     "text": [
      "1999-10-08 00:00:00\n",
      "2012-10-26 00:00:00\n"
     ]
    }
   ],
   "source": [
    "# Check min and max values of date column to check if datetime conversions are ok\n",
    "print(min(reviews['date']))\n",
    "print(max(reviews['date']))"
   ]
  },
  {
   "cell_type": "markdown",
   "metadata": {},
   "source": [
    "Dates output seems consistent with the starting date referenced by the author of the dataset in https://snap.stanford.edu/data/web-FineFoods.html"
   ]
  },
  {
   "cell_type": "code",
   "execution_count": 15,
   "metadata": {},
   "outputs": [],
   "source": [
    "reviews['year'] = reviews['date'].dt.year"
   ]
  },
  {
   "cell_type": "code",
   "execution_count": 16,
   "metadata": {},
   "outputs": [],
   "source": [
    "def sentiment_from_score(score):\n",
    "    if score < 3 and score >= 1:\n",
    "        return 'negative'\n",
    "    elif score == 3:\n",
    "        return 'neutral'\n",
    "    elif score > 3:\n",
    "        return 'positive'\n",
    "    else:\n",
    "        return 'NA'\n",
    "\n",
    "reviews['sentiment'] = reviews.apply(lambda row: sentiment_from_score(row['score']), axis=1)"
   ]
  },
  {
   "cell_type": "code",
   "execution_count": 17,
   "metadata": {},
   "outputs": [],
   "source": [
    "reviews['helpfulness_ratio'] = reviews['helpfulness_numerator'] / reviews['helpfulness_denominator']"
   ]
  },
  {
   "cell_type": "code",
   "execution_count": 18,
   "metadata": {},
   "outputs": [],
   "source": [
    "def word_count(text):\n",
    "\n",
    "    return len(text.split())"
   ]
  },
  {
   "cell_type": "code",
   "execution_count": 19,
   "metadata": {},
   "outputs": [],
   "source": [
    "reviews['word_count'] = reviews.apply(lambda row: word_count(row['text']), axis=1)"
   ]
  },
  {
   "cell_type": "markdown",
   "metadata": {},
   "source": [
    "### Check for empty reviews"
   ]
  },
  {
   "cell_type": "code",
   "execution_count": 20,
   "metadata": {},
   "outputs": [
    {
     "data": {
      "text/plain": [
       "0"
      ]
     },
     "execution_count": 20,
     "metadata": {},
     "output_type": "execute_result"
    }
   ],
   "source": [
    "reviews[reviews['text']==\"\"].shape[0]"
   ]
  },
  {
   "cell_type": "markdown",
   "metadata": {},
   "source": [
    "There don't seem to be any records with empty text reviews."
   ]
  },
  {
   "cell_type": "markdown",
   "metadata": {},
   "source": [
    "### Analysis for duplicates"
   ]
  },
  {
   "cell_type": "code",
   "execution_count": 21,
   "metadata": {},
   "outputs": [],
   "source": [
    "initial_num_records = reviews['text'].shape[0]"
   ]
  },
  {
   "cell_type": "code",
   "execution_count": 22,
   "metadata": {},
   "outputs": [
    {
     "data": {
      "text/plain": [
       "0         False\n",
       "1         False\n",
       "2         False\n",
       "3         False\n",
       "4         False\n",
       "          ...  \n",
       "568449    False\n",
       "568450    False\n",
       "568451    False\n",
       "568452    False\n",
       "568453    False\n",
       "Name: text, Length: 568454, dtype: bool"
      ]
     },
     "execution_count": 22,
     "metadata": {},
     "output_type": "execute_result"
    }
   ],
   "source": [
    "reviews['text'].duplicated()"
   ]
  },
  {
   "cell_type": "code",
   "execution_count": 23,
   "metadata": {},
   "outputs": [],
   "source": [
    "reviews['duplicated'] = reviews['text'].duplicated(keep=False)"
   ]
  },
  {
   "cell_type": "code",
   "execution_count": 24,
   "metadata": {},
   "outputs": [],
   "source": [
    "duplicated = reviews[reviews['duplicated']==True]\n",
    "\n",
    "# Save in separate csv file the duplicated reviews\n",
    "duplicated.to_csv('../data/duplicated_reviews.csv')"
   ]
  },
  {
   "cell_type": "code",
   "execution_count": 25,
   "metadata": {},
   "outputs": [
    {
     "name": "stdout",
     "output_type": "stream",
     "text": [
      "# of duplicated records in the review text: 232915 (40.97% of all)\n",
      "# of reviews with the same product_id and text: 2152 (0.38% of all)\n",
      "# of reviews with the same user_id and text: 232874 (40.97% of all)\n",
      "# of reviews with the same user_id, product_id and text: 2122 (0.37% of all)\n"
     ]
    }
   ],
   "source": [
    "# Check if there are any duplicates in the review text\n",
    "print(f\"# of duplicated records in the review text: {sum(reviews['text'].duplicated(keep=False))} ({sum(reviews['text'].duplicated(keep=False))/initial_num_records*100:.2f}% of all)\")\n",
    "\n",
    "# Get reviews that have the same text and product_id\n",
    "print(f\"# of reviews with the same product_id and text: {sum(reviews.duplicated(subset=['product_id','text'],keep=False))} ({sum(reviews.duplicated(subset=['product_id','text'],keep=False))/initial_num_records*100:.2f}% of all)\")\n",
    "\n",
    "# Get reviews that have the same text and user_id\n",
    "print(f\"# of reviews with the same user_id and text: {sum(reviews.duplicated(subset=['user_id','text'],keep=False))} ({sum(reviews.duplicated(subset=['user_id','text'],keep=False))/initial_num_records*100:.2f}% of all)\")\n",
    "\n",
    "# Get reviews that have the same text, user_id and product_id\n",
    "print(f\"# of reviews with the same user_id, product_id and text: {sum(reviews.duplicated(subset=['user_id','product_id','text'],keep=False))} ({sum(reviews.duplicated(subset=['user_id','product_id','text'],keep=False))/initial_num_records*100:.2f}% of all)\")\n"
   ]
  },
  {
   "cell_type": "markdown",
   "metadata": {},
   "source": [
    "Not only are there duplicated reviews for the same product but from different users, but also duplicated reviews that concern the same user and product. We should at least remove the ones that have the same user_id, product_id and text. One way to do it would be to keep either the first or the latest review among these duplicates.\n",
    "\n",
    "It may make more sense to just remove reviews that have the same user_id, product_id and text since it could happen that some duplicate reviews are short sentences that more than one person can write or a user may agree with another and copy their review. In the latter case, this review accurately reflects the user's opinion and he simply didn't bother to write an original text review."
   ]
  },
  {
   "cell_type": "code",
   "execution_count": 26,
   "metadata": {},
   "outputs": [],
   "source": [
    "# Drop record duplicates with the same user_id, product_id and review text keeping only the earliest or latest review\n",
    "\n",
    "def drop_same_user_product_text(df, keep='first'):\n",
    "    \n",
    "    drop_mask = df.sort_values(by='date', ascending=True).duplicated(subset=['user_id','product_id','text'], keep=keep)\n",
    "\n",
    "    df = df[~drop_mask]\n",
    "\n",
    "    return df"
   ]
  },
  {
   "cell_type": "code",
   "execution_count": 27,
   "metadata": {},
   "outputs": [],
   "source": [
    "# Drop record duplicates with the same review text for the same product_id keeping only the earliest or latest review\n",
    "\n",
    "def drop_same_product_text(df, keep='first'):\n",
    "\n",
    "    drop_mask = df.sort_values(by='date', ascending=True).duplicated(subset=['product_id','text'], keep=keep)\n",
    "\n",
    "    df = df[~drop_mask]\n",
    "\n",
    "    return df"
   ]
  },
  {
   "cell_type": "code",
   "execution_count": 28,
   "metadata": {},
   "outputs": [],
   "source": [
    "# Drop record duplicates with the same list of columns, keeping only the earliest or latest review\n",
    "\n",
    "def drop_same_cols(df, col_list, keep='first'):\n",
    "    \n",
    "    drop_mask = df.sort_values(by='time', ascending=True).duplicated(subset=col_list, keep=keep)\n",
    "\n",
    "    df = df[~drop_mask]\n",
    "\n",
    "    return df"
   ]
  },
  {
   "cell_type": "code",
   "execution_count": 29,
   "metadata": {},
   "outputs": [
    {
     "data": {
      "text/plain": [
       "568454"
      ]
     },
     "execution_count": 29,
     "metadata": {},
     "output_type": "execute_result"
    }
   ],
   "source": [
    "reviews.shape[0]"
   ]
  },
  {
   "cell_type": "code",
   "execution_count": 30,
   "metadata": {},
   "outputs": [
    {
     "name": "stderr",
     "output_type": "stream",
     "text": [
      "C:\\Users\\j.martins\\AppData\\Local\\Temp\\ipykernel_26728\\2736135404.py:7: UserWarning: Boolean Series key will be reindexed to match DataFrame index.\n",
      "  df = df[~drop_mask]\n"
     ]
    }
   ],
   "source": [
    "reviews = drop_same_user_product_text(reviews, keep='first')\n"
   ]
  },
  {
   "cell_type": "code",
   "execution_count": 31,
   "metadata": {},
   "outputs": [
    {
     "data": {
      "text/plain": [
       "567145"
      ]
     },
     "execution_count": 31,
     "metadata": {},
     "output_type": "execute_result"
    }
   ],
   "source": [
    "reviews.shape[0]"
   ]
  },
  {
   "cell_type": "code",
   "execution_count": 32,
   "metadata": {},
   "outputs": [
    {
     "data": {
      "text/html": [
       "<div>\n",
       "<style scoped>\n",
       "    .dataframe tbody tr th:only-of-type {\n",
       "        vertical-align: middle;\n",
       "    }\n",
       "\n",
       "    .dataframe tbody tr th {\n",
       "        vertical-align: top;\n",
       "    }\n",
       "\n",
       "    .dataframe thead th {\n",
       "        text-align: right;\n",
       "    }\n",
       "</style>\n",
       "<table border=\"1\" class=\"dataframe\">\n",
       "  <thead>\n",
       "    <tr style=\"text-align: right;\">\n",
       "      <th></th>\n",
       "      <th>id</th>\n",
       "      <th>product_id</th>\n",
       "      <th>user_id</th>\n",
       "      <th>helpfulness_numerator</th>\n",
       "      <th>helpfulness_denominator</th>\n",
       "      <th>score</th>\n",
       "      <th>time</th>\n",
       "      <th>summary</th>\n",
       "      <th>text</th>\n",
       "      <th>date</th>\n",
       "      <th>year</th>\n",
       "      <th>sentiment</th>\n",
       "      <th>helpfulness_ratio</th>\n",
       "      <th>word_count</th>\n",
       "      <th>duplicated</th>\n",
       "    </tr>\n",
       "  </thead>\n",
       "  <tbody>\n",
       "    <tr>\n",
       "      <th>0</th>\n",
       "      <td>1</td>\n",
       "      <td>B001E4KFG0</td>\n",
       "      <td>A3SGXH7AUHU8GW</td>\n",
       "      <td>1</td>\n",
       "      <td>1</td>\n",
       "      <td>5</td>\n",
       "      <td>1303862400</td>\n",
       "      <td>Good Quality Dog Food</td>\n",
       "      <td>I have bought several of the Vitality canned d...</td>\n",
       "      <td>2011-04-27</td>\n",
       "      <td>2011</td>\n",
       "      <td>positive</td>\n",
       "      <td>1.0</td>\n",
       "      <td>48</td>\n",
       "      <td>False</td>\n",
       "    </tr>\n",
       "    <tr>\n",
       "      <th>1</th>\n",
       "      <td>2</td>\n",
       "      <td>B00813GRG4</td>\n",
       "      <td>A1D87F6ZCVE5NK</td>\n",
       "      <td>0</td>\n",
       "      <td>0</td>\n",
       "      <td>1</td>\n",
       "      <td>1346976000</td>\n",
       "      <td>Not as Advertised</td>\n",
       "      <td>Product arrived labeled as Jumbo Salted Peanut...</td>\n",
       "      <td>2012-09-07</td>\n",
       "      <td>2012</td>\n",
       "      <td>negative</td>\n",
       "      <td>NaN</td>\n",
       "      <td>31</td>\n",
       "      <td>False</td>\n",
       "    </tr>\n",
       "    <tr>\n",
       "      <th>2</th>\n",
       "      <td>3</td>\n",
       "      <td>B000LQOCH0</td>\n",
       "      <td>ABXLMWJIXXAIN</td>\n",
       "      <td>1</td>\n",
       "      <td>1</td>\n",
       "      <td>4</td>\n",
       "      <td>1219017600</td>\n",
       "      <td>\"Delight\" says it all</td>\n",
       "      <td>This is a confection that has been around a fe...</td>\n",
       "      <td>2008-08-18</td>\n",
       "      <td>2008</td>\n",
       "      <td>positive</td>\n",
       "      <td>1.0</td>\n",
       "      <td>94</td>\n",
       "      <td>False</td>\n",
       "    </tr>\n",
       "    <tr>\n",
       "      <th>3</th>\n",
       "      <td>4</td>\n",
       "      <td>B000UA0QIQ</td>\n",
       "      <td>A395BORC6FGVXV</td>\n",
       "      <td>3</td>\n",
       "      <td>3</td>\n",
       "      <td>2</td>\n",
       "      <td>1307923200</td>\n",
       "      <td>Cough Medicine</td>\n",
       "      <td>If you are looking for the secret ingredient i...</td>\n",
       "      <td>2011-06-13</td>\n",
       "      <td>2011</td>\n",
       "      <td>negative</td>\n",
       "      <td>1.0</td>\n",
       "      <td>41</td>\n",
       "      <td>True</td>\n",
       "    </tr>\n",
       "    <tr>\n",
       "      <th>4</th>\n",
       "      <td>5</td>\n",
       "      <td>B006K2ZZ7K</td>\n",
       "      <td>A1UQRSCLF8GW1T</td>\n",
       "      <td>0</td>\n",
       "      <td>0</td>\n",
       "      <td>5</td>\n",
       "      <td>1350777600</td>\n",
       "      <td>Great taffy</td>\n",
       "      <td>Great taffy at a great price.  There was a wid...</td>\n",
       "      <td>2012-10-21</td>\n",
       "      <td>2012</td>\n",
       "      <td>positive</td>\n",
       "      <td>NaN</td>\n",
       "      <td>27</td>\n",
       "      <td>False</td>\n",
       "    </tr>\n",
       "  </tbody>\n",
       "</table>\n",
       "</div>"
      ],
      "text/plain": [
       "   id  product_id         user_id  helpfulness_numerator  \\\n",
       "0   1  B001E4KFG0  A3SGXH7AUHU8GW                      1   \n",
       "1   2  B00813GRG4  A1D87F6ZCVE5NK                      0   \n",
       "2   3  B000LQOCH0   ABXLMWJIXXAIN                      1   \n",
       "3   4  B000UA0QIQ  A395BORC6FGVXV                      3   \n",
       "4   5  B006K2ZZ7K  A1UQRSCLF8GW1T                      0   \n",
       "\n",
       "   helpfulness_denominator  score        time                summary  \\\n",
       "0                        1      5  1303862400  Good Quality Dog Food   \n",
       "1                        0      1  1346976000      Not as Advertised   \n",
       "2                        1      4  1219017600  \"Delight\" says it all   \n",
       "3                        3      2  1307923200         Cough Medicine   \n",
       "4                        0      5  1350777600            Great taffy   \n",
       "\n",
       "                                                text       date  year  \\\n",
       "0  I have bought several of the Vitality canned d... 2011-04-27  2011   \n",
       "1  Product arrived labeled as Jumbo Salted Peanut... 2012-09-07  2012   \n",
       "2  This is a confection that has been around a fe... 2008-08-18  2008   \n",
       "3  If you are looking for the secret ingredient i... 2011-06-13  2011   \n",
       "4  Great taffy at a great price.  There was a wid... 2012-10-21  2012   \n",
       "\n",
       "  sentiment  helpfulness_ratio  word_count  duplicated  \n",
       "0  positive                1.0          48       False  \n",
       "1  negative                NaN          31       False  \n",
       "2  positive                1.0          94       False  \n",
       "3  negative                1.0          41        True  \n",
       "4  positive                NaN          27       False  "
      ]
     },
     "execution_count": 32,
     "metadata": {},
     "output_type": "execute_result"
    }
   ],
   "source": [
    "reviews.head()"
   ]
  },
  {
   "cell_type": "code",
   "execution_count": 33,
   "metadata": {},
   "outputs": [
    {
     "name": "stdout",
     "output_type": "stream",
     "text": [
      "# remaining reviews after dropping duplicates = 567145\n"
     ]
    }
   ],
   "source": [
    "print(f\"# remaining reviews after dropping duplicates = {reviews.shape[0]}\")"
   ]
  },
  {
   "cell_type": "markdown",
   "metadata": {},
   "source": [
    "#### Analysis of dispersion of duplicated reviews relative to the first published one for a product_id in terms of time and score\n",
    "\n",
    "* for each product_id in the duplicated reviews, get the earliest review of that item\n",
    "* calculate absolute difference of score and number of days between duplicated reviews and the earliest\n",
    "* plot distribution of these differences"
   ]
  },
  {
   "cell_type": "code",
   "execution_count": 34,
   "metadata": {},
   "outputs": [],
   "source": [
    "duplicated_reviews = reviews[reviews['duplicated']]"
   ]
  },
  {
   "cell_type": "code",
   "execution_count": 35,
   "metadata": {},
   "outputs": [
    {
     "data": {
      "text/plain": [
       "Int64Index([     3,     10,     29,     68,     69,     73,     96,    100,\n",
       "               101,    102,\n",
       "            ...\n",
       "            568401, 568402, 568403, 568407, 568408, 568409, 568410, 568411,\n",
       "            568412, 568413],\n",
       "           dtype='int64', length=231606)"
      ]
     },
     "execution_count": 35,
     "metadata": {},
     "output_type": "execute_result"
    }
   ],
   "source": [
    "duplicated_reviews.index"
   ]
  },
  {
   "cell_type": "code",
   "execution_count": 36,
   "metadata": {},
   "outputs": [
    {
     "data": {
      "text/plain": [
       "231606"
      ]
     },
     "execution_count": 36,
     "metadata": {},
     "output_type": "execute_result"
    }
   ],
   "source": [
    "duplicated_reviews.shape[0]"
   ]
  },
  {
   "cell_type": "code",
   "execution_count": 37,
   "metadata": {},
   "outputs": [
    {
     "data": {
      "text/plain": [
       "3         1307923200\n",
       "10        1107820800\n",
       "29        1107820800\n",
       "68        1169251200\n",
       "69        1185753600\n",
       "             ...    \n",
       "568409    1309651200\n",
       "568410    1332979200\n",
       "568411    1319500800\n",
       "568412    1336435200\n",
       "568413    1330041600\n",
       "Name: time, Length: 231606, dtype: int64"
      ]
     },
     "execution_count": 37,
     "metadata": {},
     "output_type": "execute_result"
    }
   ],
   "source": [
    "duplicated_reviews['time']"
   ]
  },
  {
   "cell_type": "code",
   "execution_count": 38,
   "metadata": {},
   "outputs": [
    {
     "data": {
      "text/plain": [
       "3         1307923200\n",
       "10        1107820800\n",
       "29        1107820800\n",
       "68        1169251200\n",
       "69        1185753600\n",
       "             ...    \n",
       "568409    1309651200\n",
       "568410    1332979200\n",
       "568411    1319500800\n",
       "568412    1336435200\n",
       "568413    1330041600\n",
       "Name: earliest_time, Length: 231606, dtype: int64"
      ]
     },
     "execution_count": 38,
     "metadata": {},
     "output_type": "execute_result"
    }
   ],
   "source": [
    "# Add column with earliest time for group of reviews\n",
    "earliest_time = duplicated_reviews.groupby(['product_id','text']).time.transform(lambda x: x.min())\n",
    "\n",
    "earliest_time.rename('earliest_time', inplace=True)"
   ]
  },
  {
   "cell_type": "code",
   "execution_count": 39,
   "metadata": {},
   "outputs": [
    {
     "data": {
      "text/plain": [
       "230284    5\n",
       "374358    5\n",
       "451877    5\n",
       "451948    5\n",
       "230347    5\n",
       "         ..\n",
       "550475    5\n",
       "454772    5\n",
       "217459    5\n",
       "392826    5\n",
       "336542    5\n",
       "Name: earliest_score, Length: 231606, dtype: int64"
      ]
     },
     "execution_count": 39,
     "metadata": {},
     "output_type": "execute_result"
    }
   ],
   "source": [
    "# Add column with score of earliest review\n",
    "earliest_score = duplicated_reviews.sort_values('time').groupby(['product_id','text'])['score'].transform('first')\n",
    "\n",
    "earliest_score.rename('earliest_score', inplace=True)"
   ]
  },
  {
   "cell_type": "code",
   "execution_count": 40,
   "metadata": {},
   "outputs": [
    {
     "data": {
      "text/plain": [
       "230284    0.5\n",
       "374358    0.5\n",
       "451877    0.5\n",
       "451948    1.0\n",
       "230347    1.0\n",
       "         ... \n",
       "550475    NaN\n",
       "454772    NaN\n",
       "217459    NaN\n",
       "392826    NaN\n",
       "336542    NaN\n",
       "Name: earliest_helpr, Length: 231606, dtype: float64"
      ]
     },
     "execution_count": 40,
     "metadata": {},
     "output_type": "execute_result"
    }
   ],
   "source": [
    "# Add column with helpfulness ratio of earliest review\n",
    "earliest_helpr = duplicated_reviews.sort_values('time').groupby(['product_id','text'])['helpfulness_ratio'].transform('first')\n",
    "\n",
    "earliest_helpr.rename('earliest_helpr', inplace=True)"
   ]
  },
  {
   "cell_type": "code",
   "execution_count": 41,
   "metadata": {},
   "outputs": [
    {
     "data": {
      "text/plain": [
       "231606"
      ]
     },
     "execution_count": 41,
     "metadata": {},
     "output_type": "execute_result"
    }
   ],
   "source": [
    "earliest_time.shape[0]"
   ]
  },
  {
   "cell_type": "code",
   "execution_count": 42,
   "metadata": {},
   "outputs": [
    {
     "data": {
      "text/plain": [
       "231606"
      ]
     },
     "execution_count": 42,
     "metadata": {},
     "output_type": "execute_result"
    }
   ],
   "source": [
    "earliest_score.shape[0]"
   ]
  },
  {
   "cell_type": "code",
   "execution_count": 43,
   "metadata": {},
   "outputs": [],
   "source": [
    "duplicated_reviews = duplicated_reviews.merge(earliest_time.to_frame(), left_index=True, right_index=True)\n",
    "\n",
    "duplicated_reviews = duplicated_reviews.merge(earliest_score.to_frame(), left_index=True, right_index=True)\n",
    "\n",
    "duplicated_reviews = duplicated_reviews.merge(earliest_helpr.to_frame(), left_index=True, right_index=True)"
   ]
  },
  {
   "cell_type": "code",
   "execution_count": 44,
   "metadata": {},
   "outputs": [
    {
     "data": {
      "text/plain": [
       "231606"
      ]
     },
     "execution_count": 44,
     "metadata": {},
     "output_type": "execute_result"
    }
   ],
   "source": [
    "duplicated_reviews.shape[0]"
   ]
  },
  {
   "cell_type": "code",
   "execution_count": 45,
   "metadata": {},
   "outputs": [
    {
     "data": {
      "text/html": [
       "<div>\n",
       "<style scoped>\n",
       "    .dataframe tbody tr th:only-of-type {\n",
       "        vertical-align: middle;\n",
       "    }\n",
       "\n",
       "    .dataframe tbody tr th {\n",
       "        vertical-align: top;\n",
       "    }\n",
       "\n",
       "    .dataframe thead th {\n",
       "        text-align: right;\n",
       "    }\n",
       "</style>\n",
       "<table border=\"1\" class=\"dataframe\">\n",
       "  <thead>\n",
       "    <tr style=\"text-align: right;\">\n",
       "      <th></th>\n",
       "      <th>id</th>\n",
       "      <th>product_id</th>\n",
       "      <th>user_id</th>\n",
       "      <th>helpfulness_numerator</th>\n",
       "      <th>helpfulness_denominator</th>\n",
       "      <th>score</th>\n",
       "      <th>time</th>\n",
       "      <th>summary</th>\n",
       "      <th>text</th>\n",
       "      <th>date</th>\n",
       "      <th>year</th>\n",
       "      <th>sentiment</th>\n",
       "      <th>helpfulness_ratio</th>\n",
       "      <th>word_count</th>\n",
       "      <th>duplicated</th>\n",
       "      <th>earliest_time</th>\n",
       "      <th>earliest_score</th>\n",
       "      <th>earliest_helpr</th>\n",
       "    </tr>\n",
       "  </thead>\n",
       "  <tbody>\n",
       "    <tr>\n",
       "      <th>3</th>\n",
       "      <td>4</td>\n",
       "      <td>B000UA0QIQ</td>\n",
       "      <td>A395BORC6FGVXV</td>\n",
       "      <td>3</td>\n",
       "      <td>3</td>\n",
       "      <td>2</td>\n",
       "      <td>1307923200</td>\n",
       "      <td>Cough Medicine</td>\n",
       "      <td>If you are looking for the secret ingredient i...</td>\n",
       "      <td>2011-06-13</td>\n",
       "      <td>2011</td>\n",
       "      <td>negative</td>\n",
       "      <td>1.0</td>\n",
       "      <td>41</td>\n",
       "      <td>True</td>\n",
       "      <td>1307923200</td>\n",
       "      <td>2</td>\n",
       "      <td>1.0</td>\n",
       "    </tr>\n",
       "    <tr>\n",
       "      <th>10</th>\n",
       "      <td>11</td>\n",
       "      <td>B0001PB9FE</td>\n",
       "      <td>A3HDKO7OW0QNK4</td>\n",
       "      <td>1</td>\n",
       "      <td>1</td>\n",
       "      <td>5</td>\n",
       "      <td>1107820800</td>\n",
       "      <td>The Best Hot Sauce in the World</td>\n",
       "      <td>I don't know if it's the cactus or the tequila...</td>\n",
       "      <td>2005-02-08</td>\n",
       "      <td>2005</td>\n",
       "      <td>positive</td>\n",
       "      <td>1.0</td>\n",
       "      <td>146</td>\n",
       "      <td>True</td>\n",
       "      <td>1107820800</td>\n",
       "      <td>5</td>\n",
       "      <td>1.0</td>\n",
       "    </tr>\n",
       "    <tr>\n",
       "      <th>29</th>\n",
       "      <td>30</td>\n",
       "      <td>B0001PB9FY</td>\n",
       "      <td>A3HDKO7OW0QNK4</td>\n",
       "      <td>1</td>\n",
       "      <td>1</td>\n",
       "      <td>5</td>\n",
       "      <td>1107820800</td>\n",
       "      <td>The Best Hot Sauce in the World</td>\n",
       "      <td>I don't know if it's the cactus or the tequila...</td>\n",
       "      <td>2005-02-08</td>\n",
       "      <td>2005</td>\n",
       "      <td>positive</td>\n",
       "      <td>1.0</td>\n",
       "      <td>146</td>\n",
       "      <td>True</td>\n",
       "      <td>1107820800</td>\n",
       "      <td>5</td>\n",
       "      <td>1.0</td>\n",
       "    </tr>\n",
       "    <tr>\n",
       "      <th>68</th>\n",
       "      <td>69</td>\n",
       "      <td>B000E7VI7S</td>\n",
       "      <td>A1KL2LAW08X6UQ</td>\n",
       "      <td>0</td>\n",
       "      <td>0</td>\n",
       "      <td>3</td>\n",
       "      <td>1169251200</td>\n",
       "      <td>How much would you pay for a bag of chocolate ...</td>\n",
       "      <td>If you're impulsive like me, then $6 is ok. Do...</td>\n",
       "      <td>2007-01-20</td>\n",
       "      <td>2007</td>\n",
       "      <td>neutral</td>\n",
       "      <td>NaN</td>\n",
       "      <td>42</td>\n",
       "      <td>True</td>\n",
       "      <td>1169251200</td>\n",
       "      <td>3</td>\n",
       "      <td>NaN</td>\n",
       "    </tr>\n",
       "    <tr>\n",
       "      <th>69</th>\n",
       "      <td>70</td>\n",
       "      <td>B000E7VI7S</td>\n",
       "      <td>AWCBF2ZWIN57F</td>\n",
       "      <td>0</td>\n",
       "      <td>2</td>\n",
       "      <td>5</td>\n",
       "      <td>1185753600</td>\n",
       "      <td>pretzel haven!</td>\n",
       "      <td>this was sooooo deliscious but too bad i ate e...</td>\n",
       "      <td>2007-07-30</td>\n",
       "      <td>2007</td>\n",
       "      <td>positive</td>\n",
       "      <td>0.0</td>\n",
       "      <td>18</td>\n",
       "      <td>True</td>\n",
       "      <td>1185753600</td>\n",
       "      <td>5</td>\n",
       "      <td>0.0</td>\n",
       "    </tr>\n",
       "  </tbody>\n",
       "</table>\n",
       "</div>"
      ],
      "text/plain": [
       "    id  product_id         user_id  helpfulness_numerator  \\\n",
       "3    4  B000UA0QIQ  A395BORC6FGVXV                      3   \n",
       "10  11  B0001PB9FE  A3HDKO7OW0QNK4                      1   \n",
       "29  30  B0001PB9FY  A3HDKO7OW0QNK4                      1   \n",
       "68  69  B000E7VI7S  A1KL2LAW08X6UQ                      0   \n",
       "69  70  B000E7VI7S   AWCBF2ZWIN57F                      0   \n",
       "\n",
       "    helpfulness_denominator  score        time  \\\n",
       "3                         3      2  1307923200   \n",
       "10                        1      5  1107820800   \n",
       "29                        1      5  1107820800   \n",
       "68                        0      3  1169251200   \n",
       "69                        2      5  1185753600   \n",
       "\n",
       "                                              summary  \\\n",
       "3                                      Cough Medicine   \n",
       "10                    The Best Hot Sauce in the World   \n",
       "29                    The Best Hot Sauce in the World   \n",
       "68  How much would you pay for a bag of chocolate ...   \n",
       "69                                     pretzel haven!   \n",
       "\n",
       "                                                 text       date  year  \\\n",
       "3   If you are looking for the secret ingredient i... 2011-06-13  2011   \n",
       "10  I don't know if it's the cactus or the tequila... 2005-02-08  2005   \n",
       "29  I don't know if it's the cactus or the tequila... 2005-02-08  2005   \n",
       "68  If you're impulsive like me, then $6 is ok. Do... 2007-01-20  2007   \n",
       "69  this was sooooo deliscious but too bad i ate e... 2007-07-30  2007   \n",
       "\n",
       "   sentiment  helpfulness_ratio  word_count  duplicated  earliest_time  \\\n",
       "3   negative                1.0          41        True     1307923200   \n",
       "10  positive                1.0         146        True     1107820800   \n",
       "29  positive                1.0         146        True     1107820800   \n",
       "68   neutral                NaN          42        True     1169251200   \n",
       "69  positive                0.0          18        True     1185753600   \n",
       "\n",
       "    earliest_score  earliest_helpr  \n",
       "3                2             1.0  \n",
       "10               5             1.0  \n",
       "29               5             1.0  \n",
       "68               3             NaN  \n",
       "69               5             0.0  "
      ]
     },
     "execution_count": 45,
     "metadata": {},
     "output_type": "execute_result"
    }
   ],
   "source": [
    "duplicated_reviews.head()"
   ]
  },
  {
   "cell_type": "code",
   "execution_count": 46,
   "metadata": {},
   "outputs": [],
   "source": [
    "duplicated_reviews['diff_secs'] = abs(duplicated_reviews['time']-duplicated_reviews['earliest_time'])"
   ]
  },
  {
   "cell_type": "code",
   "execution_count": 47,
   "metadata": {},
   "outputs": [
    {
     "data": {
      "text/plain": [
       "0            231598\n",
       "11491200          2\n",
       "5788800           1\n",
       "168134400         1\n",
       "39312000          1\n",
       "1641600           1\n",
       "5270400           1\n",
       "29894400          1\n",
       "Name: diff_secs, dtype: int64"
      ]
     },
     "execution_count": 47,
     "metadata": {},
     "output_type": "execute_result"
    }
   ],
   "source": [
    "duplicated_reviews['diff_secs'].value_counts()"
   ]
  },
  {
   "cell_type": "code",
   "execution_count": 48,
   "metadata": {},
   "outputs": [],
   "source": [
    "duplicated_reviews['diff_score'] = abs(duplicated_reviews['score']-duplicated_reviews['earliest_score'])"
   ]
  },
  {
   "cell_type": "code",
   "execution_count": 49,
   "metadata": {},
   "outputs": [
    {
     "data": {
      "text/plain": [
       "0    231604\n",
       "1         2\n",
       "Name: diff_score, dtype: int64"
      ]
     },
     "execution_count": 49,
     "metadata": {},
     "output_type": "execute_result"
    }
   ],
   "source": [
    "duplicated_reviews['diff_score'].value_counts()"
   ]
  },
  {
   "cell_type": "code",
   "execution_count": 50,
   "metadata": {},
   "outputs": [],
   "source": [
    "duplicated_reviews['diff_helpr'] = abs(duplicated_reviews['helpfulness_ratio']-duplicated_reviews['earliest_helpr'])"
   ]
  },
  {
   "cell_type": "code",
   "execution_count": 51,
   "metadata": {},
   "outputs": [
    {
     "data": {
      "text/plain": [
       "0.000000    117461\n",
       "0.050000         2\n",
       "0.500000         2\n",
       "0.083333         1\n",
       "Name: diff_helpr, dtype: int64"
      ]
     },
     "execution_count": 51,
     "metadata": {},
     "output_type": "execute_result"
    }
   ],
   "source": [
    "duplicated_reviews['diff_helpr'].value_counts()"
   ]
  },
  {
   "cell_type": "markdown",
   "metadata": {},
   "source": [
    "Out of the 173672 duplicated reviews, all but one have the same timestamp and score, which means that they must belong to the same user, as another user would not be able to copy the review and post it in the same second as the earliest review was posted.\n",
    "\n",
    "For these records it suffices to keep the first one as the others must be a mistake in the data."
   ]
  },
  {
   "cell_type": "code",
   "execution_count": 52,
   "metadata": {},
   "outputs": [
    {
     "data": {
      "text/html": [
       "<div>\n",
       "<style scoped>\n",
       "    .dataframe tbody tr th:only-of-type {\n",
       "        vertical-align: middle;\n",
       "    }\n",
       "\n",
       "    .dataframe tbody tr th {\n",
       "        vertical-align: top;\n",
       "    }\n",
       "\n",
       "    .dataframe thead th {\n",
       "        text-align: right;\n",
       "    }\n",
       "</style>\n",
       "<table border=\"1\" class=\"dataframe\">\n",
       "  <thead>\n",
       "    <tr style=\"text-align: right;\">\n",
       "      <th></th>\n",
       "      <th>id</th>\n",
       "      <th>product_id</th>\n",
       "      <th>user_id</th>\n",
       "      <th>helpfulness_numerator</th>\n",
       "      <th>helpfulness_denominator</th>\n",
       "      <th>score</th>\n",
       "      <th>time</th>\n",
       "      <th>summary</th>\n",
       "      <th>text</th>\n",
       "      <th>date</th>\n",
       "      <th>...</th>\n",
       "      <th>sentiment</th>\n",
       "      <th>helpfulness_ratio</th>\n",
       "      <th>word_count</th>\n",
       "      <th>duplicated</th>\n",
       "      <th>earliest_time</th>\n",
       "      <th>earliest_score</th>\n",
       "      <th>earliest_helpr</th>\n",
       "      <th>diff_secs</th>\n",
       "      <th>diff_score</th>\n",
       "      <th>diff_helpr</th>\n",
       "    </tr>\n",
       "  </thead>\n",
       "  <tbody>\n",
       "    <tr>\n",
       "      <th>343862</th>\n",
       "      <td>343863</td>\n",
       "      <td>B008J1HO4C</td>\n",
       "      <td>A1MHI2RJAE5BBJ</td>\n",
       "      <td>1</td>\n",
       "      <td>1</td>\n",
       "      <td>5</td>\n",
       "      <td>1238284800</td>\n",
       "      <td>The Best Oatmeal</td>\n",
       "      <td>I bought a 4-pack of this oatmeal for a reason...</td>\n",
       "      <td>2009-03-29</td>\n",
       "      <td>...</td>\n",
       "      <td>positive</td>\n",
       "      <td>1.0</td>\n",
       "      <td>36</td>\n",
       "      <td>True</td>\n",
       "      <td>1226793600</td>\n",
       "      <td>5</td>\n",
       "      <td>0.5</td>\n",
       "      <td>11491200</td>\n",
       "      <td>0</td>\n",
       "      <td>0.5</td>\n",
       "    </tr>\n",
       "    <tr>\n",
       "      <th>565139</th>\n",
       "      <td>565140</td>\n",
       "      <td>B001EO5U3I</td>\n",
       "      <td>A1MHI2RJAE5BBJ</td>\n",
       "      <td>1</td>\n",
       "      <td>1</td>\n",
       "      <td>5</td>\n",
       "      <td>1238284800</td>\n",
       "      <td>The Best Oatmeal</td>\n",
       "      <td>I bought a 4-pack of this oatmeal for a reason...</td>\n",
       "      <td>2009-03-29</td>\n",
       "      <td>...</td>\n",
       "      <td>positive</td>\n",
       "      <td>1.0</td>\n",
       "      <td>36</td>\n",
       "      <td>True</td>\n",
       "      <td>1226793600</td>\n",
       "      <td>5</td>\n",
       "      <td>0.5</td>\n",
       "      <td>11491200</td>\n",
       "      <td>0</td>\n",
       "      <td>0.5</td>\n",
       "    </tr>\n",
       "  </tbody>\n",
       "</table>\n",
       "<p>2 rows × 21 columns</p>\n",
       "</div>"
      ],
      "text/plain": [
       "            id  product_id         user_id  helpfulness_numerator  \\\n",
       "343862  343863  B008J1HO4C  A1MHI2RJAE5BBJ                      1   \n",
       "565139  565140  B001EO5U3I  A1MHI2RJAE5BBJ                      1   \n",
       "\n",
       "        helpfulness_denominator  score        time           summary  \\\n",
       "343862                        1      5  1238284800  The Best Oatmeal   \n",
       "565139                        1      5  1238284800  The Best Oatmeal   \n",
       "\n",
       "                                                     text       date  ...  \\\n",
       "343862  I bought a 4-pack of this oatmeal for a reason... 2009-03-29  ...   \n",
       "565139  I bought a 4-pack of this oatmeal for a reason... 2009-03-29  ...   \n",
       "\n",
       "        sentiment helpfulness_ratio  word_count  duplicated  earliest_time  \\\n",
       "343862   positive               1.0          36        True     1226793600   \n",
       "565139   positive               1.0          36        True     1226793600   \n",
       "\n",
       "        earliest_score  earliest_helpr  diff_secs  diff_score  diff_helpr  \n",
       "343862               5             0.5   11491200           0         0.5  \n",
       "565139               5             0.5   11491200           0         0.5  \n",
       "\n",
       "[2 rows x 21 columns]"
      ]
     },
     "execution_count": 52,
     "metadata": {},
     "output_type": "execute_result"
    }
   ],
   "source": [
    "# Checking duplicate review that has the large time difference\n",
    "duplicated_reviews[duplicated_reviews['diff_secs']==11491200]"
   ]
  },
  {
   "cell_type": "code",
   "execution_count": 53,
   "metadata": {},
   "outputs": [
    {
     "data": {
      "text/html": [
       "<div>\n",
       "<style scoped>\n",
       "    .dataframe tbody tr th:only-of-type {\n",
       "        vertical-align: middle;\n",
       "    }\n",
       "\n",
       "    .dataframe tbody tr th {\n",
       "        vertical-align: top;\n",
       "    }\n",
       "\n",
       "    .dataframe thead th {\n",
       "        text-align: right;\n",
       "    }\n",
       "</style>\n",
       "<table border=\"1\" class=\"dataframe\">\n",
       "  <thead>\n",
       "    <tr style=\"text-align: right;\">\n",
       "      <th></th>\n",
       "      <th>id</th>\n",
       "      <th>product_id</th>\n",
       "      <th>user_id</th>\n",
       "      <th>helpfulness_numerator</th>\n",
       "      <th>helpfulness_denominator</th>\n",
       "      <th>score</th>\n",
       "      <th>time</th>\n",
       "      <th>summary</th>\n",
       "      <th>text</th>\n",
       "      <th>date</th>\n",
       "      <th>...</th>\n",
       "      <th>sentiment</th>\n",
       "      <th>helpfulness_ratio</th>\n",
       "      <th>word_count</th>\n",
       "      <th>duplicated</th>\n",
       "      <th>earliest_time</th>\n",
       "      <th>earliest_score</th>\n",
       "      <th>earliest_helpr</th>\n",
       "      <th>diff_secs</th>\n",
       "      <th>diff_score</th>\n",
       "      <th>diff_helpr</th>\n",
       "    </tr>\n",
       "  </thead>\n",
       "  <tbody>\n",
       "    <tr>\n",
       "      <th>97472</th>\n",
       "      <td>97473</td>\n",
       "      <td>B006W5WDS4</td>\n",
       "      <td>A31I7JTKSVW5ER</td>\n",
       "      <td>7</td>\n",
       "      <td>10</td>\n",
       "      <td>1</td>\n",
       "      <td>1347062400</td>\n",
       "      <td>Disappointed with Kelloggs</td>\n",
       "      <td>I no longer will buy anything Kelloggs makes b...</td>\n",
       "      <td>2012-09-08</td>\n",
       "      <td>...</td>\n",
       "      <td>negative</td>\n",
       "      <td>0.7</td>\n",
       "      <td>69</td>\n",
       "      <td>True</td>\n",
       "      <td>1347062400</td>\n",
       "      <td>1</td>\n",
       "      <td>0.750000</td>\n",
       "      <td>0</td>\n",
       "      <td>0</td>\n",
       "      <td>0.050000</td>\n",
       "    </tr>\n",
       "    <tr>\n",
       "      <th>198144</th>\n",
       "      <td>198145</td>\n",
       "      <td>B00545EXFY</td>\n",
       "      <td>A3J33XYGKVD7BF</td>\n",
       "      <td>6</td>\n",
       "      <td>6</td>\n",
       "      <td>1</td>\n",
       "      <td>1339372800</td>\n",
       "      <td>it's a wrong to buy it !!!</td>\n",
       "      <td>I totally thought I would be getting 6 boxes f...</td>\n",
       "      <td>2012-06-11</td>\n",
       "      <td>...</td>\n",
       "      <td>negative</td>\n",
       "      <td>1.0</td>\n",
       "      <td>40</td>\n",
       "      <td>True</td>\n",
       "      <td>1337731200</td>\n",
       "      <td>1</td>\n",
       "      <td>0.916667</td>\n",
       "      <td>1641600</td>\n",
       "      <td>0</td>\n",
       "      <td>0.083333</td>\n",
       "    </tr>\n",
       "    <tr>\n",
       "      <th>343862</th>\n",
       "      <td>343863</td>\n",
       "      <td>B008J1HO4C</td>\n",
       "      <td>A1MHI2RJAE5BBJ</td>\n",
       "      <td>1</td>\n",
       "      <td>1</td>\n",
       "      <td>5</td>\n",
       "      <td>1238284800</td>\n",
       "      <td>The Best Oatmeal</td>\n",
       "      <td>I bought a 4-pack of this oatmeal for a reason...</td>\n",
       "      <td>2009-03-29</td>\n",
       "      <td>...</td>\n",
       "      <td>positive</td>\n",
       "      <td>1.0</td>\n",
       "      <td>36</td>\n",
       "      <td>True</td>\n",
       "      <td>1226793600</td>\n",
       "      <td>5</td>\n",
       "      <td>0.500000</td>\n",
       "      <td>11491200</td>\n",
       "      <td>0</td>\n",
       "      <td>0.500000</td>\n",
       "    </tr>\n",
       "    <tr>\n",
       "      <th>367217</th>\n",
       "      <td>367218</td>\n",
       "      <td>B001E6KBJ4</td>\n",
       "      <td>A31I7JTKSVW5ER</td>\n",
       "      <td>7</td>\n",
       "      <td>10</td>\n",
       "      <td>1</td>\n",
       "      <td>1347062400</td>\n",
       "      <td>Disappointed with Kelloggs</td>\n",
       "      <td>I no longer will buy anything Kelloggs makes b...</td>\n",
       "      <td>2012-09-08</td>\n",
       "      <td>...</td>\n",
       "      <td>negative</td>\n",
       "      <td>0.7</td>\n",
       "      <td>69</td>\n",
       "      <td>True</td>\n",
       "      <td>1347062400</td>\n",
       "      <td>1</td>\n",
       "      <td>0.750000</td>\n",
       "      <td>0</td>\n",
       "      <td>0</td>\n",
       "      <td>0.050000</td>\n",
       "    </tr>\n",
       "    <tr>\n",
       "      <th>565139</th>\n",
       "      <td>565140</td>\n",
       "      <td>B001EO5U3I</td>\n",
       "      <td>A1MHI2RJAE5BBJ</td>\n",
       "      <td>1</td>\n",
       "      <td>1</td>\n",
       "      <td>5</td>\n",
       "      <td>1238284800</td>\n",
       "      <td>The Best Oatmeal</td>\n",
       "      <td>I bought a 4-pack of this oatmeal for a reason...</td>\n",
       "      <td>2009-03-29</td>\n",
       "      <td>...</td>\n",
       "      <td>positive</td>\n",
       "      <td>1.0</td>\n",
       "      <td>36</td>\n",
       "      <td>True</td>\n",
       "      <td>1226793600</td>\n",
       "      <td>5</td>\n",
       "      <td>0.500000</td>\n",
       "      <td>11491200</td>\n",
       "      <td>0</td>\n",
       "      <td>0.500000</td>\n",
       "    </tr>\n",
       "  </tbody>\n",
       "</table>\n",
       "<p>5 rows × 21 columns</p>\n",
       "</div>"
      ],
      "text/plain": [
       "            id  product_id         user_id  helpfulness_numerator  \\\n",
       "97472    97473  B006W5WDS4  A31I7JTKSVW5ER                      7   \n",
       "198144  198145  B00545EXFY  A3J33XYGKVD7BF                      6   \n",
       "343862  343863  B008J1HO4C  A1MHI2RJAE5BBJ                      1   \n",
       "367217  367218  B001E6KBJ4  A31I7JTKSVW5ER                      7   \n",
       "565139  565140  B001EO5U3I  A1MHI2RJAE5BBJ                      1   \n",
       "\n",
       "        helpfulness_denominator  score        time  \\\n",
       "97472                        10      1  1347062400   \n",
       "198144                        6      1  1339372800   \n",
       "343862                        1      5  1238284800   \n",
       "367217                       10      1  1347062400   \n",
       "565139                        1      5  1238284800   \n",
       "\n",
       "                           summary  \\\n",
       "97472   Disappointed with Kelloggs   \n",
       "198144  it's a wrong to buy it !!!   \n",
       "343862            The Best Oatmeal   \n",
       "367217  Disappointed with Kelloggs   \n",
       "565139            The Best Oatmeal   \n",
       "\n",
       "                                                     text       date  ...  \\\n",
       "97472   I no longer will buy anything Kelloggs makes b... 2012-09-08  ...   \n",
       "198144  I totally thought I would be getting 6 boxes f... 2012-06-11  ...   \n",
       "343862  I bought a 4-pack of this oatmeal for a reason... 2009-03-29  ...   \n",
       "367217  I no longer will buy anything Kelloggs makes b... 2012-09-08  ...   \n",
       "565139  I bought a 4-pack of this oatmeal for a reason... 2009-03-29  ...   \n",
       "\n",
       "        sentiment helpfulness_ratio  word_count  duplicated  earliest_time  \\\n",
       "97472    negative               0.7          69        True     1347062400   \n",
       "198144   negative               1.0          40        True     1337731200   \n",
       "343862   positive               1.0          36        True     1226793600   \n",
       "367217   negative               0.7          69        True     1347062400   \n",
       "565139   positive               1.0          36        True     1226793600   \n",
       "\n",
       "        earliest_score  earliest_helpr  diff_secs  diff_score  diff_helpr  \n",
       "97472                1        0.750000          0           0    0.050000  \n",
       "198144               1        0.916667    1641600           0    0.083333  \n",
       "343862               5        0.500000   11491200           0    0.500000  \n",
       "367217               1        0.750000          0           0    0.050000  \n",
       "565139               5        0.500000   11491200           0    0.500000  \n",
       "\n",
       "[5 rows x 21 columns]"
      ]
     },
     "execution_count": 53,
     "metadata": {},
     "output_type": "execute_result"
    }
   ],
   "source": [
    "# Checking duplicate reviews that have nonzero helpfulness ratio\n",
    "duplicated_reviews[duplicated_reviews['diff_helpr'] > 0]"
   ]
  },
  {
   "cell_type": "code",
   "execution_count": 54,
   "metadata": {},
   "outputs": [
    {
     "name": "stdout",
     "output_type": "stream",
     "text": [
      "special duplicate case product_id = B001EO5U3I\n",
      "special duplicate case text = I bought a 4-pack of this oatmeal for a reason; it's worth it. The flavor is so rich and nutty. The texture is perfect. If you like oatmeal, buy this - it's also a great value!\n"
     ]
    }
   ],
   "source": [
    "special_case_product_id = duplicated_reviews[duplicated_reviews['diff_secs']==11491200]['product_id'].loc[565139]\n",
    "special_case_text = duplicated_reviews[duplicated_reviews['diff_secs']==11491200]['text'].loc[565139]\n",
    "\n",
    "print(f\"special duplicate case product_id = {special_case_product_id}\")\n",
    "print(f\"special duplicate case text = {special_case_text}\")"
   ]
  },
  {
   "cell_type": "code",
   "execution_count": 55,
   "metadata": {},
   "outputs": [
    {
     "data": {
      "text/html": [
       "<div>\n",
       "<style scoped>\n",
       "    .dataframe tbody tr th:only-of-type {\n",
       "        vertical-align: middle;\n",
       "    }\n",
       "\n",
       "    .dataframe tbody tr th {\n",
       "        vertical-align: top;\n",
       "    }\n",
       "\n",
       "    .dataframe thead th {\n",
       "        text-align: right;\n",
       "    }\n",
       "</style>\n",
       "<table border=\"1\" class=\"dataframe\">\n",
       "  <thead>\n",
       "    <tr style=\"text-align: right;\">\n",
       "      <th></th>\n",
       "      <th>id</th>\n",
       "      <th>product_id</th>\n",
       "      <th>user_id</th>\n",
       "      <th>helpfulness_numerator</th>\n",
       "      <th>helpfulness_denominator</th>\n",
       "      <th>score</th>\n",
       "      <th>time</th>\n",
       "      <th>summary</th>\n",
       "      <th>text</th>\n",
       "      <th>date</th>\n",
       "      <th>year</th>\n",
       "      <th>sentiment</th>\n",
       "      <th>helpfulness_ratio</th>\n",
       "      <th>word_count</th>\n",
       "      <th>duplicated</th>\n",
       "    </tr>\n",
       "  </thead>\n",
       "  <tbody>\n",
       "    <tr>\n",
       "      <th>565139</th>\n",
       "      <td>565140</td>\n",
       "      <td>B001EO5U3I</td>\n",
       "      <td>A1MHI2RJAE5BBJ</td>\n",
       "      <td>1</td>\n",
       "      <td>1</td>\n",
       "      <td>5</td>\n",
       "      <td>1238284800</td>\n",
       "      <td>The Best Oatmeal</td>\n",
       "      <td>I bought a 4-pack of this oatmeal for a reason...</td>\n",
       "      <td>2009-03-29</td>\n",
       "      <td>2009</td>\n",
       "      <td>positive</td>\n",
       "      <td>1.0</td>\n",
       "      <td>36</td>\n",
       "      <td>True</td>\n",
       "    </tr>\n",
       "    <tr>\n",
       "      <th>565333</th>\n",
       "      <td>565334</td>\n",
       "      <td>B001EO5U3I</td>\n",
       "      <td>A1Z46QE3HMBB2B</td>\n",
       "      <td>1</td>\n",
       "      <td>2</td>\n",
       "      <td>5</td>\n",
       "      <td>1226793600</td>\n",
       "      <td>Best Oatmeal in the World</td>\n",
       "      <td>I bought a 4-pack of this oatmeal for a reason...</td>\n",
       "      <td>2008-11-16</td>\n",
       "      <td>2008</td>\n",
       "      <td>positive</td>\n",
       "      <td>0.5</td>\n",
       "      <td>36</td>\n",
       "      <td>True</td>\n",
       "    </tr>\n",
       "  </tbody>\n",
       "</table>\n",
       "</div>"
      ],
      "text/plain": [
       "            id  product_id         user_id  helpfulness_numerator  \\\n",
       "565139  565140  B001EO5U3I  A1MHI2RJAE5BBJ                      1   \n",
       "565333  565334  B001EO5U3I  A1Z46QE3HMBB2B                      1   \n",
       "\n",
       "        helpfulness_denominator  score        time                    summary  \\\n",
       "565139                        1      5  1238284800           The Best Oatmeal   \n",
       "565333                        2      5  1226793600  Best Oatmeal in the World   \n",
       "\n",
       "                                                     text       date  year  \\\n",
       "565139  I bought a 4-pack of this oatmeal for a reason... 2009-03-29  2009   \n",
       "565333  I bought a 4-pack of this oatmeal for a reason... 2008-11-16  2008   \n",
       "\n",
       "       sentiment  helpfulness_ratio  word_count  duplicated  \n",
       "565139  positive                1.0          36        True  \n",
       "565333  positive                0.5          36        True  "
      ]
     },
     "execution_count": 55,
     "metadata": {},
     "output_type": "execute_result"
    }
   ],
   "source": [
    "reviews[(reviews['product_id'] == special_case_product_id) & (reviews['text'] == special_case_text)]"
   ]
  },
  {
   "cell_type": "markdown",
   "metadata": {},
   "source": [
    "From the analysis above it seems all duplicates with zero timestamp difference and zero score difference can be safely dropped."
   ]
  },
  {
   "cell_type": "markdown",
   "metadata": {},
   "source": [
    "#### Dropping duplicates"
   ]
  },
  {
   "cell_type": "code",
   "execution_count": 56,
   "metadata": {},
   "outputs": [
    {
     "data": {
      "text/plain": [
       "567145"
      ]
     },
     "execution_count": 56,
     "metadata": {},
     "output_type": "execute_result"
    }
   ],
   "source": [
    "reviews.shape[0]"
   ]
  },
  {
   "cell_type": "code",
   "execution_count": 57,
   "metadata": {},
   "outputs": [
    {
     "data": {
      "text/plain": [
       "15"
      ]
     },
     "execution_count": 57,
     "metadata": {},
     "output_type": "execute_result"
    }
   ],
   "source": [
    "sum(reviews.duplicated(subset=['product_id','text']))"
   ]
  },
  {
   "cell_type": "code",
   "execution_count": 58,
   "metadata": {},
   "outputs": [
    {
     "name": "stderr",
     "output_type": "stream",
     "text": [
      "C:\\Users\\j.martins\\AppData\\Local\\Temp\\ipykernel_26728\\145637505.py:7: UserWarning: Boolean Series key will be reindexed to match DataFrame index.\n",
      "  df = df[~drop_mask]\n"
     ]
    }
   ],
   "source": [
    "reviews = drop_same_cols(reviews, ['product_id','text'], keep='first')"
   ]
  },
  {
   "cell_type": "code",
   "execution_count": 59,
   "metadata": {},
   "outputs": [
    {
     "data": {
      "text/plain": [
       "567130"
      ]
     },
     "execution_count": 59,
     "metadata": {},
     "output_type": "execute_result"
    }
   ],
   "source": [
    "reviews.shape[0]"
   ]
  },
  {
   "cell_type": "code",
   "execution_count": 60,
   "metadata": {},
   "outputs": [
    {
     "data": {
      "text/plain": [
       "0"
      ]
     },
     "execution_count": 60,
     "metadata": {},
     "output_type": "execute_result"
    }
   ],
   "source": [
    "sum(reviews.duplicated(subset=['product_id','text']))"
   ]
  },
  {
   "cell_type": "markdown",
   "metadata": {},
   "source": [
    "### Removing all but the first of each group of reviews that has the same user_id, timestamp and text\n",
    "\n",
    "(Assuming these all refer to variations of the same product)"
   ]
  },
  {
   "cell_type": "code",
   "execution_count": 61,
   "metadata": {},
   "outputs": [
    {
     "name": "stderr",
     "output_type": "stream",
     "text": [
      "C:\\Users\\j.martins\\AppData\\Local\\Temp\\ipykernel_26728\\145637505.py:7: UserWarning: Boolean Series key will be reindexed to match DataFrame index.\n",
      "  df = df[~drop_mask]\n"
     ]
    }
   ],
   "source": [
    "reviews = drop_same_cols(reviews, ['user_id','time','text'], keep='first')"
   ]
  },
  {
   "cell_type": "code",
   "execution_count": 62,
   "metadata": {},
   "outputs": [
    {
     "data": {
      "text/plain": [
       "393866"
      ]
     },
     "execution_count": 62,
     "metadata": {},
     "output_type": "execute_result"
    }
   ],
   "source": [
    "reviews.shape[0]"
   ]
  },
  {
   "cell_type": "markdown",
   "metadata": {},
   "source": [
    "### Double check if all reviews are in english"
   ]
  },
  {
   "cell_type": "code",
   "execution_count": 63,
   "metadata": {},
   "outputs": [],
   "source": [
    "# Run this to download language model\n",
    "\n",
    "#!python -m spacy download en"
   ]
  },
  {
   "cell_type": "code",
   "execution_count": 64,
   "metadata": {},
   "outputs": [],
   "source": [
    "from spacy_langdetect import LanguageDetector\n",
    "import spacy\n",
    "from spacy.language import Language"
   ]
  },
  {
   "cell_type": "code",
   "execution_count": 65,
   "metadata": {},
   "outputs": [
    {
     "data": {
      "text/plain": [
       "<spacy_langdetect.spacy_langdetect.LanguageDetector at 0x24012b28dc0>"
      ]
     },
     "execution_count": 65,
     "metadata": {},
     "output_type": "execute_result"
    }
   ],
   "source": [
    "nlp = spacy.load(\"en_core_web_sm\")\n",
    "\n",
    "@Language.factory(\"language_detector\")\n",
    "def get_lang_detector(nlp, name):\n",
    "    return LanguageDetector()\n",
    "\n",
    "nlp.add_pipe('language_detector', last=True)"
   ]
  },
  {
   "cell_type": "code",
   "execution_count": 66,
   "metadata": {},
   "outputs": [],
   "source": [
    "def is_english(text):\n",
    "\n",
    "    language_score = nlp(text)._.language\n",
    "\n",
    "    if language_score['language'] == 'en' and language_score['score'] > 0.5:\n",
    "        return True\n",
    "    else:\n",
    "        return False"
   ]
  },
  {
   "cell_type": "code",
   "execution_count": 67,
   "metadata": {},
   "outputs": [],
   "source": [
    "# reviews['english'] = reviews.apply(lambda row: is_english(row['text']), axis=1)"
   ]
  },
  {
   "cell_type": "code",
   "execution_count": 68,
   "metadata": {},
   "outputs": [],
   "source": [
    "# Count number of non-english reviews\n",
    "#print(f'# of non-english reviews = {reviews.shape[0]-sum(reviews[\"english\"])}')"
   ]
  },
  {
   "cell_type": "markdown",
   "metadata": {},
   "source": [
    "The above code confirms (?? check ??) that there are no non-english reviews but it is extremely slow to run so after running one time we can comment it or freeze the cells."
   ]
  },
  {
   "cell_type": "markdown",
   "metadata": {},
   "source": [
    "## 3) Exploratory data analysis"
   ]
  },
  {
   "cell_type": "code",
   "execution_count": 69,
   "metadata": {},
   "outputs": [],
   "source": [
    "def get_quantiles_IQR(df,col_name):\n",
    "\n",
    "    q1 = df[col_name].quantile(0.25)\n",
    "    q2 = df[col_name].quantile(0.5)\n",
    "    q3 = df[col_name].quantile(0.75)\n",
    "    IQR = q3-q1\n",
    "\n",
    "    return q1, q2, q3, IQR\n"
   ]
  },
  {
   "cell_type": "markdown",
   "metadata": {},
   "source": [
    "#### Score distribution"
   ]
  },
  {
   "cell_type": "code",
   "execution_count": 70,
   "metadata": {},
   "outputs": [
    {
     "data": {
      "text/plain": [
       "<Axes: >"
      ]
     },
     "execution_count": 70,
     "metadata": {},
     "output_type": "execute_result"
    },
    {
     "data": {
      "image/png": "[encoded data removed]",
      "text/plain": [
       "<Figure size 640x480 with 1 Axes>"
      ]
     },
     "metadata": {},
     "output_type": "display_data"
    }
   ],
   "source": [
    "reviews.boxplot('score')"
   ]
  },
  {
   "cell_type": "code",
   "execution_count": 71,
   "metadata": {},
   "outputs": [],
   "source": [
    "score_q1, score_q2, score_q3, score_IQR = get_quantiles_IQR(reviews,\"score\")"
   ]
  },
  {
   "cell_type": "code",
   "execution_count": 72,
   "metadata": {},
   "outputs": [
    {
     "data": {
      "text/plain": [
       "57102"
      ]
     },
     "execution_count": 72,
     "metadata": {},
     "output_type": "execute_result"
    }
   ],
   "source": [
    "# Check number of outliers\n",
    "reviews[reviews['score']< score_q1-1.5*score_IQR].shape[0]"
   ]
  },
  {
   "cell_type": "markdown",
   "metadata": {},
   "source": [
    "#### Helpfulness ratio distribution"
   ]
  },
  {
   "cell_type": "code",
   "execution_count": 73,
   "metadata": {},
   "outputs": [
    {
     "data": {
      "text/plain": [
       "<Axes: >"
      ]
     },
     "execution_count": 73,
     "metadata": {},
     "output_type": "execute_result"
    },
    {
     "data": {
      "image/png": "[encoded data removed]",
      "text/plain": [
       "<Figure size 640x480 with 1 Axes>"
      ]
     },
     "metadata": {},
     "output_type": "display_data"
    }
   ],
   "source": [
    "reviews.boxplot('helpfulness_ratio')"
   ]
  },
  {
   "cell_type": "code",
   "execution_count": 74,
   "metadata": {},
   "outputs": [
    {
     "name": "stdout",
     "output_type": "stream",
     "text": [
      "# reviews with helpfulness ratio > 1 out of all = 2 out of 393866\n"
     ]
    }
   ],
   "source": [
    "# Check number of reviews with helpfulness ratio higher than 1\n",
    "print(f\"# reviews with helpfulness ratio > 1 out of all = {reviews[reviews['helpfulness_ratio']>1].shape[0]} out of {reviews.shape[0]}\")"
   ]
  },
  {
   "cell_type": "markdown",
   "metadata": {},
   "source": [
    "There are only two reviews with a helpfulness ratio higher than one so we can remove them without much impact on the dataset."
   ]
  },
  {
   "cell_type": "code",
   "execution_count": 75,
   "metadata": {},
   "outputs": [],
   "source": [
    "mask = reviews['helpfulness_ratio']>1\n",
    "reviews = reviews[~mask]"
   ]
  },
  {
   "cell_type": "code",
   "execution_count": 76,
   "metadata": {},
   "outputs": [
    {
     "data": {
      "text/plain": [
       "393864"
      ]
     },
     "execution_count": 76,
     "metadata": {},
     "output_type": "execute_result"
    }
   ],
   "source": [
    "reviews.shape[0]"
   ]
  },
  {
   "cell_type": "code",
   "execution_count": 77,
   "metadata": {},
   "outputs": [
    {
     "data": {
      "text/plain": [
       "<Axes: >"
      ]
     },
     "execution_count": 77,
     "metadata": {},
     "output_type": "execute_result"
    },
    {
     "data": {
      "image/png": "[encoded data removed]",
      "text/plain": [
       "<Figure size 640x480 with 1 Axes>"
      ]
     },
     "metadata": {},
     "output_type": "display_data"
    }
   ],
   "source": [
    "reviews.boxplot('helpfulness_ratio')"
   ]
  },
  {
   "cell_type": "markdown",
   "metadata": {},
   "source": [
    "### Sentiment (label) distribution"
   ]
  },
  {
   "cell_type": "code",
   "execution_count": 78,
   "metadata": {},
   "outputs": [
    {
     "data": {
      "text/plain": [
       "<Axes: xlabel='sentiment'>"
      ]
     },
     "execution_count": 78,
     "metadata": {},
     "output_type": "execute_result"
    },
    {
     "data": {
      "image/png": "[encoded data removed]",
      "text/plain": [
       "<Figure size 640x480 with 1 Axes>"
      ]
     },
     "metadata": {},
     "output_type": "display_data"
    }
   ],
   "source": [
    "reviews.groupby(['sentiment']).size().plot.bar()"
   ]
  },
  {
   "cell_type": "code",
   "execution_count": 79,
   "metadata": {},
   "outputs": [
    {
     "name": "stdout",
     "output_type": "stream",
     "text": [
      "Reference accuracy for dumb model = 77.94 %\n"
     ]
    }
   ],
   "source": [
    "# Most of the reviews are positive (score >3) so a reference for accuracy is the value that considering all reviews as positive would give\n",
    "print(f\"Reference accuracy for dumb model = {reviews[reviews['sentiment']=='positive'].shape[0]/reviews.shape[0]*100:.2f} %\")"
   ]
  },
  {
   "cell_type": "markdown",
   "metadata": {},
   "source": [
    "#### Evolution of number of reviews per year"
   ]
  },
  {
   "cell_type": "code",
   "execution_count": 80,
   "metadata": {},
   "outputs": [
    {
     "data": {
      "text/plain": [
       "<Axes: xlabel='year'>"
      ]
     },
     "execution_count": 80,
     "metadata": {},
     "output_type": "execute_result"
    },
    {
     "data": {
      "image/png": "[encoded data removed]",
      "text/plain": [
       "<Figure size 640x480 with 1 Axes>"
      ]
     },
     "metadata": {},
     "output_type": "display_data"
    }
   ],
   "source": [
    "reviews.groupby(['year']).size().plot.bar()"
   ]
  },
  {
   "cell_type": "code",
   "execution_count": 81,
   "metadata": {},
   "outputs": [
    {
     "data": {
      "text/plain": [
       "393864"
      ]
     },
     "execution_count": 81,
     "metadata": {},
     "output_type": "execute_result"
    }
   ],
   "source": [
    "reviews.shape[0]"
   ]
  },
  {
   "cell_type": "markdown",
   "metadata": {},
   "source": [
    "#### Cumulative number of reviews"
   ]
  },
  {
   "cell_type": "code",
   "execution_count": 82,
   "metadata": {},
   "outputs": [],
   "source": [
    "yearly_reviews = reviews.groupby('year').size().to_frame()\n",
    "\n",
    "yearly_reviews.rename(columns={0: 'num_reviews'}, inplace=True)\n"
   ]
  },
  {
   "cell_type": "code",
   "execution_count": 83,
   "metadata": {},
   "outputs": [],
   "source": [
    "yearly_reviews['cum_reviews'] = yearly_reviews['num_reviews'].cumsum()"
   ]
  },
  {
   "cell_type": "code",
   "execution_count": 84,
   "metadata": {},
   "outputs": [
    {
     "data": {
      "text/plain": [
       "<Axes: xlabel='year'>"
      ]
     },
     "execution_count": 84,
     "metadata": {},
     "output_type": "execute_result"
    },
    {
     "data": {
      "image/png": "[encoded data removed]",
      "text/plain": [
       "<Figure size 640x480 with 1 Axes>"
      ]
     },
     "metadata": {},
     "output_type": "display_data"
    }
   ],
   "source": [
    "yearly_reviews['cum_reviews'].plot.bar()"
   ]
  },
  {
   "cell_type": "markdown",
   "metadata": {},
   "source": [
    "#### Cumulative number of reviewers"
   ]
  },
  {
   "cell_type": "code",
   "execution_count": 85,
   "metadata": {},
   "outputs": [],
   "source": [
    "yearly_reviewers = reviews[['user_id','year']].copy()\n",
    "\n",
    "yearly_reviewers = yearly_reviewers.drop_duplicates(subset='user_id',keep='first')"
   ]
  },
  {
   "cell_type": "code",
   "execution_count": 86,
   "metadata": {},
   "outputs": [],
   "source": [
    "yearly_reviewers = yearly_reviewers.groupby('year')['user_id'].nunique().to_frame()\n",
    "\n",
    "yearly_reviewers.rename(columns={'user_id': 'num_users'}, inplace=True)\n"
   ]
  },
  {
   "cell_type": "code",
   "execution_count": 87,
   "metadata": {},
   "outputs": [],
   "source": [
    "yearly_reviewers['cum_reviewers'] = yearly_reviewers['num_users'].cumsum()"
   ]
  },
  {
   "cell_type": "code",
   "execution_count": 88,
   "metadata": {},
   "outputs": [
    {
     "data": {
      "text/plain": [
       "year\n",
       "1999        4\n",
       "2000       14\n",
       "2001        5\n",
       "2002       32\n",
       "2003       70\n",
       "2004      323\n",
       "2005      757\n",
       "2006     3160\n",
       "2007    10763\n",
       "2008    14541\n",
       "2009    23599\n",
       "2010    38599\n",
       "2011    72710\n",
       "2012    91474\n",
       "Name: num_users, dtype: int64"
      ]
     },
     "execution_count": 88,
     "metadata": {},
     "output_type": "execute_result"
    }
   ],
   "source": [
    "yearly_reviewers['num_users']"
   ]
  },
  {
   "cell_type": "code",
   "execution_count": 89,
   "metadata": {},
   "outputs": [
    {
     "data": {
      "text/plain": [
       "<Axes: xlabel='year'>"
      ]
     },
     "execution_count": 89,
     "metadata": {},
     "output_type": "execute_result"
    },
    {
     "data": {
      "image/png": "[encoded data removed]",
      "text/plain": [
       "<Figure size 640x480 with 1 Axes>"
      ]
     },
     "metadata": {},
     "output_type": "display_data"
    }
   ],
   "source": [
    "yearly_reviewers['cum_reviewers'].plot.bar()"
   ]
  },
  {
   "cell_type": "markdown",
   "metadata": {},
   "source": [
    "#### Number of distinct products and users"
   ]
  },
  {
   "cell_type": "code",
   "execution_count": 90,
   "metadata": {},
   "outputs": [
    {
     "name": "stdout",
     "output_type": "stream",
     "text": [
      "# of distinct users = 256051\n"
     ]
    }
   ],
   "source": [
    "user_ids = list(reviews['user_id'].unique())\n",
    "\n",
    "print(f\"# of distinct users = {len(user_ids)}\")"
   ]
  },
  {
   "cell_type": "code",
   "execution_count": 91,
   "metadata": {},
   "outputs": [
    {
     "name": "stdout",
     "output_type": "stream",
     "text": [
      "# of distinct products = 70983\n"
     ]
    }
   ],
   "source": [
    "product_ids = list(reviews['product_id'].unique())\n",
    "\n",
    "print(f\"# of distinct products = {len(product_ids)}\")"
   ]
  },
  {
   "cell_type": "markdown",
   "metadata": {},
   "source": [
    "#### Distribution of number of reviewers per product"
   ]
  },
  {
   "cell_type": "code",
   "execution_count": 92,
   "metadata": {},
   "outputs": [
    {
     "data": {
      "text/plain": [
       "product_id\n",
       "0006641040    37\n",
       "141278509X     1\n",
       "2734888454     2\n",
       "2841233731     1\n",
       "7310172001    24\n",
       "              ..\n",
       "B009SA5NNW     3\n",
       "B009SF0TN6     1\n",
       "B009SR4OQ2     1\n",
       "B009WSNWC4     1\n",
       "B009WVB40S     1\n",
       "Name: user_id, Length: 70983, dtype: int64"
      ]
     },
     "execution_count": 92,
     "metadata": {},
     "output_type": "execute_result"
    }
   ],
   "source": [
    "reviews.groupby(['product_id'])['user_id'].count()"
   ]
  },
  {
   "cell_type": "code",
   "execution_count": 93,
   "metadata": {},
   "outputs": [],
   "source": [
    "reviews_per_product = reviews.groupby(['product_id'])['user_id'].count().to_numpy()"
   ]
  },
  {
   "cell_type": "code",
   "execution_count": 94,
   "metadata": {},
   "outputs": [],
   "source": [
    "import seaborn as sns"
   ]
  },
  {
   "cell_type": "code",
   "execution_count": 95,
   "metadata": {},
   "outputs": [
    {
     "data": {
      "text/plain": [
       "<Axes: ylabel='Count'>"
      ]
     },
     "execution_count": 95,
     "metadata": {},
     "output_type": "execute_result"
    },
    {
     "data": {
      "image/png": "[encoded data removed]",
      "text/plain": [
       "<Figure size 640x480 with 1 Axes>"
      ]
     },
     "metadata": {},
     "output_type": "display_data"
    }
   ],
   "source": [
    "sns.histplot(reviews_per_product, log_scale=True)"
   ]
  },
  {
   "cell_type": "code",
   "execution_count": 96,
   "metadata": {},
   "outputs": [
    {
     "data": {
      "text/plain": [
       "0.41859318428356085"
      ]
     },
     "execution_count": 96,
     "metadata": {},
     "output_type": "execute_result"
    }
   ],
   "source": [
    "(reviews_per_product ==1 ).sum() / reviews_per_product.shape[0]"
   ]
  },
  {
   "cell_type": "markdown",
   "metadata": {},
   "source": [
    "40% of products have only one reviewer."
   ]
  },
  {
   "cell_type": "markdown",
   "metadata": {},
   "source": [
    "#### Distribution of number of words in review text"
   ]
  },
  {
   "cell_type": "code",
   "execution_count": 97,
   "metadata": {},
   "outputs": [
    {
     "data": {
      "text/plain": [
       "<Axes: xlabel='word_count', ylabel='Count'>"
      ]
     },
     "execution_count": 97,
     "metadata": {},
     "output_type": "execute_result"
    },
    {
     "data": {
      "image/png": "[encoded data removed]",
      "text/plain": [
       "<Figure size 640x480 with 1 Axes>"
      ]
     },
     "metadata": {},
     "output_type": "display_data"
    }
   ],
   "source": [
    "sns.histplot(reviews['word_count'], log_scale=True)"
   ]
  },
  {
   "cell_type": "markdown",
   "metadata": {},
   "source": [
    "#### Q: How is the distribution of the number of words in the case of duplicated reviews? Are the duplicated reviews mostly short ones?"
   ]
  },
  {
   "cell_type": "code",
   "execution_count": 98,
   "metadata": {},
   "outputs": [
    {
     "data": {
      "text/plain": [
       "<Axes: xlabel='word_count', ylabel='Count'>"
      ]
     },
     "execution_count": 98,
     "metadata": {},
     "output_type": "execute_result"
    },
    {
     "data": {
      "image/png": "[encoded data removed]",
      "text/plain": [
       "<Figure size 640x480 with 1 Axes>"
      ]
     },
     "metadata": {},
     "output_type": "display_data"
    }
   ],
   "source": [
    "sns.histplot(reviews[reviews['duplicated']==True].word_count, log_scale=True)"
   ]
  },
  {
   "cell_type": "code",
   "execution_count": 99,
   "metadata": {},
   "outputs": [
    {
     "data": {
      "text/plain": [
       "<Axes: xlabel='word_count', ylabel='Count'>"
      ]
     },
     "execution_count": 99,
     "metadata": {},
     "output_type": "execute_result"
    },
    {
     "data": {
      "image/png": "[encoded data removed]",
      "text/plain": [
       "<Figure size 640x480 with 1 Axes>"
      ]
     },
     "metadata": {},
     "output_type": "display_data"
    }
   ],
   "source": [
    "sns.histplot(reviews, x=\"word_count\", hue=\"duplicated\", kde=True, log_scale=True)"
   ]
  },
  {
   "cell_type": "markdown",
   "metadata": {},
   "source": [
    "The fact that the duplicated reviews are spread along the number of words and are not restricted to just short reviews might indicate that they are not just the product of coincidence (people writing the same short sentence e.g.: \"this is nice!\"). However, the question still remains as to whether these are due to errors in the dataset or the reviewers not bothering to write original text and just using previous reviews for their own. One idea to deal with these reviews would be to assign them an average score if these are not too dispersed in time and score value."
   ]
  },
  {
   "cell_type": "markdown",
   "metadata": {},
   "source": [
    "# 4) Text preprocessing"
   ]
  },
  {
   "cell_type": "code",
   "execution_count": 100,
   "metadata": {},
   "outputs": [
    {
     "data": {
      "text/plain": [
       "5244"
      ]
     },
     "execution_count": 100,
     "metadata": {},
     "output_type": "execute_result"
    }
   ],
   "source": [
    "import gc\n",
    "gc.collect()"
   ]
  },
  {
   "cell_type": "markdown",
   "metadata": {},
   "source": [
    "### First cleansing of the text"
   ]
  },
  {
   "cell_type": "code",
   "execution_count": 101,
   "metadata": {},
   "outputs": [],
   "source": [
    "#%pip install nltk\n",
    "\n",
    "#nltk.download('stopwords')"
   ]
  },
  {
   "cell_type": "code",
   "execution_count": 102,
   "metadata": {},
   "outputs": [],
   "source": [
    "import nltk\n",
    "import string\n",
    "import re"
   ]
  },
  {
   "cell_type": "code",
   "execution_count": 103,
   "metadata": {},
   "outputs": [],
   "source": [
    "# This is just a first preprocessing function with steps that should be model independent\n",
    "# (some models use specific tokenizers)\n",
    "\n",
    "def preprocess_text(text, lower_case=True, remove_extra_wspaces=True, remove_punctuation=True,\n",
    "                    remove_stop_words=True, remove_urls=True, remove_html=True):\n",
    "    \n",
    "    clean_text = text\n",
    "\n",
    "    # Remove extra white spaces\n",
    "    if remove_extra_wspaces:\n",
    "        words = text.split()\n",
    "        clean_text = \" \".join(words)\n",
    "\n",
    "    # Remove URLs\n",
    "    if remove_urls:\n",
    "        url_regex_pattern = r\"(http|ftp|https)://([\\w_-]+(?:(?:\\.[\\w_-]+)+))([\\w.,@?^=%&:/~+#-]*[\\w@?^=%&/~+#-])?\"\n",
    "        clean_text = re.sub(url_regex_pattern, \"\", clean_text)\n",
    "        \n",
    "    # Remove HTML\n",
    "    if remove_html:\n",
    "        html_pattern = r\"<[^>]+>\"\n",
    "        clean_text = re.sub(html_pattern, \"\", clean_text)\n",
    "        \n",
    "    tokens = nltk.word_tokenize(clean_text)\n",
    "\n",
    "    stopwords = nltk.corpus.stopwords.words(\"english\")\n",
    "\n",
    "    # Lowercase tokens\n",
    "    if lower_case:\n",
    "        tokens = [token.lower() for token in tokens]\n",
    "\n",
    "    # Remove stop words\n",
    "    if remove_stop_words:\n",
    "        tokens = [token for token in tokens if token not in stopwords]\n",
    "\n",
    "    # Remove punctuation\n",
    "    if remove_punctuation:\n",
    "        tokens = [token for token in tokens if token not in string.punctuation]\n",
    "\n",
    "    return \" \".join(tokens)\n"
   ]
  },
  {
   "cell_type": "markdown",
   "metadata": {},
   "source": [
    "Note: the cleansing process step below takes about 8 min. "
   ]
  },
  {
   "cell_type": "code",
   "execution_count": 104,
   "metadata": {},
   "outputs": [],
   "source": [
    "reviews['preprocessed_text'] = reviews.apply(lambda row: preprocess_text(row['text']), axis=1)"
   ]
  },
  {
   "cell_type": "code",
   "execution_count": 105,
   "metadata": {},
   "outputs": [],
   "source": [
    "# Since the dataset is quite big and the text preprocessing takes time, save preprocessed data into new csv file\n",
    "reviews.to_csv('../data/processed_reviews.csv')"
   ]
  },
  {
   "cell_type": "markdown",
   "metadata": {},
   "source": [
    "### Lemmatization"
   ]
  },
  {
   "cell_type": "code",
   "execution_count": 106,
   "metadata": {},
   "outputs": [],
   "source": [
    "from nltk.stem import WordNetLemmatizer"
   ]
  },
  {
   "cell_type": "code",
   "execution_count": 107,
   "metadata": {},
   "outputs": [],
   "source": [
    "# Instantiate lemmatization\n",
    "lemmatizer = WordNetLemmatizer()"
   ]
  },
  {
   "cell_type": "code",
   "execution_count": 108,
   "metadata": {},
   "outputs": [],
   "source": [
    "def lemmatize_text(text, lemmatizer):\n",
    "\n",
    "    processed_words = [lemmatizer.lemmatize(word) for word in text.split()]\n",
    "\n",
    "    return \" \".join(processed_words)"
   ]
  },
  {
   "cell_type": "code",
   "execution_count": 109,
   "metadata": {},
   "outputs": [],
   "source": [
    "reviews['lemmatized_text'] = reviews.apply(lambda row: lemmatize_text(row['preprocessed_text'],lemmatizer), axis=1)"
   ]
  },
  {
   "cell_type": "code",
   "execution_count": 110,
   "metadata": {},
   "outputs": [],
   "source": [
    "# Since the dataset is quite big and the text preprocessing takes time, save preprocessed data into new csv file\n",
    "reviews.to_csv('../data/processed_reviews.csv')"
   ]
  }
 ],
 "metadata": {
  "kernelspec": {
   "display_name": "Python 3",
   "language": "python",
   "name": "python3"
  },
  "language_info": {
   "codemirror_mode": {
    "name": "ipython",
    "version": 3
   },
   "file_extension": ".py",
   "mimetype": "text/x-python",
   "name": "python",
   "nbconvert_exporter": "python",
   "pygments_lexer": "ipython3",
   "version": "3.10.11"
  }
 },
 "nbformat": 4,
 "nbformat_minor": 2
}
